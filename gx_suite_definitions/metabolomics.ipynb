{
 "cells": [
  {
   "cell_type": "code",
   "execution_count": 1,
   "metadata": {},
   "outputs": [],
   "source": [
    "import synapseclient\n",
    "\n",
    "import great_expectations as gx\n",
    "from great_expectations.data_context import FileDataContext\n",
    "\n",
    "context = FileDataContext.create('../great_expectations')\n",
    "\n",
    "from expectations.expect_column_values_to_have_list_length import ExpectColumnValuesToHaveListLength\n",
    "from expectations.expect_column_values_to_have_list_members import ExpectColumnValuesToHaveListMembers\n",
    "from expectations.expect_column_values_to_have_list_members_of_type import ExpectColumnValuesToHaveListMembersOfType\n"
   ]
  },
  {
   "cell_type": "markdown",
   "metadata": {},
   "source": [
    "# Create Expectation Suite for Metabolomics Data"
   ]
  },
  {
   "cell_type": "markdown",
   "metadata": {},
   "source": [
    "## Get Example Data File"
   ]
  },
  {
   "cell_type": "code",
   "execution_count": 2,
   "metadata": {},
   "outputs": [
    {
     "name": "stdout",
     "output_type": "stream",
     "text": [
      "Welcome, Brad Macdonald!\n",
      "\n"
     ]
    },
    {
     "name": "stderr",
     "output_type": "stream",
     "text": [
      "\n",
      "UPGRADE AVAILABLE\n",
      "\n",
      "A more recent version of the Synapse Client (3.1.1) is available. Your version (2.7.2) can be upgraded by typing:\n",
      "    pip install --upgrade synapseclient\n",
      "\n",
      "Python Synapse Client version 3.1.1 release notes\n",
      "\n",
      "https://python-docs.synapse.org/build/html/news.html\n",
      "\n"
     ]
    }
   ],
   "source": [
    "syn = synapseclient.Synapse()\n",
    "syn.login()\n"
   ]
  },
  {
   "cell_type": "code",
   "execution_count": 3,
   "metadata": {},
   "outputs": [],
   "source": [
    "metabolomics_data_file = syn.get(\"syn19276330\").path\n"
   ]
  },
  {
   "cell_type": "markdown",
   "metadata": {},
   "source": [
    "## Create Validator Object on Data File"
   ]
  },
  {
   "cell_type": "code",
   "execution_count": 4,
   "metadata": {},
   "outputs": [],
   "source": [
    "validator = context.sources.pandas_default.read_json(\n",
    "    metabolomics_data_file\n",
    ")\n",
    "validator.expectation_suite_name = \"metabolomics\"\n"
   ]
  },
  {
   "cell_type": "markdown",
   "metadata": {},
   "source": [
    "## Add Expectations to Validator Object For Each Column"
   ]
  },
  {
   "cell_type": "code",
   "execution_count": 6,
   "metadata": {},
   "outputs": [
    {
     "name": "stderr",
     "output_type": "stream",
     "text": [
      "[WARNING] /Users/bmacdonald/.local/share/virtualenvs/agora-data-tools-CK0oUlHB/lib/python3.9/site-packages/great_expectations/expectations/expectation.py:1481: UserWarning: `result_format` configured at the Validator-level will not be persisted. Please add the configuration to your Checkpoint config or checkpoint_run() method instead.\n",
      "  warnings.warn(\n",
      "\n"
     ]
    },
    {
     "data": {
      "application/vnd.jupyter.widget-view+json": {
       "model_id": "f4c537364c5b4f72a5825a5129a384bd",
       "version_major": 2,
       "version_minor": 0
      },
      "text/plain": [
       "Calculating Metrics:   0%|          | 0/8 [00:00<?, ?it/s]"
      ]
     },
     "metadata": {},
     "output_type": "display_data"
    },
    {
     "name": "stderr",
     "output_type": "stream",
     "text": [
      "[WARNING] /Users/bmacdonald/.local/share/virtualenvs/agora-data-tools-CK0oUlHB/lib/python3.9/site-packages/great_expectations/expectations/expectation.py:1481: UserWarning: `result_format` configured at the Validator-level will not be persisted. Please add the configuration to your Checkpoint config or checkpoint_run() method instead.\n",
      "  warnings.warn(\n",
      "\n"
     ]
    },
    {
     "data": {
      "application/vnd.jupyter.widget-view+json": {
       "model_id": "1d544227f29c4b37919b2ac0ea0aa36e",
       "version_major": 2,
       "version_minor": 0
      },
      "text/plain": [
       "Calculating Metrics:   0%|          | 0/6 [00:00<?, ?it/s]"
      ]
     },
     "metadata": {},
     "output_type": "display_data"
    },
    {
     "name": "stderr",
     "output_type": "stream",
     "text": [
      "[WARNING] /Users/bmacdonald/.local/share/virtualenvs/agora-data-tools-CK0oUlHB/lib/python3.9/site-packages/great_expectations/expectations/expectation.py:1481: UserWarning: `result_format` configured at the Validator-level will not be persisted. Please add the configuration to your Checkpoint config or checkpoint_run() method instead.\n",
      "  warnings.warn(\n",
      "\n"
     ]
    },
    {
     "data": {
      "application/vnd.jupyter.widget-view+json": {
       "model_id": "b488051e144b4be69093699bfedd1367",
       "version_major": 2,
       "version_minor": 0
      },
      "text/plain": [
       "Calculating Metrics:   0%|          | 0/8 [00:00<?, ?it/s]"
      ]
     },
     "metadata": {},
     "output_type": "display_data"
    },
    {
     "data": {
      "text/plain": [
       "{\n",
       "  \"success\": true,\n",
       "  \"result\": {\n",
       "    \"element_count\": 15401,\n",
       "    \"unexpected_count\": 0,\n",
       "    \"unexpected_percent\": 0.0,\n",
       "    \"partial_unexpected_list\": [],\n",
       "    \"missing_count\": 0,\n",
       "    \"missing_percent\": 0.0,\n",
       "    \"unexpected_percent_total\": 0.0,\n",
       "    \"unexpected_percent_nonmissing\": 0.0\n",
       "  },\n",
       "  \"meta\": {},\n",
       "  \"exception_info\": {\n",
       "    \"raised_exception\": false,\n",
       "    \"exception_traceback\": null,\n",
       "    \"exception_message\": null\n",
       "  }\n",
       "}"
      ]
     },
     "execution_count": 6,
     "metadata": {},
     "output_type": "execute_result"
    }
   ],
   "source": [
    "# ad_diagnosis_p_value\n",
    "validator.expect_column_values_to_be_of_type(\"ad_diagnosis_p_value\", \"list\")\n",
    "validator.expect_column_values_to_not_be_null(\"ad_diagnosis_p_value\")\n",
    "# for custom and experimental expectations you have to pass args as kwargs\n",
    "validator.expect_column_values_to_have_list_length(column=\"ad_diagnosis_p_value\", list_length=1)\n"
   ]
  },
  {
   "cell_type": "code",
   "execution_count": 7,
   "metadata": {},
   "outputs": [
    {
     "name": "stderr",
     "output_type": "stream",
     "text": [
      "[WARNING] /Users/bmacdonald/.local/share/virtualenvs/agora-data-tools-CK0oUlHB/lib/python3.9/site-packages/great_expectations/expectations/expectation.py:1481: UserWarning: `result_format` configured at the Validator-level will not be persisted. Please add the configuration to your Checkpoint config or checkpoint_run() method instead.\n",
      "  warnings.warn(\n",
      "\n"
     ]
    },
    {
     "data": {
      "application/vnd.jupyter.widget-view+json": {
       "model_id": "41beaaf0872040bc9aa37087a029a9a5",
       "version_major": 2,
       "version_minor": 0
      },
      "text/plain": [
       "Calculating Metrics:   0%|          | 0/8 [00:00<?, ?it/s]"
      ]
     },
     "metadata": {},
     "output_type": "display_data"
    },
    {
     "name": "stderr",
     "output_type": "stream",
     "text": [
      "[WARNING] /Users/bmacdonald/.local/share/virtualenvs/agora-data-tools-CK0oUlHB/lib/python3.9/site-packages/great_expectations/expectations/expectation.py:1481: UserWarning: `result_format` configured at the Validator-level will not be persisted. Please add the configuration to your Checkpoint config or checkpoint_run() method instead.\n",
      "  warnings.warn(\n",
      "\n"
     ]
    },
    {
     "data": {
      "application/vnd.jupyter.widget-view+json": {
       "model_id": "2ce6ab7d25454973aab632052d6ce7d9",
       "version_major": 2,
       "version_minor": 0
      },
      "text/plain": [
       "Calculating Metrics:   0%|          | 0/6 [00:00<?, ?it/s]"
      ]
     },
     "metadata": {},
     "output_type": "display_data"
    },
    {
     "name": "stderr",
     "output_type": "stream",
     "text": [
      "[WARNING] /Users/bmacdonald/.local/share/virtualenvs/agora-data-tools-CK0oUlHB/lib/python3.9/site-packages/great_expectations/expectations/expectation.py:1481: UserWarning: `result_format` configured at the Validator-level will not be persisted. Please add the configuration to your Checkpoint config or checkpoint_run() method instead.\n",
      "  warnings.warn(\n",
      "\n"
     ]
    },
    {
     "data": {
      "application/vnd.jupyter.widget-view+json": {
       "model_id": "b0af0b5ac4b149a79a2e18e2beb5dc7b",
       "version_major": 2,
       "version_minor": 0
      },
      "text/plain": [
       "Calculating Metrics:   0%|          | 0/9 [00:00<?, ?it/s]"
      ]
     },
     "metadata": {},
     "output_type": "display_data"
    },
    {
     "name": "stderr",
     "output_type": "stream",
     "text": [
      "[WARNING] /Users/bmacdonald/.local/share/virtualenvs/agora-data-tools-CK0oUlHB/lib/python3.9/site-packages/great_expectations/expectations/expectation.py:1481: UserWarning: `result_format` configured at the Validator-level will not be persisted. Please add the configuration to your Checkpoint config or checkpoint_run() method instead.\n",
      "  warnings.warn(\n",
      "\n"
     ]
    },
    {
     "data": {
      "application/vnd.jupyter.widget-view+json": {
       "model_id": "c0941cedf26a42699e5bf38f0b135d96",
       "version_major": 2,
       "version_minor": 0
      },
      "text/plain": [
       "Calculating Metrics:   0%|          | 0/8 [00:00<?, ?it/s]"
      ]
     },
     "metadata": {},
     "output_type": "display_data"
    },
    {
     "data": {
      "text/plain": [
       "{\n",
       "  \"success\": true,\n",
       "  \"result\": {\n",
       "    \"element_count\": 15401,\n",
       "    \"unexpected_count\": 0,\n",
       "    \"unexpected_percent\": 0.0,\n",
       "    \"partial_unexpected_list\": [],\n",
       "    \"missing_count\": 0,\n",
       "    \"missing_percent\": 0.0,\n",
       "    \"unexpected_percent_total\": 0.0,\n",
       "    \"unexpected_percent_nonmissing\": 0.0\n",
       "  },\n",
       "  \"meta\": {},\n",
       "  \"exception_info\": {\n",
       "    \"raised_exception\": false,\n",
       "    \"exception_traceback\": null,\n",
       "    \"exception_message\": null\n",
       "  }\n",
       "}"
      ]
     },
     "execution_count": 7,
     "metadata": {},
     "output_type": "execute_result"
    }
   ],
   "source": [
    "# associated gene name\n",
    "validator.expect_column_values_to_be_of_type(\"associated_gene_name\", \"str\")\n",
    "validator.expect_column_values_to_not_be_null(\"associated_gene_name\")\n",
    "validator.expect_column_value_lengths_to_be_between(\"associated_gene_name\", min_value=2, max_value=100)\n",
    "# allows all alphanumeric characters, underscores, periods, and dashes\n",
    "validator.expect_column_values_to_match_regex(\"associated_gene_name\", \"^[A-Za-z0-9_.-]+$\")\n"
   ]
  },
  {
   "cell_type": "code",
   "execution_count": 10,
   "metadata": {},
   "outputs": [
    {
     "name": "stderr",
     "output_type": "stream",
     "text": [
      "[WARNING] /Users/bmacdonald/.local/share/virtualenvs/agora-data-tools-CK0oUlHB/lib/python3.9/site-packages/great_expectations/expectations/expectation.py:1481: UserWarning: `result_format` configured at the Validator-level will not be persisted. Please add the configuration to your Checkpoint config or checkpoint_run() method instead.\n",
      "  warnings.warn(\n",
      "\n"
     ]
    },
    {
     "data": {
      "application/vnd.jupyter.widget-view+json": {
       "model_id": "a78fab9dbcdb40d1ac8b8358f04d24f3",
       "version_major": 2,
       "version_minor": 0
      },
      "text/plain": [
       "Calculating Metrics:   0%|          | 0/1 [00:00<?, ?it/s]"
      ]
     },
     "metadata": {},
     "output_type": "display_data"
    },
    {
     "data": {
      "application/vnd.jupyter.widget-view+json": {
       "model_id": "5ec009b25ca3463aba7f2e846cc24363",
       "version_major": 2,
       "version_minor": 0
      },
      "text/plain": [
       "Calculating Metrics:   0%|          | 0/6 [00:00<?, ?it/s]"
      ]
     },
     "metadata": {},
     "output_type": "display_data"
    },
    {
     "name": "stderr",
     "output_type": "stream",
     "text": [
      "[WARNING] /Users/bmacdonald/.local/share/virtualenvs/agora-data-tools-CK0oUlHB/lib/python3.9/site-packages/great_expectations/expectations/expectation.py:1481: UserWarning: `result_format` configured at the Validator-level will not be persisted. Please add the configuration to your Checkpoint config or checkpoint_run() method instead.\n",
      "  warnings.warn(\n",
      "\n"
     ]
    },
    {
     "data": {
      "application/vnd.jupyter.widget-view+json": {
       "model_id": "493a465181274e499a6fbce4c0f7b27b",
       "version_major": 2,
       "version_minor": 0
      },
      "text/plain": [
       "Calculating Metrics:   0%|          | 0/8 [00:00<?, ?it/s]"
      ]
     },
     "metadata": {},
     "output_type": "display_data"
    },
    {
     "data": {
      "text/plain": [
       "{\n",
       "  \"success\": true,\n",
       "  \"result\": {\n",
       "    \"element_count\": 15401,\n",
       "    \"unexpected_count\": 0,\n",
       "    \"unexpected_percent\": 0.0,\n",
       "    \"partial_unexpected_list\": [],\n",
       "    \"missing_count\": 0,\n",
       "    \"missing_percent\": 0.0,\n",
       "    \"unexpected_percent_total\": 0.0,\n",
       "    \"unexpected_percent_nonmissing\": 0.0\n",
       "  },\n",
       "  \"meta\": {},\n",
       "  \"exception_info\": {\n",
       "    \"raised_exception\": false,\n",
       "    \"exception_traceback\": null,\n",
       "    \"exception_message\": null\n",
       "  }\n",
       "}"
      ]
     },
     "execution_count": 10,
     "metadata": {},
     "output_type": "execute_result"
    }
   ],
   "source": [
    "# association p\n",
    "validator.expect_column_values_to_be_of_type(\"association_p\", \"float\")\n",
    "validator.expect_column_values_to_not_be_null(\"association_p\")\n",
    "validator.expect_column_values_to_be_between(\"association_p\", min_value=0, max_value=1)\n"
   ]
  },
  {
   "cell_type": "code",
   "execution_count": 7,
   "metadata": {},
   "outputs": [
    {
     "name": "stderr",
     "output_type": "stream",
     "text": [
      "[WARNING] /Users/bmacdonald/.local/share/virtualenvs/agora-data-tools-CK0oUlHB/lib/python3.9/site-packages/great_expectations/expectations/expectation.py:1481: UserWarning: `result_format` configured at the Validator-level will not be persisted. Please add the configuration to your Checkpoint config or checkpoint_run() method instead.\n",
      "  warnings.warn(\n",
      "\n"
     ]
    },
    {
     "data": {
      "application/vnd.jupyter.widget-view+json": {
       "model_id": "2f66cd579a1f44289f5ec18c5b50f975",
       "version_major": 2,
       "version_minor": 0
      },
      "text/plain": [
       "Calculating Metrics:   0%|          | 0/8 [00:00<?, ?it/s]"
      ]
     },
     "metadata": {},
     "output_type": "display_data"
    },
    {
     "name": "stderr",
     "output_type": "stream",
     "text": [
      "[WARNING] /Users/bmacdonald/.local/share/virtualenvs/agora-data-tools-CK0oUlHB/lib/python3.9/site-packages/great_expectations/expectations/expectation.py:1481: UserWarning: `result_format` configured at the Validator-level will not be persisted. Please add the configuration to your Checkpoint config or checkpoint_run() method instead.\n",
      "  warnings.warn(\n",
      "\n"
     ]
    },
    {
     "data": {
      "application/vnd.jupyter.widget-view+json": {
       "model_id": "ae0663687b95465d9ff4e550708a1448",
       "version_major": 2,
       "version_minor": 0
      },
      "text/plain": [
       "Calculating Metrics:   0%|          | 0/6 [00:00<?, ?it/s]"
      ]
     },
     "metadata": {},
     "output_type": "display_data"
    },
    {
     "name": "stderr",
     "output_type": "stream",
     "text": [
      "[WARNING] /Users/bmacdonald/.local/share/virtualenvs/agora-data-tools-CK0oUlHB/lib/python3.9/site-packages/great_expectations/expectations/expectation.py:1481: UserWarning: `result_format` configured at the Validator-level will not be persisted. Please add the configuration to your Checkpoint config or checkpoint_run() method instead.\n",
      "  warnings.warn(\n",
      "\n"
     ]
    },
    {
     "data": {
      "application/vnd.jupyter.widget-view+json": {
       "model_id": "1ffcdd369b8647f38b7fa57fea13af24",
       "version_major": 2,
       "version_minor": 0
      },
      "text/plain": [
       "Calculating Metrics:   0%|          | 0/8 [00:00<?, ?it/s]"
      ]
     },
     "metadata": {},
     "output_type": "display_data"
    },
    {
     "name": "stderr",
     "output_type": "stream",
     "text": [
      "[WARNING] /Users/bmacdonald/.local/share/virtualenvs/agora-data-tools-CK0oUlHB/lib/python3.9/site-packages/great_expectations/expectations/expectation.py:1481: UserWarning: `result_format` configured at the Validator-level will not be persisted. Please add the configuration to your Checkpoint config or checkpoint_run() method instead.\n",
      "  warnings.warn(\n",
      "\n"
     ]
    },
    {
     "data": {
      "application/vnd.jupyter.widget-view+json": {
       "model_id": "eb2f8998dc9940f4abdb768edcc5c519",
       "version_major": 2,
       "version_minor": 0
      },
      "text/plain": [
       "Calculating Metrics:   0%|          | 0/8 [00:00<?, ?it/s]"
      ]
     },
     "metadata": {},
     "output_type": "display_data"
    },
    {
     "name": "stderr",
     "output_type": "stream",
     "text": [
      "[WARNING] /Users/bmacdonald/.local/share/virtualenvs/agora-data-tools-CK0oUlHB/lib/python3.9/site-packages/great_expectations/expectations/expectation.py:1481: UserWarning: `result_format` configured at the Validator-level will not be persisted. Please add the configuration to your Checkpoint config or checkpoint_run() method instead.\n",
      "  warnings.warn(\n",
      "\n"
     ]
    },
    {
     "data": {
      "application/vnd.jupyter.widget-view+json": {
       "model_id": "7e12be44809d43649032b758674cb1ed",
       "version_major": 2,
       "version_minor": 0
      },
      "text/plain": [
       "Calculating Metrics:   0%|          | 0/8 [00:00<?, ?it/s]"
      ]
     },
     "metadata": {},
     "output_type": "display_data"
    },
    {
     "data": {
      "text/plain": [
       "{\n",
       "  \"success\": false,\n",
       "  \"result\": {\n",
       "    \"element_count\": 15401,\n",
       "    \"unexpected_count\": 15401,\n",
       "    \"unexpected_percent\": 100.0,\n",
       "    \"partial_unexpected_list\": [\n",
       "      [\n",
       "        \"CN\",\n",
       "        \"AD\"\n",
       "      ],\n",
       "      [\n",
       "        \"CN\",\n",
       "        \"AD\"\n",
       "      ],\n",
       "      [\n",
       "        \"CN\",\n",
       "        \"AD\"\n",
       "      ],\n",
       "      [\n",
       "        \"CN\",\n",
       "        \"AD\"\n",
       "      ],\n",
       "      [\n",
       "        \"CN\",\n",
       "        \"AD\"\n",
       "      ],\n",
       "      [\n",
       "        \"CN\",\n",
       "        \"AD\"\n",
       "      ],\n",
       "      [\n",
       "        \"CN\",\n",
       "        \"AD\"\n",
       "      ],\n",
       "      [\n",
       "        \"CN\",\n",
       "        \"AD\"\n",
       "      ],\n",
       "      [\n",
       "        \"CN\",\n",
       "        \"AD\"\n",
       "      ],\n",
       "      [\n",
       "        \"CN\",\n",
       "        \"AD\"\n",
       "      ],\n",
       "      [\n",
       "        \"CN\",\n",
       "        \"AD\"\n",
       "      ],\n",
       "      [\n",
       "        \"CN\",\n",
       "        \"AD\"\n",
       "      ],\n",
       "      [\n",
       "        \"CN\",\n",
       "        \"AD\"\n",
       "      ],\n",
       "      [\n",
       "        \"CN\",\n",
       "        \"AD\"\n",
       "      ],\n",
       "      [\n",
       "        \"CN\",\n",
       "        \"AD\"\n",
       "      ],\n",
       "      [\n",
       "        \"CN\",\n",
       "        \"AD\"\n",
       "      ],\n",
       "      [\n",
       "        \"CN\",\n",
       "        \"AD\"\n",
       "      ],\n",
       "      [\n",
       "        \"CN\",\n",
       "        \"AD\"\n",
       "      ],\n",
       "      [\n",
       "        \"CN\",\n",
       "        \"AD\"\n",
       "      ],\n",
       "      [\n",
       "        \"CN\",\n",
       "        \"AD\"\n",
       "      ]\n",
       "    ],\n",
       "    \"missing_count\": 0,\n",
       "    \"missing_percent\": 0.0,\n",
       "    \"unexpected_percent_total\": 100.0,\n",
       "    \"unexpected_percent_nonmissing\": 100.0\n",
       "  },\n",
       "  \"meta\": {},\n",
       "  \"exception_info\": {\n",
       "    \"raised_exception\": false,\n",
       "    \"exception_traceback\": null,\n",
       "    \"exception_message\": null\n",
       "  }\n",
       "}"
      ]
     },
     "execution_count": 7,
     "metadata": {},
     "output_type": "execute_result"
    }
   ],
   "source": [
    "# boxplot_group_names\n",
    "validator.expect_column_values_to_be_of_type(\"boxplot_group_names\", \"list\")\n",
    "validator.expect_column_values_to_not_be_null(\"boxplot_group_names\")\n",
    "validator.expect_column_values_to_have_list_length(column=\"boxplot_group_names\", list_length=2)\n",
    "validator.expect_column_values_to_have_list_members(column=\"boxplot_group_names\", list_members={\"AD\", \"CN\"})\n",
    "validator.expect_column_values_to_have_list_members_of_type(column=\"boxplot_group_names\", member_type=\"str\")\n"
   ]
  },
  {
   "cell_type": "code",
   "execution_count": 12,
   "metadata": {},
   "outputs": [
    {
     "name": "stderr",
     "output_type": "stream",
     "text": [
      "[WARNING] <>:6: DeprecationWarning: invalid escape sequence \\d\n",
      "\n",
      "[WARNING] <>:6: DeprecationWarning: invalid escape sequence \\d\n",
      "\n",
      "[WARNING] /var/folders/sr/3g4hnkfd4ld306tty7kqf1rr0000gr/T/ipykernel_96253/941748422.py:6: DeprecationWarning: invalid escape sequence \\d\n",
      "  validator.expect_column_values_to_match_regex(\"ensembl_gene_id\", \"^ENSG\\d{11}$\")\n",
      "\n",
      "[WARNING] /Users/bmacdonald/.local/share/virtualenvs/agora-data-tools-CK0oUlHB/lib/python3.9/site-packages/great_expectations/expectations/expectation.py:1481: UserWarning: `result_format` configured at the Validator-level will not be persisted. Please add the configuration to your Checkpoint config or checkpoint_run() method instead.\n",
      "  warnings.warn(\n",
      "\n"
     ]
    },
    {
     "data": {
      "application/vnd.jupyter.widget-view+json": {
       "model_id": "f266269930714707a19a8e0f64261e80",
       "version_major": 2,
       "version_minor": 0
      },
      "text/plain": [
       "Calculating Metrics:   0%|          | 0/8 [00:00<?, ?it/s]"
      ]
     },
     "metadata": {},
     "output_type": "display_data"
    },
    {
     "name": "stderr",
     "output_type": "stream",
     "text": [
      "[WARNING] /Users/bmacdonald/.local/share/virtualenvs/agora-data-tools-CK0oUlHB/lib/python3.9/site-packages/great_expectations/expectations/expectation.py:1481: UserWarning: `result_format` configured at the Validator-level will not be persisted. Please add the configuration to your Checkpoint config or checkpoint_run() method instead.\n",
      "  warnings.warn(\n",
      "\n"
     ]
    },
    {
     "data": {
      "application/vnd.jupyter.widget-view+json": {
       "model_id": "057402dbdd134d9497c9cb8d53efaf69",
       "version_major": 2,
       "version_minor": 0
      },
      "text/plain": [
       "Calculating Metrics:   0%|          | 0/6 [00:00<?, ?it/s]"
      ]
     },
     "metadata": {},
     "output_type": "display_data"
    },
    {
     "name": "stderr",
     "output_type": "stream",
     "text": [
      "[WARNING] /Users/bmacdonald/.local/share/virtualenvs/agora-data-tools-CK0oUlHB/lib/python3.9/site-packages/great_expectations/expectations/expectation.py:1481: UserWarning: `result_format` configured at the Validator-level will not be persisted. Please add the configuration to your Checkpoint config or checkpoint_run() method instead.\n",
      "  warnings.warn(\n",
      "\n"
     ]
    },
    {
     "data": {
      "application/vnd.jupyter.widget-view+json": {
       "model_id": "4cba97dcb6a045fd971d8bf80a2de7fc",
       "version_major": 2,
       "version_minor": 0
      },
      "text/plain": [
       "Calculating Metrics:   0%|          | 0/9 [00:00<?, ?it/s]"
      ]
     },
     "metadata": {},
     "output_type": "display_data"
    },
    {
     "name": "stderr",
     "output_type": "stream",
     "text": [
      "[WARNING] /Users/bmacdonald/.local/share/virtualenvs/agora-data-tools-CK0oUlHB/lib/python3.9/site-packages/great_expectations/expectations/expectation.py:1481: UserWarning: `result_format` configured at the Validator-level will not be persisted. Please add the configuration to your Checkpoint config or checkpoint_run() method instead.\n",
      "  warnings.warn(\n",
      "\n"
     ]
    },
    {
     "data": {
      "application/vnd.jupyter.widget-view+json": {
       "model_id": "b85466c38ed849d7aab2bf79b954e6f2",
       "version_major": 2,
       "version_minor": 0
      },
      "text/plain": [
       "Calculating Metrics:   0%|          | 0/8 [00:00<?, ?it/s]"
      ]
     },
     "metadata": {},
     "output_type": "display_data"
    },
    {
     "name": "stderr",
     "output_type": "stream",
     "text": [
      "[WARNING] /Users/bmacdonald/.local/share/virtualenvs/agora-data-tools-CK0oUlHB/lib/python3.9/site-packages/great_expectations/expectations/expectation.py:1481: UserWarning: `result_format` configured at the Validator-level will not be persisted. Please add the configuration to your Checkpoint config or checkpoint_run() method instead.\n",
      "  warnings.warn(\n",
      "\n"
     ]
    },
    {
     "data": {
      "application/vnd.jupyter.widget-view+json": {
       "model_id": "e3a5f2ba38c448be89b03cb6840172f1",
       "version_major": 2,
       "version_minor": 0
      },
      "text/plain": [
       "Calculating Metrics:   0%|          | 0/8 [00:00<?, ?it/s]"
      ]
     },
     "metadata": {},
     "output_type": "display_data"
    },
    {
     "data": {
      "text/plain": [
       "{\n",
       "  \"success\": true,\n",
       "  \"result\": {\n",
       "    \"element_count\": 15401,\n",
       "    \"unexpected_count\": 0,\n",
       "    \"unexpected_percent\": 0.0,\n",
       "    \"partial_unexpected_list\": [],\n",
       "    \"missing_count\": 0,\n",
       "    \"missing_percent\": 0.0,\n",
       "    \"unexpected_percent_total\": 0.0,\n",
       "    \"unexpected_percent_nonmissing\": 0.0\n",
       "  },\n",
       "  \"meta\": {},\n",
       "  \"exception_info\": {\n",
       "    \"raised_exception\": false,\n",
       "    \"exception_traceback\": null,\n",
       "    \"exception_message\": null\n",
       "  }\n",
       "}"
      ]
     },
     "execution_count": 12,
     "metadata": {},
     "output_type": "execute_result"
    }
   ],
   "source": [
    "# ensembl gene id\n",
    "validator.expect_column_values_to_be_of_type(\"ensembl_gene_id\", \"str\")\n",
    "validator.expect_column_values_to_not_be_null(\"ensembl_gene_id\")\n",
    "validator.expect_column_value_lengths_to_equal(\"ensembl_gene_id\", 15)\n",
    "# checks format and allowed chatacters\n",
    "validator.expect_column_values_to_match_regex(\"ensembl_gene_id\", \"^ENSG\\d{11}$\")\n",
    "validator.expect_column_values_to_be_unique(\"ensembl_gene_id\")\n"
   ]
  },
  {
   "cell_type": "code",
   "execution_count": 13,
   "metadata": {},
   "outputs": [
    {
     "name": "stderr",
     "output_type": "stream",
     "text": [
      "[WARNING] /Users/bmacdonald/.local/share/virtualenvs/agora-data-tools-CK0oUlHB/lib/python3.9/site-packages/great_expectations/expectations/expectation.py:1481: UserWarning: `result_format` configured at the Validator-level will not be persisted. Please add the configuration to your Checkpoint config or checkpoint_run() method instead.\n",
      "  warnings.warn(\n",
      "\n"
     ]
    },
    {
     "data": {
      "application/vnd.jupyter.widget-view+json": {
       "model_id": "11c5a37fff9d49fd890b0cc8f02d14df",
       "version_major": 2,
       "version_minor": 0
      },
      "text/plain": [
       "Calculating Metrics:   0%|          | 0/1 [00:00<?, ?it/s]"
      ]
     },
     "metadata": {},
     "output_type": "display_data"
    },
    {
     "data": {
      "application/vnd.jupyter.widget-view+json": {
       "model_id": "a1b541fa43b64135a8ab0273e4919646",
       "version_major": 2,
       "version_minor": 0
      },
      "text/plain": [
       "Calculating Metrics:   0%|          | 0/6 [00:00<?, ?it/s]"
      ]
     },
     "metadata": {},
     "output_type": "display_data"
    },
    {
     "name": "stderr",
     "output_type": "stream",
     "text": [
      "[WARNING] /Users/bmacdonald/.local/share/virtualenvs/agora-data-tools-CK0oUlHB/lib/python3.9/site-packages/great_expectations/expectations/expectation.py:1481: UserWarning: `result_format` configured at the Validator-level will not be persisted. Please add the configuration to your Checkpoint config or checkpoint_run() method instead.\n",
      "  warnings.warn(\n",
      "\n"
     ]
    },
    {
     "data": {
      "application/vnd.jupyter.widget-view+json": {
       "model_id": "5fc9987b670c47a2998ee613b4f7d991",
       "version_major": 2,
       "version_minor": 0
      },
      "text/plain": [
       "Calculating Metrics:   0%|          | 0/8 [00:00<?, ?it/s]"
      ]
     },
     "metadata": {},
     "output_type": "display_data"
    },
    {
     "data": {
      "text/plain": [
       "{\n",
       "  \"success\": true,\n",
       "  \"result\": {\n",
       "    \"element_count\": 15401,\n",
       "    \"unexpected_count\": 0,\n",
       "    \"unexpected_percent\": 0.0,\n",
       "    \"partial_unexpected_list\": [],\n",
       "    \"missing_count\": 0,\n",
       "    \"missing_percent\": 0.0,\n",
       "    \"unexpected_percent_total\": 0.0,\n",
       "    \"unexpected_percent_nonmissing\": 0.0\n",
       "  },\n",
       "  \"meta\": {},\n",
       "  \"exception_info\": {\n",
       "    \"raised_exception\": false,\n",
       "    \"exception_traceback\": null,\n",
       "    \"exception_message\": null\n",
       "  }\n",
       "}"
      ]
     },
     "execution_count": 13,
     "metadata": {},
     "output_type": "execute_result"
    }
   ],
   "source": [
    "# gene_wide_p_threshold_1kgp\n",
    "validator.expect_column_values_to_be_of_type(\"gene_wide_p_threshold_1kgp\", \"float\")\n",
    "validator.expect_column_values_to_not_be_null(\"gene_wide_p_threshold_1kgp\")\n",
    "validator.expect_column_values_to_be_between(\"gene_wide_p_threshold_1kgp\", min_value=0, max_value=0.05)\n"
   ]
  },
  {
   "cell_type": "code",
   "execution_count": 14,
   "metadata": {},
   "outputs": [
    {
     "name": "stderr",
     "output_type": "stream",
     "text": [
      "[WARNING] <>:6: DeprecationWarning: invalid escape sequence \\s\n",
      "\n",
      "[WARNING] <>:6: DeprecationWarning: invalid escape sequence \\s\n",
      "\n",
      "[WARNING] /var/folders/sr/3g4hnkfd4ld306tty7kqf1rr0000gr/T/ipykernel_96253/324192676.py:6: DeprecationWarning: invalid escape sequence \\s\n",
      "  validator.expect_column_values_to_match_regex(\"metabolite_full_name\", \"^[A-Za-z0-9\\s\\-:.()+]+$\")\n",
      "\n",
      "[WARNING] /Users/bmacdonald/.local/share/virtualenvs/agora-data-tools-CK0oUlHB/lib/python3.9/site-packages/great_expectations/expectations/expectation.py:1481: UserWarning: `result_format` configured at the Validator-level will not be persisted. Please add the configuration to your Checkpoint config or checkpoint_run() method instead.\n",
      "  warnings.warn(\n",
      "\n"
     ]
    },
    {
     "data": {
      "application/vnd.jupyter.widget-view+json": {
       "model_id": "1467477fcd044b95bf46b67e64a852d6",
       "version_major": 2,
       "version_minor": 0
      },
      "text/plain": [
       "Calculating Metrics:   0%|          | 0/8 [00:00<?, ?it/s]"
      ]
     },
     "metadata": {},
     "output_type": "display_data"
    },
    {
     "name": "stderr",
     "output_type": "stream",
     "text": [
      "[WARNING] /Users/bmacdonald/.local/share/virtualenvs/agora-data-tools-CK0oUlHB/lib/python3.9/site-packages/great_expectations/expectations/expectation.py:1481: UserWarning: `result_format` configured at the Validator-level will not be persisted. Please add the configuration to your Checkpoint config or checkpoint_run() method instead.\n",
      "  warnings.warn(\n",
      "\n"
     ]
    },
    {
     "data": {
      "application/vnd.jupyter.widget-view+json": {
       "model_id": "f0b596a63f1a4778bb9b1d061ed21eea",
       "version_major": 2,
       "version_minor": 0
      },
      "text/plain": [
       "Calculating Metrics:   0%|          | 0/6 [00:00<?, ?it/s]"
      ]
     },
     "metadata": {},
     "output_type": "display_data"
    },
    {
     "name": "stderr",
     "output_type": "stream",
     "text": [
      "[WARNING] /Users/bmacdonald/.local/share/virtualenvs/agora-data-tools-CK0oUlHB/lib/python3.9/site-packages/great_expectations/expectations/expectation.py:1481: UserWarning: `result_format` configured at the Validator-level will not be persisted. Please add the configuration to your Checkpoint config or checkpoint_run() method instead.\n",
      "  warnings.warn(\n",
      "\n"
     ]
    },
    {
     "data": {
      "application/vnd.jupyter.widget-view+json": {
       "model_id": "95cf998112694e17b961fcc2e25056dd",
       "version_major": 2,
       "version_minor": 0
      },
      "text/plain": [
       "Calculating Metrics:   0%|          | 0/9 [00:00<?, ?it/s]"
      ]
     },
     "metadata": {},
     "output_type": "display_data"
    },
    {
     "name": "stderr",
     "output_type": "stream",
     "text": [
      "[WARNING] /Users/bmacdonald/.local/share/virtualenvs/agora-data-tools-CK0oUlHB/lib/python3.9/site-packages/great_expectations/expectations/expectation.py:1481: UserWarning: `result_format` configured at the Validator-level will not be persisted. Please add the configuration to your Checkpoint config or checkpoint_run() method instead.\n",
      "  warnings.warn(\n",
      "\n"
     ]
    },
    {
     "data": {
      "application/vnd.jupyter.widget-view+json": {
       "model_id": "330a9028d20948e3a82f059fd3842c0b",
       "version_major": 2,
       "version_minor": 0
      },
      "text/plain": [
       "Calculating Metrics:   0%|          | 0/8 [00:00<?, ?it/s]"
      ]
     },
     "metadata": {},
     "output_type": "display_data"
    },
    {
     "data": {
      "text/plain": [
       "{\n",
       "  \"success\": true,\n",
       "  \"result\": {\n",
       "    \"element_count\": 15401,\n",
       "    \"unexpected_count\": 0,\n",
       "    \"unexpected_percent\": 0.0,\n",
       "    \"partial_unexpected_list\": [],\n",
       "    \"missing_count\": 0,\n",
       "    \"missing_percent\": 0.0,\n",
       "    \"unexpected_percent_total\": 0.0,\n",
       "    \"unexpected_percent_nonmissing\": 0.0\n",
       "  },\n",
       "  \"meta\": {},\n",
       "  \"exception_info\": {\n",
       "    \"raised_exception\": false,\n",
       "    \"exception_traceback\": null,\n",
       "    \"exception_message\": null\n",
       "  }\n",
       "}"
      ]
     },
     "execution_count": 14,
     "metadata": {},
     "output_type": "execute_result"
    }
   ],
   "source": [
    "# metabolite full name\n",
    "validator.expect_column_values_to_be_of_type(\"metabolite_full_name\", \"str\")\n",
    "validator.expect_column_values_to_not_be_null(\"metabolite_full_name\")\n",
    "validator.expect_column_value_lengths_to_be_between(\"metabolite_full_name\", min_value=2, max_value=100)  \n",
    "# allows all alphanumeric characters, dashes, parentheses, hyphens and spaces\n",
    "validator.expect_column_values_to_match_regex(\"metabolite_full_name\", \"^[A-Za-z0-9\\s\\-:.()+]+$\")\n"
   ]
  },
  {
   "cell_type": "code",
   "execution_count": 15,
   "metadata": {},
   "outputs": [
    {
     "name": "stderr",
     "output_type": "stream",
     "text": [
      "[WARNING] /Users/bmacdonald/.local/share/virtualenvs/agora-data-tools-CK0oUlHB/lib/python3.9/site-packages/great_expectations/expectations/expectation.py:1481: UserWarning: `result_format` configured at the Validator-level will not be persisted. Please add the configuration to your Checkpoint config or checkpoint_run() method instead.\n",
      "  warnings.warn(\n",
      "\n"
     ]
    },
    {
     "data": {
      "application/vnd.jupyter.widget-view+json": {
       "model_id": "c61a8c0b5c3a46ffac75ab349a39d52d",
       "version_major": 2,
       "version_minor": 0
      },
      "text/plain": [
       "Calculating Metrics:   0%|          | 0/8 [00:00<?, ?it/s]"
      ]
     },
     "metadata": {},
     "output_type": "display_data"
    },
    {
     "name": "stderr",
     "output_type": "stream",
     "text": [
      "[WARNING] /Users/bmacdonald/.local/share/virtualenvs/agora-data-tools-CK0oUlHB/lib/python3.9/site-packages/great_expectations/expectations/expectation.py:1481: UserWarning: `result_format` configured at the Validator-level will not be persisted. Please add the configuration to your Checkpoint config or checkpoint_run() method instead.\n",
      "  warnings.warn(\n",
      "\n"
     ]
    },
    {
     "data": {
      "application/vnd.jupyter.widget-view+json": {
       "model_id": "123691c200ca458aa538f1a8a000606c",
       "version_major": 2,
       "version_minor": 0
      },
      "text/plain": [
       "Calculating Metrics:   0%|          | 0/6 [00:00<?, ?it/s]"
      ]
     },
     "metadata": {},
     "output_type": "display_data"
    },
    {
     "name": "stderr",
     "output_type": "stream",
     "text": [
      "[WARNING] /Users/bmacdonald/.local/share/virtualenvs/agora-data-tools-CK0oUlHB/lib/python3.9/site-packages/great_expectations/expectations/expectation.py:1481: UserWarning: `result_format` configured at the Validator-level will not be persisted. Please add the configuration to your Checkpoint config or checkpoint_run() method instead.\n",
      "  warnings.warn(\n",
      "\n"
     ]
    },
    {
     "data": {
      "application/vnd.jupyter.widget-view+json": {
       "model_id": "9f1cb93f83a44d5aa71a7289e34179da",
       "version_major": 2,
       "version_minor": 0
      },
      "text/plain": [
       "Calculating Metrics:   0%|          | 0/9 [00:00<?, ?it/s]"
      ]
     },
     "metadata": {},
     "output_type": "display_data"
    },
    {
     "name": "stderr",
     "output_type": "stream",
     "text": [
      "[WARNING] /Users/bmacdonald/.local/share/virtualenvs/agora-data-tools-CK0oUlHB/lib/python3.9/site-packages/great_expectations/expectations/expectation.py:1481: UserWarning: `result_format` configured at the Validator-level will not be persisted. Please add the configuration to your Checkpoint config or checkpoint_run() method instead.\n",
      "  warnings.warn(\n",
      "\n"
     ]
    },
    {
     "data": {
      "application/vnd.jupyter.widget-view+json": {
       "model_id": "292c28624ebe4a9d9306cbf407be6198",
       "version_major": 2,
       "version_minor": 0
      },
      "text/plain": [
       "Calculating Metrics:   0%|          | 0/8 [00:00<?, ?it/s]"
      ]
     },
     "metadata": {},
     "output_type": "display_data"
    },
    {
     "data": {
      "text/plain": [
       "{\n",
       "  \"success\": true,\n",
       "  \"result\": {\n",
       "    \"element_count\": 15401,\n",
       "    \"unexpected_count\": 0,\n",
       "    \"unexpected_percent\": 0.0,\n",
       "    \"partial_unexpected_list\": [],\n",
       "    \"missing_count\": 0,\n",
       "    \"missing_percent\": 0.0,\n",
       "    \"unexpected_percent_total\": 0.0,\n",
       "    \"unexpected_percent_nonmissing\": 0.0\n",
       "  },\n",
       "  \"meta\": {},\n",
       "  \"exception_info\": {\n",
       "    \"raised_exception\": false,\n",
       "    \"exception_traceback\": null,\n",
       "    \"exception_message\": null\n",
       "  }\n",
       "}"
      ]
     },
     "execution_count": 15,
     "metadata": {},
     "output_type": "execute_result"
    }
   ],
   "source": [
    "# metabolite ID\n",
    "validator.expect_column_values_to_be_of_type(\"metabolite_id\", \"str\")\n",
    "validator.expect_column_values_to_not_be_null(\"metabolite_id\")\n",
    "validator.expect_column_value_lengths_to_be_between(\"metabolite_id\", min_value=2, max_value=100)\n",
    "# allows all alphanumeric characters and periods\n",
    "validator.expect_column_values_to_match_regex(\"metabolite_id\", \"^[A-Za-z0-9.]+$\")\n"
   ]
  },
  {
   "cell_type": "code",
   "execution_count": 16,
   "metadata": {},
   "outputs": [
    {
     "name": "stderr",
     "output_type": "stream",
     "text": [
      "[WARNING] /Users/bmacdonald/.local/share/virtualenvs/agora-data-tools-CK0oUlHB/lib/python3.9/site-packages/great_expectations/expectations/expectation.py:1481: UserWarning: `result_format` configured at the Validator-level will not be persisted. Please add the configuration to your Checkpoint config or checkpoint_run() method instead.\n",
      "  warnings.warn(\n",
      "\n"
     ]
    },
    {
     "data": {
      "application/vnd.jupyter.widget-view+json": {
       "model_id": "e64b9a076a434e50a97c1d4543481708",
       "version_major": 2,
       "version_minor": 0
      },
      "text/plain": [
       "Calculating Metrics:   0%|          | 0/8 [00:00<?, ?it/s]"
      ]
     },
     "metadata": {},
     "output_type": "display_data"
    },
    {
     "name": "stderr",
     "output_type": "stream",
     "text": [
      "[WARNING] /Users/bmacdonald/.local/share/virtualenvs/agora-data-tools-CK0oUlHB/lib/python3.9/site-packages/great_expectations/expectations/expectation.py:1481: UserWarning: `result_format` configured at the Validator-level will not be persisted. Please add the configuration to your Checkpoint config or checkpoint_run() method instead.\n",
      "  warnings.warn(\n",
      "\n"
     ]
    },
    {
     "data": {
      "application/vnd.jupyter.widget-view+json": {
       "model_id": "aa988d4085d74946877d98bbeeeafb1a",
       "version_major": 2,
       "version_minor": 0
      },
      "text/plain": [
       "Calculating Metrics:   0%|          | 0/6 [00:00<?, ?it/s]"
      ]
     },
     "metadata": {},
     "output_type": "display_data"
    },
    {
     "name": "stderr",
     "output_type": "stream",
     "text": [
      "[WARNING] /Users/bmacdonald/.local/share/virtualenvs/agora-data-tools-CK0oUlHB/lib/python3.9/site-packages/great_expectations/expectations/expectation.py:1481: UserWarning: `result_format` configured at the Validator-level will not be persisted. Please add the configuration to your Checkpoint config or checkpoint_run() method instead.\n",
      "  warnings.warn(\n",
      "\n"
     ]
    },
    {
     "data": {
      "application/vnd.jupyter.widget-view+json": {
       "model_id": "0e5bb3e60757468fabec5df836db3d41",
       "version_major": 2,
       "version_minor": 0
      },
      "text/plain": [
       "Calculating Metrics:   0%|          | 0/8 [00:00<?, ?it/s]"
      ]
     },
     "metadata": {},
     "output_type": "display_data"
    },
    {
     "data": {
      "text/plain": [
       "{\n",
       "  \"success\": true,\n",
       "  \"result\": {\n",
       "    \"element_count\": 15401,\n",
       "    \"unexpected_count\": 0,\n",
       "    \"unexpected_percent\": 0.0,\n",
       "    \"partial_unexpected_list\": [],\n",
       "    \"missing_count\": 0,\n",
       "    \"missing_percent\": 0.0,\n",
       "    \"unexpected_percent_total\": 0.0,\n",
       "    \"unexpected_percent_nonmissing\": 0.0\n",
       "  },\n",
       "  \"meta\": {},\n",
       "  \"exception_info\": {\n",
       "    \"raised_exception\": false,\n",
       "    \"exception_traceback\": null,\n",
       "    \"exception_message\": null\n",
       "  }\n",
       "}"
      ]
     },
     "execution_count": 16,
     "metadata": {},
     "output_type": "execute_result"
    }
   ],
   "source": [
    "# n_per_group\n",
    "validator.expect_column_values_to_be_of_type(\"n_per_group\", \"list\")\n",
    "validator.expect_column_values_to_not_be_null(\"n_per_group\")\n",
    "validator.expect_column_values_to_have_list_length(column=\"n_per_group\", list_length=2)\n"
   ]
  },
  {
   "cell_type": "code",
   "execution_count": 17,
   "metadata": {},
   "outputs": [
    {
     "name": "stderr",
     "output_type": "stream",
     "text": [
      "[WARNING] /Users/bmacdonald/.local/share/virtualenvs/agora-data-tools-CK0oUlHB/lib/python3.9/site-packages/great_expectations/expectations/expectation.py:1481: UserWarning: `result_format` configured at the Validator-level will not be persisted. Please add the configuration to your Checkpoint config or checkpoint_run() method instead.\n",
      "  warnings.warn(\n",
      "\n"
     ]
    },
    {
     "data": {
      "application/vnd.jupyter.widget-view+json": {
       "model_id": "cf76cf007f3241c0bbadc847d694f619",
       "version_major": 2,
       "version_minor": 0
      },
      "text/plain": [
       "Calculating Metrics:   0%|          | 0/8 [00:00<?, ?it/s]"
      ]
     },
     "metadata": {},
     "output_type": "display_data"
    },
    {
     "name": "stderr",
     "output_type": "stream",
     "text": [
      "[WARNING] /Users/bmacdonald/.local/share/virtualenvs/agora-data-tools-CK0oUlHB/lib/python3.9/site-packages/great_expectations/expectations/expectation.py:1481: UserWarning: `result_format` configured at the Validator-level will not be persisted. Please add the configuration to your Checkpoint config or checkpoint_run() method instead.\n",
      "  warnings.warn(\n",
      "\n"
     ]
    },
    {
     "data": {
      "application/vnd.jupyter.widget-view+json": {
       "model_id": "8b699cdfd6374a10a2ddb81e901aa5ac",
       "version_major": 2,
       "version_minor": 0
      },
      "text/plain": [
       "Calculating Metrics:   0%|          | 0/6 [00:00<?, ?it/s]"
      ]
     },
     "metadata": {},
     "output_type": "display_data"
    },
    {
     "name": "stderr",
     "output_type": "stream",
     "text": [
      "[WARNING] /Users/bmacdonald/.local/share/virtualenvs/agora-data-tools-CK0oUlHB/lib/python3.9/site-packages/great_expectations/expectations/expectation.py:1481: UserWarning: `result_format` configured at the Validator-level will not be persisted. Please add the configuration to your Checkpoint config or checkpoint_run() method instead.\n",
      "  warnings.warn(\n",
      "\n"
     ]
    },
    {
     "data": {
      "application/vnd.jupyter.widget-view+json": {
       "model_id": "01606d5ca4d94cfbb0168e7ec52faa3b",
       "version_major": 2,
       "version_minor": 0
      },
      "text/plain": [
       "Calculating Metrics:   0%|          | 0/8 [00:00<?, ?it/s]"
      ]
     },
     "metadata": {},
     "output_type": "display_data"
    },
    {
     "data": {
      "text/plain": [
       "{\n",
       "  \"success\": true,\n",
       "  \"result\": {\n",
       "    \"element_count\": 15401,\n",
       "    \"unexpected_count\": 0,\n",
       "    \"unexpected_percent\": 0.0,\n",
       "    \"partial_unexpected_list\": [],\n",
       "    \"missing_count\": 0,\n",
       "    \"missing_percent\": 0.0,\n",
       "    \"unexpected_percent_total\": 0.0,\n",
       "    \"unexpected_percent_nonmissing\": 0.0\n",
       "  },\n",
       "  \"meta\": {},\n",
       "  \"exception_info\": {\n",
       "    \"raised_exception\": false,\n",
       "    \"exception_traceback\": null,\n",
       "    \"exception_message\": null\n",
       "  }\n",
       "}"
      ]
     },
     "execution_count": 17,
     "metadata": {},
     "output_type": "execute_result"
    }
   ],
   "source": [
    "# transposed_boxplot_stats\n",
    "validator.expect_column_values_to_be_of_type(\"transposed_boxplot_stats\", \"list\")\n",
    "validator.expect_column_values_to_not_be_null(\"transposed_boxplot_stats\")\n",
    "validator.expect_column_values_to_have_list_length(column=\"transposed_boxplot_stats\", list_length=2)\n"
   ]
  },
  {
   "cell_type": "markdown",
   "metadata": {},
   "source": [
    "## Save Expectation Suite"
   ]
  },
  {
   "cell_type": "code",
   "execution_count": 18,
   "metadata": {},
   "outputs": [],
   "source": [
    "validator.save_expectation_suite(discard_failed_expectations=False)\n"
   ]
  },
  {
   "cell_type": "markdown",
   "metadata": {},
   "source": [
    "## Create Checkpoint and View Results"
   ]
  },
  {
   "cell_type": "code",
   "execution_count": 19,
   "metadata": {},
   "outputs": [
    {
     "data": {
      "application/vnd.jupyter.widget-view+json": {
       "model_id": "6251fe0fa1064666bd243ca32bdb2fb4",
       "version_major": 2,
       "version_minor": 0
      },
      "text/plain": [
       "Calculating Metrics:   0%|          | 0/172 [00:00<?, ?it/s]"
      ]
     },
     "metadata": {},
     "output_type": "display_data"
    }
   ],
   "source": [
    "checkpoint = context.add_or_update_checkpoint(\n",
    "    name=\"agora-test-checkpoint\",\n",
    "    validator=validator,\n",
    ")\n",
    "checkpoint_result = checkpoint.run()\n",
    "context.view_validation_result(checkpoint_result)\n"
   ]
  },
  {
   "cell_type": "markdown",
   "metadata": {},
   "source": [
    "## Run Expectation Suite from JSON"
   ]
  },
  {
   "cell_type": "code",
   "execution_count": 21,
   "metadata": {},
   "outputs": [
    {
     "data": {
      "application/vnd.jupyter.widget-view+json": {
       "model_id": "24a179fc902641d397735d789e2ae0bc",
       "version_major": 2,
       "version_minor": 0
      },
      "text/plain": [
       "Calculating Metrics:   0%|          | 0/106 [00:00<?, ?it/s]"
      ]
     },
     "metadata": {},
     "output_type": "display_data"
    },
    {
     "data": {
      "application/vnd.jupyter.widget-view+json": {
       "model_id": "322d8ce03999402eb5fd30506f9f961e",
       "version_major": 2,
       "version_minor": 0
      },
      "text/plain": [
       "Calculating Metrics:   0%|          | 0/172 [00:00<?, ?it/s]"
      ]
     },
     "metadata": {},
     "output_type": "display_data"
    }
   ],
   "source": [
    "#core logic for running the existing expectations\n",
    "test_dataset = \"./staging/metabolomics.json\"\n",
    "validator = context.sources.pandas_default.read_json(\n",
    "    test_dataset,\n",
    ")\n",
    "expectation_suite = context.get_expectation_suite(\"metabolomics\")\n",
    "validator.expectation_suite = expectation_suite\n",
    "validator.validate()\n",
    "checkpoint = context.add_or_update_checkpoint(\n",
    "    name=\"metabolomics\",\n",
    "    validator=validator,\n",
    ")\n",
    "checkpoint_result = checkpoint.run()\n"
   ]
  },
  {
   "cell_type": "code",
   "execution_count": 22,
   "metadata": {},
   "outputs": [
    {
     "data": {
      "text/plain": [
       "{\n",
       "  \"success\": true,\n",
       "  \"results\": [\n",
       "    {\n",
       "      \"success\": true,\n",
       "      \"expectation_config\": {\n",
       "        \"expectation_type\": \"expect_column_values_to_be_of_type\",\n",
       "        \"kwargs\": {\n",
       "          \"batch_id\": \"default_pandas_datasource-#ephemeral_pandas_asset\",\n",
       "          \"column\": \"ad_diagnosis_p_value\",\n",
       "          \"type_\": \"list\"\n",
       "        },\n",
       "        \"meta\": {}\n",
       "      },\n",
       "      \"result\": {\n",
       "        \"element_count\": 15401,\n",
       "        \"missing_count\": 0,\n",
       "        \"missing_percent\": 0.0,\n",
       "        \"partial_unexpected_counts\": [],\n",
       "        \"partial_unexpected_index_list\": [],\n",
       "        \"partial_unexpected_list\": [],\n",
       "        \"unexpected_count\": 0,\n",
       "        \"unexpected_percent\": 0.0,\n",
       "        \"unexpected_percent_nonmissing\": 0.0,\n",
       "        \"unexpected_percent_total\": 0.0\n",
       "      },\n",
       "      \"meta\": {},\n",
       "      \"exception_info\": {\n",
       "        \"exception_message\": null,\n",
       "        \"exception_traceback\": null,\n",
       "        \"raised_exception\": false\n",
       "      }\n",
       "    },\n",
       "    {\n",
       "      \"success\": true,\n",
       "      \"expectation_config\": {\n",
       "        \"expectation_type\": \"expect_column_values_to_not_be_null\",\n",
       "        \"kwargs\": {\n",
       "          \"batch_id\": \"default_pandas_datasource-#ephemeral_pandas_asset\",\n",
       "          \"column\": \"ad_diagnosis_p_value\"\n",
       "        },\n",
       "        \"meta\": {}\n",
       "      },\n",
       "      \"result\": {\n",
       "        \"element_count\": 15401,\n",
       "        \"partial_unexpected_counts\": [],\n",
       "        \"partial_unexpected_index_list\": [],\n",
       "        \"partial_unexpected_list\": [],\n",
       "        \"unexpected_count\": 0,\n",
       "        \"unexpected_percent\": 0.0\n",
       "      },\n",
       "      \"meta\": {},\n",
       "      \"exception_info\": {\n",
       "        \"exception_message\": null,\n",
       "        \"exception_traceback\": null,\n",
       "        \"raised_exception\": false\n",
       "      }\n",
       "    },\n",
       "    {\n",
       "      \"success\": true,\n",
       "      \"expectation_config\": {\n",
       "        \"expectation_type\": \"expect_column_values_to_have_list_length\",\n",
       "        \"kwargs\": {\n",
       "          \"batch_id\": \"default_pandas_datasource-#ephemeral_pandas_asset\",\n",
       "          \"column\": \"ad_diagnosis_p_value\",\n",
       "          \"list_length\": 1\n",
       "        },\n",
       "        \"meta\": {}\n",
       "      },\n",
       "      \"result\": {\n",
       "        \"element_count\": 15401,\n",
       "        \"missing_count\": 0,\n",
       "        \"missing_percent\": 0.0,\n",
       "        \"partial_unexpected_counts\": [],\n",
       "        \"partial_unexpected_index_list\": [],\n",
       "        \"partial_unexpected_list\": [],\n",
       "        \"unexpected_count\": 0,\n",
       "        \"unexpected_percent\": 0.0,\n",
       "        \"unexpected_percent_nonmissing\": 0.0,\n",
       "        \"unexpected_percent_total\": 0.0\n",
       "      },\n",
       "      \"meta\": {},\n",
       "      \"exception_info\": {\n",
       "        \"exception_message\": null,\n",
       "        \"exception_traceback\": null,\n",
       "        \"raised_exception\": false\n",
       "      }\n",
       "    },\n",
       "    {\n",
       "      \"success\": true,\n",
       "      \"expectation_config\": {\n",
       "        \"expectation_type\": \"expect_column_values_to_be_of_type\",\n",
       "        \"kwargs\": {\n",
       "          \"batch_id\": \"default_pandas_datasource-#ephemeral_pandas_asset\",\n",
       "          \"column\": \"associated_gene_name\",\n",
       "          \"type_\": \"str\"\n",
       "        },\n",
       "        \"meta\": {}\n",
       "      },\n",
       "      \"result\": {\n",
       "        \"element_count\": 15401,\n",
       "        \"missing_count\": 0,\n",
       "        \"missing_percent\": 0.0,\n",
       "        \"partial_unexpected_counts\": [],\n",
       "        \"partial_unexpected_index_list\": [],\n",
       "        \"partial_unexpected_list\": [],\n",
       "        \"unexpected_count\": 0,\n",
       "        \"unexpected_percent\": 0.0,\n",
       "        \"unexpected_percent_nonmissing\": 0.0,\n",
       "        \"unexpected_percent_total\": 0.0\n",
       "      },\n",
       "      \"meta\": {},\n",
       "      \"exception_info\": {\n",
       "        \"exception_message\": null,\n",
       "        \"exception_traceback\": null,\n",
       "        \"raised_exception\": false\n",
       "      }\n",
       "    },\n",
       "    {\n",
       "      \"success\": true,\n",
       "      \"expectation_config\": {\n",
       "        \"expectation_type\": \"expect_column_values_to_not_be_null\",\n",
       "        \"kwargs\": {\n",
       "          \"batch_id\": \"default_pandas_datasource-#ephemeral_pandas_asset\",\n",
       "          \"column\": \"associated_gene_name\"\n",
       "        },\n",
       "        \"meta\": {}\n",
       "      },\n",
       "      \"result\": {\n",
       "        \"element_count\": 15401,\n",
       "        \"partial_unexpected_counts\": [],\n",
       "        \"partial_unexpected_index_list\": [],\n",
       "        \"partial_unexpected_list\": [],\n",
       "        \"unexpected_count\": 0,\n",
       "        \"unexpected_percent\": 0.0\n",
       "      },\n",
       "      \"meta\": {},\n",
       "      \"exception_info\": {\n",
       "        \"exception_message\": null,\n",
       "        \"exception_traceback\": null,\n",
       "        \"raised_exception\": false\n",
       "      }\n",
       "    },\n",
       "    {\n",
       "      \"success\": true,\n",
       "      \"expectation_config\": {\n",
       "        \"expectation_type\": \"expect_column_value_lengths_to_be_between\",\n",
       "        \"kwargs\": {\n",
       "          \"batch_id\": \"default_pandas_datasource-#ephemeral_pandas_asset\",\n",
       "          \"column\": \"associated_gene_name\",\n",
       "          \"max_value\": 25,\n",
       "          \"min_value\": 1\n",
       "        },\n",
       "        \"meta\": {}\n",
       "      },\n",
       "      \"result\": {\n",
       "        \"element_count\": 15401,\n",
       "        \"missing_count\": 0,\n",
       "        \"missing_percent\": 0.0,\n",
       "        \"partial_unexpected_counts\": [],\n",
       "        \"partial_unexpected_index_list\": [],\n",
       "        \"partial_unexpected_list\": [],\n",
       "        \"unexpected_count\": 0,\n",
       "        \"unexpected_percent\": 0.0,\n",
       "        \"unexpected_percent_nonmissing\": 0.0,\n",
       "        \"unexpected_percent_total\": 0.0\n",
       "      },\n",
       "      \"meta\": {},\n",
       "      \"exception_info\": {\n",
       "        \"exception_message\": null,\n",
       "        \"exception_traceback\": null,\n",
       "        \"raised_exception\": false\n",
       "      }\n",
       "    },\n",
       "    {\n",
       "      \"success\": true,\n",
       "      \"expectation_config\": {\n",
       "        \"expectation_type\": \"expect_column_values_to_match_regex\",\n",
       "        \"kwargs\": {\n",
       "          \"batch_id\": \"default_pandas_datasource-#ephemeral_pandas_asset\",\n",
       "          \"column\": \"associated_gene_name\",\n",
       "          \"regex\": \"^[A-Za-z0-9_.-]+$\"\n",
       "        },\n",
       "        \"meta\": {}\n",
       "      },\n",
       "      \"result\": {\n",
       "        \"element_count\": 15401,\n",
       "        \"missing_count\": 0,\n",
       "        \"missing_percent\": 0.0,\n",
       "        \"partial_unexpected_counts\": [],\n",
       "        \"partial_unexpected_index_list\": [],\n",
       "        \"partial_unexpected_list\": [],\n",
       "        \"unexpected_count\": 0,\n",
       "        \"unexpected_percent\": 0.0,\n",
       "        \"unexpected_percent_nonmissing\": 0.0,\n",
       "        \"unexpected_percent_total\": 0.0\n",
       "      },\n",
       "      \"meta\": {},\n",
       "      \"exception_info\": {\n",
       "        \"exception_message\": null,\n",
       "        \"exception_traceback\": null,\n",
       "        \"raised_exception\": false\n",
       "      }\n",
       "    },\n",
       "    {\n",
       "      \"success\": true,\n",
       "      \"expectation_config\": {\n",
       "        \"expectation_type\": \"expect_column_values_to_be_of_type\",\n",
       "        \"kwargs\": {\n",
       "          \"batch_id\": \"default_pandas_datasource-#ephemeral_pandas_asset\",\n",
       "          \"column\": \"association_p\",\n",
       "          \"type_\": \"float\"\n",
       "        },\n",
       "        \"meta\": {}\n",
       "      },\n",
       "      \"result\": {\n",
       "        \"observed_value\": \"float64\"\n",
       "      },\n",
       "      \"meta\": {},\n",
       "      \"exception_info\": {\n",
       "        \"exception_message\": null,\n",
       "        \"exception_traceback\": null,\n",
       "        \"raised_exception\": false\n",
       "      }\n",
       "    },\n",
       "    {\n",
       "      \"success\": true,\n",
       "      \"expectation_config\": {\n",
       "        \"expectation_type\": \"expect_column_values_to_not_be_null\",\n",
       "        \"kwargs\": {\n",
       "          \"batch_id\": \"default_pandas_datasource-#ephemeral_pandas_asset\",\n",
       "          \"column\": \"association_p\"\n",
       "        },\n",
       "        \"meta\": {}\n",
       "      },\n",
       "      \"result\": {\n",
       "        \"element_count\": 15401,\n",
       "        \"partial_unexpected_counts\": [],\n",
       "        \"partial_unexpected_index_list\": [],\n",
       "        \"partial_unexpected_list\": [],\n",
       "        \"unexpected_count\": 0,\n",
       "        \"unexpected_percent\": 0.0\n",
       "      },\n",
       "      \"meta\": {},\n",
       "      \"exception_info\": {\n",
       "        \"exception_message\": null,\n",
       "        \"exception_traceback\": null,\n",
       "        \"raised_exception\": false\n",
       "      }\n",
       "    },\n",
       "    {\n",
       "      \"success\": true,\n",
       "      \"expectation_config\": {\n",
       "        \"expectation_type\": \"expect_column_values_to_be_between\",\n",
       "        \"kwargs\": {\n",
       "          \"batch_id\": \"default_pandas_datasource-#ephemeral_pandas_asset\",\n",
       "          \"column\": \"association_p\",\n",
       "          \"max_value\": 1,\n",
       "          \"min_value\": 0\n",
       "        },\n",
       "        \"meta\": {}\n",
       "      },\n",
       "      \"result\": {\n",
       "        \"element_count\": 15401,\n",
       "        \"missing_count\": 0,\n",
       "        \"missing_percent\": 0.0,\n",
       "        \"partial_unexpected_counts\": [],\n",
       "        \"partial_unexpected_index_list\": [],\n",
       "        \"partial_unexpected_list\": [],\n",
       "        \"unexpected_count\": 0,\n",
       "        \"unexpected_percent\": 0.0,\n",
       "        \"unexpected_percent_nonmissing\": 0.0,\n",
       "        \"unexpected_percent_total\": 0.0\n",
       "      },\n",
       "      \"meta\": {},\n",
       "      \"exception_info\": {\n",
       "        \"exception_message\": null,\n",
       "        \"exception_traceback\": null,\n",
       "        \"raised_exception\": false\n",
       "      }\n",
       "    },\n",
       "    {\n",
       "      \"success\": true,\n",
       "      \"expectation_config\": {\n",
       "        \"expectation_type\": \"expect_column_values_to_be_of_type\",\n",
       "        \"kwargs\": {\n",
       "          \"batch_id\": \"default_pandas_datasource-#ephemeral_pandas_asset\",\n",
       "          \"column\": \"boxplot_group_names\",\n",
       "          \"type_\": \"list\"\n",
       "        },\n",
       "        \"meta\": {}\n",
       "      },\n",
       "      \"result\": {\n",
       "        \"element_count\": 15401,\n",
       "        \"missing_count\": 0,\n",
       "        \"missing_percent\": 0.0,\n",
       "        \"partial_unexpected_counts\": [],\n",
       "        \"partial_unexpected_index_list\": [],\n",
       "        \"partial_unexpected_list\": [],\n",
       "        \"unexpected_count\": 0,\n",
       "        \"unexpected_percent\": 0.0,\n",
       "        \"unexpected_percent_nonmissing\": 0.0,\n",
       "        \"unexpected_percent_total\": 0.0\n",
       "      },\n",
       "      \"meta\": {},\n",
       "      \"exception_info\": {\n",
       "        \"exception_message\": null,\n",
       "        \"exception_traceback\": null,\n",
       "        \"raised_exception\": false\n",
       "      }\n",
       "    },\n",
       "    {\n",
       "      \"success\": true,\n",
       "      \"expectation_config\": {\n",
       "        \"expectation_type\": \"expect_column_values_to_not_be_null\",\n",
       "        \"kwargs\": {\n",
       "          \"batch_id\": \"default_pandas_datasource-#ephemeral_pandas_asset\",\n",
       "          \"column\": \"boxplot_group_names\"\n",
       "        },\n",
       "        \"meta\": {}\n",
       "      },\n",
       "      \"result\": {\n",
       "        \"element_count\": 15401,\n",
       "        \"partial_unexpected_counts\": [],\n",
       "        \"partial_unexpected_index_list\": [],\n",
       "        \"partial_unexpected_list\": [],\n",
       "        \"unexpected_count\": 0,\n",
       "        \"unexpected_percent\": 0.0\n",
       "      },\n",
       "      \"meta\": {},\n",
       "      \"exception_info\": {\n",
       "        \"exception_message\": null,\n",
       "        \"exception_traceback\": null,\n",
       "        \"raised_exception\": false\n",
       "      }\n",
       "    },\n",
       "    {\n",
       "      \"success\": true,\n",
       "      \"expectation_config\": {\n",
       "        \"expectation_type\": \"expect_column_values_to_have_list_length\",\n",
       "        \"kwargs\": {\n",
       "          \"batch_id\": \"default_pandas_datasource-#ephemeral_pandas_asset\",\n",
       "          \"column\": \"boxplot_group_names\",\n",
       "          \"list_length\": 2\n",
       "        },\n",
       "        \"meta\": {}\n",
       "      },\n",
       "      \"result\": {\n",
       "        \"element_count\": 15401,\n",
       "        \"missing_count\": 0,\n",
       "        \"missing_percent\": 0.0,\n",
       "        \"partial_unexpected_counts\": [],\n",
       "        \"partial_unexpected_index_list\": [],\n",
       "        \"partial_unexpected_list\": [],\n",
       "        \"unexpected_count\": 0,\n",
       "        \"unexpected_percent\": 0.0,\n",
       "        \"unexpected_percent_nonmissing\": 0.0,\n",
       "        \"unexpected_percent_total\": 0.0\n",
       "      },\n",
       "      \"meta\": {},\n",
       "      \"exception_info\": {\n",
       "        \"exception_message\": null,\n",
       "        \"exception_traceback\": null,\n",
       "        \"raised_exception\": false\n",
       "      }\n",
       "    },\n",
       "    {\n",
       "      \"success\": true,\n",
       "      \"expectation_config\": {\n",
       "        \"expectation_type\": \"expect_column_values_to_be_of_type\",\n",
       "        \"kwargs\": {\n",
       "          \"batch_id\": \"default_pandas_datasource-#ephemeral_pandas_asset\",\n",
       "          \"column\": \"ensembl_gene_id\",\n",
       "          \"type_\": \"str\"\n",
       "        },\n",
       "        \"meta\": {}\n",
       "      },\n",
       "      \"result\": {\n",
       "        \"element_count\": 15401,\n",
       "        \"missing_count\": 0,\n",
       "        \"missing_percent\": 0.0,\n",
       "        \"partial_unexpected_counts\": [],\n",
       "        \"partial_unexpected_index_list\": [],\n",
       "        \"partial_unexpected_list\": [],\n",
       "        \"unexpected_count\": 0,\n",
       "        \"unexpected_percent\": 0.0,\n",
       "        \"unexpected_percent_nonmissing\": 0.0,\n",
       "        \"unexpected_percent_total\": 0.0\n",
       "      },\n",
       "      \"meta\": {},\n",
       "      \"exception_info\": {\n",
       "        \"exception_message\": null,\n",
       "        \"exception_traceback\": null,\n",
       "        \"raised_exception\": false\n",
       "      }\n",
       "    },\n",
       "    {\n",
       "      \"success\": true,\n",
       "      \"expectation_config\": {\n",
       "        \"expectation_type\": \"expect_column_values_to_not_be_null\",\n",
       "        \"kwargs\": {\n",
       "          \"batch_id\": \"default_pandas_datasource-#ephemeral_pandas_asset\",\n",
       "          \"column\": \"ensembl_gene_id\"\n",
       "        },\n",
       "        \"meta\": {}\n",
       "      },\n",
       "      \"result\": {\n",
       "        \"element_count\": 15401,\n",
       "        \"partial_unexpected_counts\": [],\n",
       "        \"partial_unexpected_index_list\": [],\n",
       "        \"partial_unexpected_list\": [],\n",
       "        \"unexpected_count\": 0,\n",
       "        \"unexpected_percent\": 0.0\n",
       "      },\n",
       "      \"meta\": {},\n",
       "      \"exception_info\": {\n",
       "        \"exception_message\": null,\n",
       "        \"exception_traceback\": null,\n",
       "        \"raised_exception\": false\n",
       "      }\n",
       "    },\n",
       "    {\n",
       "      \"success\": true,\n",
       "      \"expectation_config\": {\n",
       "        \"expectation_type\": \"expect_column_value_lengths_to_equal\",\n",
       "        \"kwargs\": {\n",
       "          \"batch_id\": \"default_pandas_datasource-#ephemeral_pandas_asset\",\n",
       "          \"column\": \"ensembl_gene_id\",\n",
       "          \"value\": 15\n",
       "        },\n",
       "        \"meta\": {}\n",
       "      },\n",
       "      \"result\": {\n",
       "        \"element_count\": 15401,\n",
       "        \"missing_count\": 0,\n",
       "        \"missing_percent\": 0.0,\n",
       "        \"partial_unexpected_counts\": [],\n",
       "        \"partial_unexpected_index_list\": [],\n",
       "        \"partial_unexpected_list\": [],\n",
       "        \"unexpected_count\": 0,\n",
       "        \"unexpected_percent\": 0.0,\n",
       "        \"unexpected_percent_nonmissing\": 0.0,\n",
       "        \"unexpected_percent_total\": 0.0\n",
       "      },\n",
       "      \"meta\": {},\n",
       "      \"exception_info\": {\n",
       "        \"exception_message\": null,\n",
       "        \"exception_traceback\": null,\n",
       "        \"raised_exception\": false\n",
       "      }\n",
       "    },\n",
       "    {\n",
       "      \"success\": true,\n",
       "      \"expectation_config\": {\n",
       "        \"expectation_type\": \"expect_column_values_to_match_regex\",\n",
       "        \"kwargs\": {\n",
       "          \"batch_id\": \"default_pandas_datasource-#ephemeral_pandas_asset\",\n",
       "          \"column\": \"ensembl_gene_id\",\n",
       "          \"regex\": \"^ENSG\\\\d{11}$\"\n",
       "        },\n",
       "        \"meta\": {}\n",
       "      },\n",
       "      \"result\": {\n",
       "        \"element_count\": 15401,\n",
       "        \"missing_count\": 0,\n",
       "        \"missing_percent\": 0.0,\n",
       "        \"partial_unexpected_counts\": [],\n",
       "        \"partial_unexpected_index_list\": [],\n",
       "        \"partial_unexpected_list\": [],\n",
       "        \"unexpected_count\": 0,\n",
       "        \"unexpected_percent\": 0.0,\n",
       "        \"unexpected_percent_nonmissing\": 0.0,\n",
       "        \"unexpected_percent_total\": 0.0\n",
       "      },\n",
       "      \"meta\": {},\n",
       "      \"exception_info\": {\n",
       "        \"exception_message\": null,\n",
       "        \"exception_traceback\": null,\n",
       "        \"raised_exception\": false\n",
       "      }\n",
       "    },\n",
       "    {\n",
       "      \"success\": true,\n",
       "      \"expectation_config\": {\n",
       "        \"expectation_type\": \"expect_column_values_to_be_unique\",\n",
       "        \"kwargs\": {\n",
       "          \"batch_id\": \"default_pandas_datasource-#ephemeral_pandas_asset\",\n",
       "          \"column\": \"ensembl_gene_id\"\n",
       "        },\n",
       "        \"meta\": {}\n",
       "      },\n",
       "      \"result\": {\n",
       "        \"element_count\": 15401,\n",
       "        \"missing_count\": 0,\n",
       "        \"missing_percent\": 0.0,\n",
       "        \"partial_unexpected_counts\": [],\n",
       "        \"partial_unexpected_index_list\": [],\n",
       "        \"partial_unexpected_list\": [],\n",
       "        \"unexpected_count\": 0,\n",
       "        \"unexpected_percent\": 0.0,\n",
       "        \"unexpected_percent_nonmissing\": 0.0,\n",
       "        \"unexpected_percent_total\": 0.0\n",
       "      },\n",
       "      \"meta\": {},\n",
       "      \"exception_info\": {\n",
       "        \"exception_message\": null,\n",
       "        \"exception_traceback\": null,\n",
       "        \"raised_exception\": false\n",
       "      }\n",
       "    },\n",
       "    {\n",
       "      \"success\": true,\n",
       "      \"expectation_config\": {\n",
       "        \"expectation_type\": \"expect_column_values_to_be_of_type\",\n",
       "        \"kwargs\": {\n",
       "          \"batch_id\": \"default_pandas_datasource-#ephemeral_pandas_asset\",\n",
       "          \"column\": \"gene_wide_p_threshold_1kgp\",\n",
       "          \"type_\": \"float\"\n",
       "        },\n",
       "        \"meta\": {}\n",
       "      },\n",
       "      \"result\": {\n",
       "        \"observed_value\": \"float64\"\n",
       "      },\n",
       "      \"meta\": {},\n",
       "      \"exception_info\": {\n",
       "        \"exception_message\": null,\n",
       "        \"exception_traceback\": null,\n",
       "        \"raised_exception\": false\n",
       "      }\n",
       "    },\n",
       "    {\n",
       "      \"success\": true,\n",
       "      \"expectation_config\": {\n",
       "        \"expectation_type\": \"expect_column_values_to_not_be_null\",\n",
       "        \"kwargs\": {\n",
       "          \"batch_id\": \"default_pandas_datasource-#ephemeral_pandas_asset\",\n",
       "          \"column\": \"gene_wide_p_threshold_1kgp\"\n",
       "        },\n",
       "        \"meta\": {}\n",
       "      },\n",
       "      \"result\": {\n",
       "        \"element_count\": 15401,\n",
       "        \"partial_unexpected_counts\": [],\n",
       "        \"partial_unexpected_index_list\": [],\n",
       "        \"partial_unexpected_list\": [],\n",
       "        \"unexpected_count\": 0,\n",
       "        \"unexpected_percent\": 0.0\n",
       "      },\n",
       "      \"meta\": {},\n",
       "      \"exception_info\": {\n",
       "        \"exception_message\": null,\n",
       "        \"exception_traceback\": null,\n",
       "        \"raised_exception\": false\n",
       "      }\n",
       "    },\n",
       "    {\n",
       "      \"success\": true,\n",
       "      \"expectation_config\": {\n",
       "        \"expectation_type\": \"expect_column_values_to_be_between\",\n",
       "        \"kwargs\": {\n",
       "          \"batch_id\": \"default_pandas_datasource-#ephemeral_pandas_asset\",\n",
       "          \"column\": \"gene_wide_p_threshold_1kgp\",\n",
       "          \"max_value\": 0.05,\n",
       "          \"min_value\": 0\n",
       "        },\n",
       "        \"meta\": {}\n",
       "      },\n",
       "      \"result\": {\n",
       "        \"element_count\": 15401,\n",
       "        \"missing_count\": 0,\n",
       "        \"missing_percent\": 0.0,\n",
       "        \"partial_unexpected_counts\": [],\n",
       "        \"partial_unexpected_index_list\": [],\n",
       "        \"partial_unexpected_list\": [],\n",
       "        \"unexpected_count\": 0,\n",
       "        \"unexpected_percent\": 0.0,\n",
       "        \"unexpected_percent_nonmissing\": 0.0,\n",
       "        \"unexpected_percent_total\": 0.0\n",
       "      },\n",
       "      \"meta\": {},\n",
       "      \"exception_info\": {\n",
       "        \"exception_message\": null,\n",
       "        \"exception_traceback\": null,\n",
       "        \"raised_exception\": false\n",
       "      }\n",
       "    },\n",
       "    {\n",
       "      \"success\": true,\n",
       "      \"expectation_config\": {\n",
       "        \"expectation_type\": \"expect_column_values_to_be_of_type\",\n",
       "        \"kwargs\": {\n",
       "          \"batch_id\": \"default_pandas_datasource-#ephemeral_pandas_asset\",\n",
       "          \"column\": \"metabolite_full_name\",\n",
       "          \"type_\": \"str\"\n",
       "        },\n",
       "        \"meta\": {}\n",
       "      },\n",
       "      \"result\": {\n",
       "        \"element_count\": 15401,\n",
       "        \"missing_count\": 0,\n",
       "        \"missing_percent\": 0.0,\n",
       "        \"partial_unexpected_counts\": [],\n",
       "        \"partial_unexpected_index_list\": [],\n",
       "        \"partial_unexpected_list\": [],\n",
       "        \"unexpected_count\": 0,\n",
       "        \"unexpected_percent\": 0.0,\n",
       "        \"unexpected_percent_nonmissing\": 0.0,\n",
       "        \"unexpected_percent_total\": 0.0\n",
       "      },\n",
       "      \"meta\": {},\n",
       "      \"exception_info\": {\n",
       "        \"exception_message\": null,\n",
       "        \"exception_traceback\": null,\n",
       "        \"raised_exception\": false\n",
       "      }\n",
       "    },\n",
       "    {\n",
       "      \"success\": true,\n",
       "      \"expectation_config\": {\n",
       "        \"expectation_type\": \"expect_column_values_to_not_be_null\",\n",
       "        \"kwargs\": {\n",
       "          \"batch_id\": \"default_pandas_datasource-#ephemeral_pandas_asset\",\n",
       "          \"column\": \"metabolite_full_name\"\n",
       "        },\n",
       "        \"meta\": {}\n",
       "      },\n",
       "      \"result\": {\n",
       "        \"element_count\": 15401,\n",
       "        \"partial_unexpected_counts\": [],\n",
       "        \"partial_unexpected_index_list\": [],\n",
       "        \"partial_unexpected_list\": [],\n",
       "        \"unexpected_count\": 0,\n",
       "        \"unexpected_percent\": 0.0\n",
       "      },\n",
       "      \"meta\": {},\n",
       "      \"exception_info\": {\n",
       "        \"exception_message\": null,\n",
       "        \"exception_traceback\": null,\n",
       "        \"raised_exception\": false\n",
       "      }\n",
       "    },\n",
       "    {\n",
       "      \"success\": true,\n",
       "      \"expectation_config\": {\n",
       "        \"expectation_type\": \"expect_column_value_lengths_to_be_between\",\n",
       "        \"kwargs\": {\n",
       "          \"batch_id\": \"default_pandas_datasource-#ephemeral_pandas_asset\",\n",
       "          \"column\": \"metabolite_full_name\",\n",
       "          \"max_value\": 25,\n",
       "          \"min_value\": 1\n",
       "        },\n",
       "        \"meta\": {}\n",
       "      },\n",
       "      \"result\": {\n",
       "        \"element_count\": 15401,\n",
       "        \"missing_count\": 0,\n",
       "        \"missing_percent\": 0.0,\n",
       "        \"partial_unexpected_counts\": [],\n",
       "        \"partial_unexpected_index_list\": [],\n",
       "        \"partial_unexpected_list\": [],\n",
       "        \"unexpected_count\": 0,\n",
       "        \"unexpected_percent\": 0.0,\n",
       "        \"unexpected_percent_nonmissing\": 0.0,\n",
       "        \"unexpected_percent_total\": 0.0\n",
       "      },\n",
       "      \"meta\": {},\n",
       "      \"exception_info\": {\n",
       "        \"exception_message\": null,\n",
       "        \"exception_traceback\": null,\n",
       "        \"raised_exception\": false\n",
       "      }\n",
       "    },\n",
       "    {\n",
       "      \"success\": true,\n",
       "      \"expectation_config\": {\n",
       "        \"expectation_type\": \"expect_column_values_to_match_regex\",\n",
       "        \"kwargs\": {\n",
       "          \"batch_id\": \"default_pandas_datasource-#ephemeral_pandas_asset\",\n",
       "          \"column\": \"metabolite_full_name\",\n",
       "          \"regex\": \"^[A-Za-z0-9\\\\s\\\\-:.()+]+$\"\n",
       "        },\n",
       "        \"meta\": {}\n",
       "      },\n",
       "      \"result\": {\n",
       "        \"element_count\": 15401,\n",
       "        \"missing_count\": 0,\n",
       "        \"missing_percent\": 0.0,\n",
       "        \"partial_unexpected_counts\": [],\n",
       "        \"partial_unexpected_index_list\": [],\n",
       "        \"partial_unexpected_list\": [],\n",
       "        \"unexpected_count\": 0,\n",
       "        \"unexpected_percent\": 0.0,\n",
       "        \"unexpected_percent_nonmissing\": 0.0,\n",
       "        \"unexpected_percent_total\": 0.0\n",
       "      },\n",
       "      \"meta\": {},\n",
       "      \"exception_info\": {\n",
       "        \"exception_message\": null,\n",
       "        \"exception_traceback\": null,\n",
       "        \"raised_exception\": false\n",
       "      }\n",
       "    },\n",
       "    {\n",
       "      \"success\": true,\n",
       "      \"expectation_config\": {\n",
       "        \"expectation_type\": \"expect_column_values_to_be_of_type\",\n",
       "        \"kwargs\": {\n",
       "          \"batch_id\": \"default_pandas_datasource-#ephemeral_pandas_asset\",\n",
       "          \"column\": \"metabolite_id\",\n",
       "          \"type_\": \"str\"\n",
       "        },\n",
       "        \"meta\": {}\n",
       "      },\n",
       "      \"result\": {\n",
       "        \"element_count\": 15401,\n",
       "        \"missing_count\": 0,\n",
       "        \"missing_percent\": 0.0,\n",
       "        \"partial_unexpected_counts\": [],\n",
       "        \"partial_unexpected_index_list\": [],\n",
       "        \"partial_unexpected_list\": [],\n",
       "        \"unexpected_count\": 0,\n",
       "        \"unexpected_percent\": 0.0,\n",
       "        \"unexpected_percent_nonmissing\": 0.0,\n",
       "        \"unexpected_percent_total\": 0.0\n",
       "      },\n",
       "      \"meta\": {},\n",
       "      \"exception_info\": {\n",
       "        \"exception_message\": null,\n",
       "        \"exception_traceback\": null,\n",
       "        \"raised_exception\": false\n",
       "      }\n",
       "    },\n",
       "    {\n",
       "      \"success\": true,\n",
       "      \"expectation_config\": {\n",
       "        \"expectation_type\": \"expect_column_values_to_not_be_null\",\n",
       "        \"kwargs\": {\n",
       "          \"batch_id\": \"default_pandas_datasource-#ephemeral_pandas_asset\",\n",
       "          \"column\": \"metabolite_id\"\n",
       "        },\n",
       "        \"meta\": {}\n",
       "      },\n",
       "      \"result\": {\n",
       "        \"element_count\": 15401,\n",
       "        \"partial_unexpected_counts\": [],\n",
       "        \"partial_unexpected_index_list\": [],\n",
       "        \"partial_unexpected_list\": [],\n",
       "        \"unexpected_count\": 0,\n",
       "        \"unexpected_percent\": 0.0\n",
       "      },\n",
       "      \"meta\": {},\n",
       "      \"exception_info\": {\n",
       "        \"exception_message\": null,\n",
       "        \"exception_traceback\": null,\n",
       "        \"raised_exception\": false\n",
       "      }\n",
       "    },\n",
       "    {\n",
       "      \"success\": true,\n",
       "      \"expectation_config\": {\n",
       "        \"expectation_type\": \"expect_column_value_lengths_to_be_between\",\n",
       "        \"kwargs\": {\n",
       "          \"batch_id\": \"default_pandas_datasource-#ephemeral_pandas_asset\",\n",
       "          \"column\": \"metabolite_id\",\n",
       "          \"max_value\": 15,\n",
       "          \"min_value\": 1\n",
       "        },\n",
       "        \"meta\": {}\n",
       "      },\n",
       "      \"result\": {\n",
       "        \"element_count\": 15401,\n",
       "        \"missing_count\": 0,\n",
       "        \"missing_percent\": 0.0,\n",
       "        \"partial_unexpected_counts\": [],\n",
       "        \"partial_unexpected_index_list\": [],\n",
       "        \"partial_unexpected_list\": [],\n",
       "        \"unexpected_count\": 0,\n",
       "        \"unexpected_percent\": 0.0,\n",
       "        \"unexpected_percent_nonmissing\": 0.0,\n",
       "        \"unexpected_percent_total\": 0.0\n",
       "      },\n",
       "      \"meta\": {},\n",
       "      \"exception_info\": {\n",
       "        \"exception_message\": null,\n",
       "        \"exception_traceback\": null,\n",
       "        \"raised_exception\": false\n",
       "      }\n",
       "    },\n",
       "    {\n",
       "      \"success\": true,\n",
       "      \"expectation_config\": {\n",
       "        \"expectation_type\": \"expect_column_values_to_match_regex\",\n",
       "        \"kwargs\": {\n",
       "          \"batch_id\": \"default_pandas_datasource-#ephemeral_pandas_asset\",\n",
       "          \"column\": \"metabolite_id\",\n",
       "          \"regex\": \"^[A-Za-z0-9.]+$\"\n",
       "        },\n",
       "        \"meta\": {}\n",
       "      },\n",
       "      \"result\": {\n",
       "        \"element_count\": 15401,\n",
       "        \"missing_count\": 0,\n",
       "        \"missing_percent\": 0.0,\n",
       "        \"partial_unexpected_counts\": [],\n",
       "        \"partial_unexpected_index_list\": [],\n",
       "        \"partial_unexpected_list\": [],\n",
       "        \"unexpected_count\": 0,\n",
       "        \"unexpected_percent\": 0.0,\n",
       "        \"unexpected_percent_nonmissing\": 0.0,\n",
       "        \"unexpected_percent_total\": 0.0\n",
       "      },\n",
       "      \"meta\": {},\n",
       "      \"exception_info\": {\n",
       "        \"exception_message\": null,\n",
       "        \"exception_traceback\": null,\n",
       "        \"raised_exception\": false\n",
       "      }\n",
       "    },\n",
       "    {\n",
       "      \"success\": true,\n",
       "      \"expectation_config\": {\n",
       "        \"expectation_type\": \"expect_column_values_to_be_of_type\",\n",
       "        \"kwargs\": {\n",
       "          \"batch_id\": \"default_pandas_datasource-#ephemeral_pandas_asset\",\n",
       "          \"column\": \"n_per_group\",\n",
       "          \"type_\": \"list\"\n",
       "        },\n",
       "        \"meta\": {}\n",
       "      },\n",
       "      \"result\": {\n",
       "        \"element_count\": 15401,\n",
       "        \"missing_count\": 0,\n",
       "        \"missing_percent\": 0.0,\n",
       "        \"partial_unexpected_counts\": [],\n",
       "        \"partial_unexpected_index_list\": [],\n",
       "        \"partial_unexpected_list\": [],\n",
       "        \"unexpected_count\": 0,\n",
       "        \"unexpected_percent\": 0.0,\n",
       "        \"unexpected_percent_nonmissing\": 0.0,\n",
       "        \"unexpected_percent_total\": 0.0\n",
       "      },\n",
       "      \"meta\": {},\n",
       "      \"exception_info\": {\n",
       "        \"exception_message\": null,\n",
       "        \"exception_traceback\": null,\n",
       "        \"raised_exception\": false\n",
       "      }\n",
       "    },\n",
       "    {\n",
       "      \"success\": true,\n",
       "      \"expectation_config\": {\n",
       "        \"expectation_type\": \"expect_column_values_to_not_be_null\",\n",
       "        \"kwargs\": {\n",
       "          \"batch_id\": \"default_pandas_datasource-#ephemeral_pandas_asset\",\n",
       "          \"column\": \"n_per_group\"\n",
       "        },\n",
       "        \"meta\": {}\n",
       "      },\n",
       "      \"result\": {\n",
       "        \"element_count\": 15401,\n",
       "        \"partial_unexpected_counts\": [],\n",
       "        \"partial_unexpected_index_list\": [],\n",
       "        \"partial_unexpected_list\": [],\n",
       "        \"unexpected_count\": 0,\n",
       "        \"unexpected_percent\": 0.0\n",
       "      },\n",
       "      \"meta\": {},\n",
       "      \"exception_info\": {\n",
       "        \"exception_message\": null,\n",
       "        \"exception_traceback\": null,\n",
       "        \"raised_exception\": false\n",
       "      }\n",
       "    },\n",
       "    {\n",
       "      \"success\": true,\n",
       "      \"expectation_config\": {\n",
       "        \"expectation_type\": \"expect_column_values_to_have_list_length\",\n",
       "        \"kwargs\": {\n",
       "          \"batch_id\": \"default_pandas_datasource-#ephemeral_pandas_asset\",\n",
       "          \"column\": \"n_per_group\",\n",
       "          \"list_length\": 2\n",
       "        },\n",
       "        \"meta\": {}\n",
       "      },\n",
       "      \"result\": {\n",
       "        \"element_count\": 15401,\n",
       "        \"missing_count\": 0,\n",
       "        \"missing_percent\": 0.0,\n",
       "        \"partial_unexpected_counts\": [],\n",
       "        \"partial_unexpected_index_list\": [],\n",
       "        \"partial_unexpected_list\": [],\n",
       "        \"unexpected_count\": 0,\n",
       "        \"unexpected_percent\": 0.0,\n",
       "        \"unexpected_percent_nonmissing\": 0.0,\n",
       "        \"unexpected_percent_total\": 0.0\n",
       "      },\n",
       "      \"meta\": {},\n",
       "      \"exception_info\": {\n",
       "        \"exception_message\": null,\n",
       "        \"exception_traceback\": null,\n",
       "        \"raised_exception\": false\n",
       "      }\n",
       "    },\n",
       "    {\n",
       "      \"success\": true,\n",
       "      \"expectation_config\": {\n",
       "        \"expectation_type\": \"expect_column_values_to_be_of_type\",\n",
       "        \"kwargs\": {\n",
       "          \"batch_id\": \"default_pandas_datasource-#ephemeral_pandas_asset\",\n",
       "          \"column\": \"transposed_boxplot_stats\",\n",
       "          \"type_\": \"list\"\n",
       "        },\n",
       "        \"meta\": {}\n",
       "      },\n",
       "      \"result\": {\n",
       "        \"element_count\": 15401,\n",
       "        \"missing_count\": 0,\n",
       "        \"missing_percent\": 0.0,\n",
       "        \"partial_unexpected_counts\": [],\n",
       "        \"partial_unexpected_index_list\": [],\n",
       "        \"partial_unexpected_list\": [],\n",
       "        \"unexpected_count\": 0,\n",
       "        \"unexpected_percent\": 0.0,\n",
       "        \"unexpected_percent_nonmissing\": 0.0,\n",
       "        \"unexpected_percent_total\": 0.0\n",
       "      },\n",
       "      \"meta\": {},\n",
       "      \"exception_info\": {\n",
       "        \"exception_message\": null,\n",
       "        \"exception_traceback\": null,\n",
       "        \"raised_exception\": false\n",
       "      }\n",
       "    },\n",
       "    {\n",
       "      \"success\": true,\n",
       "      \"expectation_config\": {\n",
       "        \"expectation_type\": \"expect_column_values_to_not_be_null\",\n",
       "        \"kwargs\": {\n",
       "          \"batch_id\": \"default_pandas_datasource-#ephemeral_pandas_asset\",\n",
       "          \"column\": \"transposed_boxplot_stats\"\n",
       "        },\n",
       "        \"meta\": {}\n",
       "      },\n",
       "      \"result\": {\n",
       "        \"element_count\": 15401,\n",
       "        \"partial_unexpected_counts\": [],\n",
       "        \"partial_unexpected_index_list\": [],\n",
       "        \"partial_unexpected_list\": [],\n",
       "        \"unexpected_count\": 0,\n",
       "        \"unexpected_percent\": 0.0\n",
       "      },\n",
       "      \"meta\": {},\n",
       "      \"exception_info\": {\n",
       "        \"exception_message\": null,\n",
       "        \"exception_traceback\": null,\n",
       "        \"raised_exception\": false\n",
       "      }\n",
       "    },\n",
       "    {\n",
       "      \"success\": true,\n",
       "      \"expectation_config\": {\n",
       "        \"expectation_type\": \"expect_column_values_to_have_list_length\",\n",
       "        \"kwargs\": {\n",
       "          \"batch_id\": \"default_pandas_datasource-#ephemeral_pandas_asset\",\n",
       "          \"column\": \"transposed_boxplot_stats\",\n",
       "          \"list_length\": 2\n",
       "        },\n",
       "        \"meta\": {}\n",
       "      },\n",
       "      \"result\": {\n",
       "        \"element_count\": 15401,\n",
       "        \"missing_count\": 0,\n",
       "        \"missing_percent\": 0.0,\n",
       "        \"partial_unexpected_counts\": [],\n",
       "        \"partial_unexpected_index_list\": [],\n",
       "        \"partial_unexpected_list\": [],\n",
       "        \"unexpected_count\": 0,\n",
       "        \"unexpected_percent\": 0.0,\n",
       "        \"unexpected_percent_nonmissing\": 0.0,\n",
       "        \"unexpected_percent_total\": 0.0\n",
       "      },\n",
       "      \"meta\": {},\n",
       "      \"exception_info\": {\n",
       "        \"exception_message\": null,\n",
       "        \"exception_traceback\": null,\n",
       "        \"raised_exception\": false\n",
       "      }\n",
       "    }\n",
       "  ],\n",
       "  \"evaluation_parameters\": {},\n",
       "  \"statistics\": {\n",
       "    \"evaluated_expectations\": 35,\n",
       "    \"success_percent\": 100.0,\n",
       "    \"successful_expectations\": 35,\n",
       "    \"unsuccessful_expectations\": 0\n",
       "  },\n",
       "  \"meta\": {\n",
       "    \"active_batch_definition\": {\n",
       "      \"batch_identifiers\": {},\n",
       "      \"data_asset_name\": \"#ephemeral_pandas_asset\",\n",
       "      \"data_connector_name\": \"fluent\",\n",
       "      \"datasource_name\": \"default_pandas_datasource\"\n",
       "    },\n",
       "    \"batch_markers\": {\n",
       "      \"ge_load_time\": \"20231109T212459.461233Z\",\n",
       "      \"pandas_data_fingerprint\": \"431f9e3f43107cd44a6e17491252b4a9\"\n",
       "    },\n",
       "    \"batch_spec\": {\n",
       "      \"reader_method\": \"read_json\",\n",
       "      \"reader_options\": {\n",
       "        \"path_or_buf\": \"staging/metabolomics.json\"\n",
       "      }\n",
       "    },\n",
       "    \"checkpoint_id\": null,\n",
       "    \"checkpoint_name\": \"metabolomics\",\n",
       "    \"expectation_suite_name\": \"metabolomics\",\n",
       "    \"great_expectations_version\": \"0.18.1\",\n",
       "    \"run_id\": {\n",
       "      \"run_name\": null,\n",
       "      \"run_time\": \"2023-11-09T14:24:59.456769-07:00\"\n",
       "    },\n",
       "    \"validation_id\": null,\n",
       "    \"validation_time\": \"20231109T212459.684023Z\"\n",
       "  }\n",
       "}"
      ]
     },
     "execution_count": 22,
     "metadata": {},
     "output_type": "execute_result"
    }
   ],
   "source": [
    "context.get_validation_result(\"metabolomics\")\n"
   ]
  },
  {
   "cell_type": "markdown",
   "metadata": {},
   "source": [
    "## Get path to latest report file"
   ]
  },
  {
   "cell_type": "code",
   "execution_count": 50,
   "metadata": {},
   "outputs": [],
   "source": [
    "import os\n",
    "# class method to get the path and probably upload to synapse\n",
    "results_path_items = list(checkpoint_result.list_validation_result_identifiers()[0].to_tuple())\n",
    "results_path_items[-1] = results_path_items[-1] + \".html\"\n",
    "results_path = os.path.join(\n",
    "    \"./great_expectations/gx/uncommitted/data_docs/local_site/validations\",\n",
    "    *results_path_items\n",
    ")\n"
   ]
  },
  {
   "cell_type": "markdown",
   "metadata": {},
   "source": [
    "## GX Runner Class"
   ]
  },
  {
   "cell_type": "code",
   "execution_count": null,
   "metadata": {},
   "outputs": [],
   "source": [
    "import synapseclient\n",
    "\n",
    "import great_expectations as gx\n",
    "from great_expectations.data_context import FileDataContext\n",
    "\n",
    "context = FileDataContext.create('../great_expectations')\n",
    "\n",
    "from expectations.expect_column_values_to_have_list_length import ExpectColumnValuesToHaveListLength\n"
   ]
  },
  {
   "cell_type": "code",
   "execution_count": null,
   "metadata": {},
   "outputs": [],
   "source": [
    "class GreatExpectationsRunner:\n",
    "    \"\"\"Class to run great expectations on a dataset and upload the results to Synapse\"\"\"\n",
    "    def __init__(self, syn, context, expectation_suite_name):\n",
    "        self.syn = syn\n",
    "        self.context = context\n",
    "        self.expectation_suite_name = expectation_suite_name\n",
    "\n",
    "    def run(self, dataset_path, expectation_suite_name):\n",
    "        validator = self.context.sources.pandas_default.read_json(\n",
    "            dataset_path,\n",
    "        )\n",
    "        expectation_suite = self.context.get_expectation_suite(self.expectation_suite_name)\n",
    "        validator.expectation_suite = expectation_suite\n",
    "        validator.validate()\n",
    "        checkpoint = self.context.add_or_update_checkpoint(\n",
    "            name=expectation_suite_name,\n",
    "            validator=validator,\n",
    "        )\n",
    "        self.checkpoint_result = checkpoint.run()\n",
    "\n",
    "    def get_results_path(self):\n",
    "        results_path_items = list(self.checkpoint_result.list_validation_result_identifiers()[0].to_tuple())\n",
    "        results_path_items[-1] = results_path_items[-1] + \".html\"\n",
    "        results_path = os.path.join(\n",
    "            \"./great_expectations/gx/uncommitted/data_docs/local_site/validations\",\n",
    "            *results_path_items\n",
    "        )\n",
    "        return results_path\n",
    "\n",
    "    def upload_results_file_to_synapse(self):\n",
    "        results_path = self.get_results_path()\n",
    "        self.syn.store(synapseclient.File(results_path, parentId=\"parent_folder_here\"))\n"
   ]
  }
 ],
 "metadata": {
  "kernelspec": {
   "display_name": "Python 3",
   "language": "python",
   "name": "python3"
  },
  "language_info": {
   "codemirror_mode": {
    "name": "ipython",
    "version": 3
   },
   "file_extension": ".py",
   "mimetype": "text/x-python",
   "name": "python",
   "nbconvert_exporter": "python",
   "pygments_lexer": "ipython3",
   "version": "3.9.13"
  }
 },
 "nbformat": 4,
 "nbformat_minor": 2
}
