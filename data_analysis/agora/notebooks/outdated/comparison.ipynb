{
 "cells": [
  {
   "cell_type": "markdown",
   "id": "a45e6788",
   "metadata": {},
   "source": [
    "The script to generate both datasets is included in the same folder.  First we import the datasets:"
   ]
  },
  {
   "cell_type": "code",
   "execution_count": 7,
   "id": "f82677a6",
   "metadata": {},
   "outputs": [],
   "source": [
    "import pandas as pd\n",
    "\n",
    "gene_info_py = pd.read_feather(\"../output/gene_table_merged_py.feather\")\n",
    "gene_info_r = pd.read_feather(\"../output/gene_table_merged_r.feather\")"
   ]
  },
  {
   "cell_type": "markdown",
   "id": "64710a92",
   "metadata": {},
   "source": [
    "Then we standardize the columns of the R dataset:"
   ]
  },
  {
   "cell_type": "code",
   "execution_count": 8,
   "id": "1f598ba1",
   "metadata": {},
   "outputs": [],
   "source": [
    "gene_info_r.rename(columns={\"X_id\": \"_id\", \"X_version\": \"_version\", \"ensembl_gene_id\": \"_ensembl_gene_id\"}, inplace=True)\n",
    "interesting_columns = [col for col in gene_info_r.columns if col[0] != \"_\"]"
   ]
  },
  {
   "cell_type": "markdown",
   "id": "e2d1378d",
   "metadata": {},
   "source": [
    "We should observe the same results across datasets:"
   ]
  },
  {
   "cell_type": "code",
   "execution_count": 9,
   "id": "47e2e974",
   "metadata": {
    "scrolled": true
   },
   "outputs": [
    {
     "name": "stdout",
     "output_type": "stream",
     "text": [
      "Shape from python processing:(60727, 8)\n",
      "Genes found by the query: 56742\n",
      "Genes missing:3985\n"
     ]
    }
   ],
   "source": [
    "print(\"Shape from python processing:\" + str(gene_info_py.shape))\n",
    "print(\"Genes found by the query: \" + str(gene_info_py[gene_info_py['notfound'].isnull()].shape[0]))\n",
    "print(\"Genes missing:\" + str(gene_info_py[gene_info_py['notfound'].notna()].shape[0]))"
   ]
  },
  {
   "cell_type": "code",
   "execution_count": 10,
   "id": "18136406",
   "metadata": {
    "scrolled": true
   },
   "outputs": [
    {
     "name": "stdout",
     "output_type": "stream",
     "text": [
      "Shape from R processing:(60727, 8)\n",
      "(56742, 8)\n",
      "(3985, 8)\n"
     ]
    }
   ],
   "source": [
    "print(\"Shape from R processing:\" + str(gene_info_py.shape))\n",
    "print(gene_info_r[gene_info_r['notfound'].isnull()].shape)\n",
    "print(gene_info_r[gene_info_r['notfound'].notna()].shape)"
   ]
  },
  {
   "cell_type": "markdown",
   "id": "1ff03bb0",
   "metadata": {},
   "source": [
    "Check to see if notfound flag isn't misleading in the python-generated dataset:"
   ]
  },
  {
   "cell_type": "code",
   "execution_count": 5,
   "id": "1a735c6f",
   "metadata": {},
   "outputs": [
    {
     "name": "stdout",
     "output_type": "stream",
     "text": [
      "name values matches notfound flag\n",
      "symbol values matches notfound flag\n",
      "type_of_gene values matches notfound flag\n",
      "summary values matches notfound flag\n",
      "name values matches notfound flag\n",
      "symbol values matches notfound flag\n",
      "type_of_gene values matches notfound flag\n",
      "summary values matches notfound flag\n"
     ]
    }
   ],
   "source": [
    "for dataset in [gene_info_py, gene_info_r]:\n",
    "    for col in interesting_columns:\n",
    "        if dataset[dataset['notfound'].notna() & dataset[col].isnull()].shape[0] > 0:\n",
    "            print(col + \" values matches notfound flag\")\n",
    "        elif col == 'notfound':\n",
    "            continue\n",
    "        else:\n",
    "            print(col + \" values don't match notfound flag\")"
   ]
  },
  {
   "cell_type": "markdown",
   "id": "d8b74592",
   "metadata": {},
   "source": [
    "We can now compare the values within each column and try to establish equality between them:"
   ]
  },
  {
   "cell_type": "code",
   "execution_count": 6,
   "id": "4575d20e",
   "metadata": {},
   "outputs": [
    {
     "name": "stdout",
     "output_type": "stream",
     "text": [
      "name\n",
      "name's mode: Y RNA\n",
      "Common values for name:\n",
      "NaN                                         20166\n",
      "Y RNA                                         756\n",
      "Metazoan signal recognition particle RNA      166\n",
      "Name: name, dtype: int64\n",
      "\n",
      "name's mode: Y RNA\n",
      "Common values for name:\n",
      "NaN                                         20166\n",
      "Y RNA                                         756\n",
      "Metazoan signal recognition particle RNA      166\n",
      "Name: name, dtype: int64\n",
      "\n",
      "symbol\n",
      "symbol's mode: Y_RNA\n",
      "Common values for symbol:\n",
      "NaN            20166\n",
      "Y_RNA            756\n",
      "Metazoa_SRP      166\n",
      "Name: symbol, dtype: int64\n",
      "\n",
      "symbol's mode: Y_RNA\n",
      "Common values for symbol:\n",
      "NaN            20166\n",
      "Y_RNA            756\n",
      "Metazoa_SRP      166\n",
      "Name: symbol, dtype: int64\n",
      "\n",
      "type_of_gene\n",
      "type_of_gene's mode: protein-coding\n",
      "Common values for type_of_gene:\n",
      "NaN               35887\n",
      "protein-coding    19201\n",
      "ncRNA              4811\n",
      "Name: type_of_gene, dtype: int64\n",
      "\n",
      "type_of_gene's mode: protein-coding\n",
      "Common values for type_of_gene:\n",
      "NaN               35887\n",
      "protein-coding    19201\n",
      "ncRNA              4811\n",
      "Name: type_of_gene, dtype: int64\n",
      "\n",
      "summary\n",
      "summary's mode: microRNAs (miRNAs) are short (20-24 nt) non-coding RNAs that are involved in post-transcriptional regulation of gene expression in multicellular organisms by affecting both the stability and translation of mRNAs. miRNAs are transcribed by RNA polymerase II as part of capped and polyadenylated primary transcripts (pri-miRNAs) that can be either protein-coding or non-coding. The primary transcript is cleaved by the Drosha ribonuclease III enzyme to produce an approximately 70-nt stem-loop precursor miRNA (pre-miRNA), which is further cleaved by the cytoplasmic Dicer ribonuclease to generate the mature miRNA and antisense miRNA star (miRNA*) products. The mature miRNA is incorporated into a RNA-induced silencing complex (RISC), which recognizes target mRNAs through imperfect base pairing with the miRNA and most commonly results in translational inhibition or destabilization of the target mRNA. The RefSeq represents the predicted microRNA stem-loop. [provided by RefSeq, Sep 2009].\n",
      "Common values for summary:\n",
      "NaN                                                                                                                                                                                                                                                                                                                                                                                                                                                                                                                                                                                                                                                                                                                                                                                                                                                                                                                                                                                                                                46423\n",
      "microRNAs (miRNAs) are short (20-24 nt) non-coding RNAs that are involved in post-transcriptional regulation of gene expression in multicellular organisms by affecting both the stability and translation of mRNAs. miRNAs are transcribed by RNA polymerase II as part of capped and polyadenylated primary transcripts (pri-miRNAs) that can be either protein-coding or non-coding. The primary transcript is cleaved by the Drosha ribonuclease III enzyme to produce an approximately 70-nt stem-loop precursor miRNA (pre-miRNA), which is further cleaved by the cytoplasmic Dicer ribonuclease to generate the mature miRNA and antisense miRNA star (miRNA*) products. The mature miRNA is incorporated into a RNA-induced silencing complex (RISC), which recognizes target mRNAs through imperfect base pairing with the miRNA and most commonly results in translational inhibition or destabilization of the target mRNA. The RefSeq represents the predicted microRNA stem-loop. [provided by RefSeq, Sep 2009].     1411\n",
      "Olfactory receptors interact with odorant molecules in the nose, to initiate a neuronal response that triggers the perception of a smell. The olfactory receptor proteins are members of a large family of G-protein-coupled receptors (GPCR) arising from single coding-exon genes. Olfactory receptors share a 7-transmembrane domain structure with many neurotransmitter and hormone receptors and are responsible for the recognition and G protein-mediated transduction of odorant signals. The olfactory receptor gene family is the largest in the genome. The nomenclature assigned to the olfactory receptor genes and proteins for this organism is independent of other organisms. [provided by RefSeq, Jul 2008].                                                                                                                                                                                                                                                                                                      350\n",
      "Name: summary, dtype: int64\n",
      "\n",
      "summary's mode: microRNAs (miRNAs) are short (20-24 nt) non-coding RNAs that are involved in post-transcriptional regulation of gene expression in multicellular organisms by affecting both the stability and translation of mRNAs. miRNAs are transcribed by RNA polymerase II as part of capped and polyadenylated primary transcripts (pri-miRNAs) that can be either protein-coding or non-coding. The primary transcript is cleaved by the Drosha ribonuclease III enzyme to produce an approximately 70-nt stem-loop precursor miRNA (pre-miRNA), which is further cleaved by the cytoplasmic Dicer ribonuclease to generate the mature miRNA and antisense miRNA star (miRNA*) products. The mature miRNA is incorporated into a RNA-induced silencing complex (RISC), which recognizes target mRNAs through imperfect base pairing with the miRNA and most commonly results in translational inhibition or destabilization of the target mRNA. The RefSeq represents the predicted microRNA stem-loop. [provided by RefSeq, Sep 2009].\n",
      "Common values for summary:\n",
      "NaN                                                                                                                                                                                                                                                                                                                                                                                                                                                                                                                                                                                                                                                                                                                                                                                                                                                                                                                                                                                                                                46423\n",
      "microRNAs (miRNAs) are short (20-24 nt) non-coding RNAs that are involved in post-transcriptional regulation of gene expression in multicellular organisms by affecting both the stability and translation of mRNAs. miRNAs are transcribed by RNA polymerase II as part of capped and polyadenylated primary transcripts (pri-miRNAs) that can be either protein-coding or non-coding. The primary transcript is cleaved by the Drosha ribonuclease III enzyme to produce an approximately 70-nt stem-loop precursor miRNA (pre-miRNA), which is further cleaved by the cytoplasmic Dicer ribonuclease to generate the mature miRNA and antisense miRNA star (miRNA*) products. The mature miRNA is incorporated into a RNA-induced silencing complex (RISC), which recognizes target mRNAs through imperfect base pairing with the miRNA and most commonly results in translational inhibition or destabilization of the target mRNA. The RefSeq represents the predicted microRNA stem-loop. [provided by RefSeq, Sep 2009].     1411\n",
      "Olfactory receptors interact with odorant molecules in the nose, to initiate a neuronal response that triggers the perception of a smell. The olfactory receptor proteins are members of a large family of G-protein-coupled receptors (GPCR) arising from single coding-exon genes. Olfactory receptors share a 7-transmembrane domain structure with many neurotransmitter and hormone receptors and are responsible for the recognition and G protein-mediated transduction of odorant signals. The olfactory receptor gene family is the largest in the genome. The nomenclature assigned to the olfactory receptor genes and proteins for this organism is independent of other organisms. [provided by RefSeq, Jul 2008].                                                                                                                                                                                                                                                                                                      350\n",
      "Name: summary, dtype: int64\n",
      "\n",
      "notfound\n",
      "notfound's mode: True\n",
      "Common values for notfound:\n",
      "NaN     56742\n",
      "True     3985\n",
      "Name: notfound, dtype: int64\n",
      "\n",
      "notfound's mode: True\n",
      "Common values for notfound:\n",
      "NaN     56742\n",
      "True     3985\n",
      "Name: notfound, dtype: int64\n",
      "\n"
     ]
    }
   ],
   "source": [
    "for col in interesting_columns:\n",
    "    print(col)\n",
    "    for dataset in [gene_info_py, gene_info_r]:\n",
    "        try:\n",
    "            print(col + \"'s mean: \" + dataset[col].mean())\n",
    "        except:\n",
    "           pass \n",
    "        print(col + \"'s mode: \" + str(dataset[col].mode()[0]))\n",
    "        print(\"Common values for \" + col + \":\")\n",
    "        print(dataset[col].value_counts(dropna=False)[:3])\n",
    "        print()"
   ]
  },
  {
   "cell_type": "markdown",
   "id": "2b8a714a",
   "metadata": {},
   "source": [
    "It's safe to say the datasets are equal."
   ]
  }
 ],
 "metadata": {
  "kernelspec": {
   "display_name": "Python 3",
   "language": "python",
   "name": "python3"
  },
  "language_info": {
   "codemirror_mode": {
    "name": "ipython",
    "version": 3
   },
   "file_extension": ".py",
   "mimetype": "text/x-python",
   "name": "python",
   "nbconvert_exporter": "python",
   "pygments_lexer": "ipython3",
   "version": "3.9.0"
  }
 },
 "nbformat": 4,
 "nbformat_minor": 5
}
