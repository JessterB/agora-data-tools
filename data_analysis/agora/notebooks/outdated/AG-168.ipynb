{
 "cells": [
  {
   "cell_type": "markdown",
   "id": "2dae1b8b",
   "metadata": {},
   "source": [
    "There's about 34 genes missing from a table in AGORA.  That table is made from the gene_info dataset.  Those genes supposedly exist in the harmonized_targets dataset, but are missing from the gene_info dataset.\n",
    "\n",
    "Steps:\n",
    "- verify the genes exist in the harmonized_targets dataset\n",
    "- check for the presence of these genes in the gene_info dataset\n",
    "\n",
    "*because this is a current problem in AGORA, we need to look at the live data"
   ]
  },
  {
   "cell_type": "code",
   "execution_count": 1,
   "id": "3fb1af97",
   "metadata": {},
   "outputs": [
    {
     "name": "stdout",
     "output_type": "stream",
     "text": [
      "(693, 13)\n",
      "(57169, 16)\n"
     ]
    }
   ],
   "source": [
    "import pandas as pd\n",
    "import synapseclient\n",
    "\n",
    "syn = synapseclient.Synapse()\n",
    "syn.login(silent=True)\n",
    "\n",
    "harmonized = syn.get('syn12540368')\n",
    "gene_info = syn.get('syn12548902')\n",
    "\n",
    "harmonized = pd.read_csv(harmonized.path)\n",
    "gene_info = pd.read_json(gene_info.path, orient='records')\n",
    "\n",
    "print(harmonized.shape)\n",
    "print(gene_info.shape)\n",
    "\n",
    "\n"
   ]
  },
  {
   "cell_type": "code",
   "execution_count": 2,
   "id": "512c48cd",
   "metadata": {},
   "outputs": [],
   "source": [
    "harmonized['combined'] = harmonized['hgnc_symbol'] + \"-\" + harmonized['ensembl_gene_id']\n",
    "gene_info['combined'] = gene_info['hgnc_symbol'] + \"-\" + gene_info['ensembl_gene_id']\n",
    "\n",
    "harmonized_combined_set = set(harmonized['combined'])\n",
    "gene_info_combined_set = set(gene_info['combined'])\n",
    "\n",
    "harmonized_symbol_set = set(harmonized['hgnc_symbol'])\n",
    "gene_info_symbol_set = set(gene_info['hgnc_symbol'])\n",
    "\n",
    "harmonized_ensembl_set = set(harmonized['ensembl_gene_id'])\n",
    "gene_info_ensembl_set = set(gene_info['ensembl_gene_id'])\n",
    "\n",
    "intersection_combined = harmonized_combined_set.intersection(gene_info_combined_set)\n",
    "intersection_symbol = harmonized_symbol_set.intersection(gene_info_symbol_set)\n",
    "intersection_ensembl = harmonized_ensembl_set.intersection(gene_info_ensembl_set)"
   ]
  },
  {
   "cell_type": "code",
   "execution_count": 3,
   "id": "7c5d89c7",
   "metadata": {},
   "outputs": [
    {
     "name": "stdout",
     "output_type": "stream",
     "text": [
      "{'TARDBP-ENSG00000120948.10', 'SULT1A3-ENSG00000261052.1', 'PGM5-ENSG00000154330.7', 'SERPINI1-ENSG00000163536.7', 'FCERG1-ENSG00000158869', 'SPATA22-ENSG00000141255.7', 'BLOC1S1-ENSG00000135441.3', 'MANF-ENSG00000145050.11', 'GCKR-ENSG00000084734.4', 'LRRC8D-ENSG00000171492.10', 'MT-ND3-ENSG00000198840.2', 'DLGAP2-ENSG00000282318', 'GRAMD3-ENSG00000155324', 'PRPF31-ENSG00000105618.9', 'KIAA1045-ENSG00000122733', 'CSFR1-ENSG00000182578', 'DDAH2-ENSG00000225635', 'MRPS18B-ENSG00000223775', 'CELF1-ENSG00000149187.12', 'NBAS-ENSG00000151779.8', 'DAXX-ENSG00000229396', 'SiGLEC8-ENSG00000105366', 'SYNGR4-ENSG00000105467.3', 'TOMM70A-ENSG00000154174', 'ATP5O-ENSG00000241837', 'RP11-894P9.1-ENSG00000246451', 'AKR1D1-ENSG00000122787.9', 'RTFDC1-ENSG00000022277', 'RAPGEF2-ENSG00000109756.4', 'LPPR4-ENSG00000117600', 'SEPT11-ENSG00000186522', 'EXOC3L2-ENSG00000130201', 'SLC25A19-ENSG00000125454.7', 'C4A-ENSG00000227746', 'SPTB-ENSG00000070182.13', 'GUCY1B3-ENSG00000061918', 'LAMA4-ENSG00000112769.13'}\n",
      "37\n"
     ]
    }
   ],
   "source": [
    "harmonized_combined_set.difference_update(intersection_combined)\n",
    "print(harmonized_combined_set)\n",
    "print(len(harmonized_combined_set))"
   ]
  },
  {
   "cell_type": "code",
   "execution_count": 4,
   "id": "226ccb7b",
   "metadata": {},
   "outputs": [
    {
     "name": "stdout",
     "output_type": "stream",
     "text": [
      "{'LPPR4', 'CSFR1', 'GRAMD3', 'GUCY1B3', 'TOMM70A', 'EXOC3L2', 'ATP5O', 'KIAA1045', 'MT-ND3', 'FCERG1', 'SiGLEC8', 'RP11-894P9.1', 'RTFDC1'}\n",
      "13\n"
     ]
    }
   ],
   "source": [
    "harmonized_symbol_set.difference_update(intersection_symbol)\n",
    "print(harmonized_symbol_set)\n",
    "print(len(harmonized_symbol_set))"
   ]
  },
  {
   "cell_type": "code",
   "execution_count": 5,
   "id": "fec7b5f0",
   "metadata": {},
   "outputs": [
    {
     "name": "stdout",
     "output_type": "stream",
     "text": [
      "{'ENSG00000163536.7', 'ENSG00000125454.7', 'ENSG00000084734.4', 'ENSG00000225635', 'ENSG00000070182.13', 'ENSG00000105618.9', 'ENSG00000154330.7', 'ENSG00000223775', 'ENSG00000151779.8', 'ENSG00000112769.13', 'ENSG00000135441.3', 'ENSG00000227746', 'ENSG00000105467.3', 'ENSG00000109756.4', 'ENSG00000282318', 'ENSG00000171492.10', 'ENSG00000145050.11', 'ENSG00000120948.10', 'ENSG00000122787.9', 'ENSG00000198840.2', 'ENSG00000141255.7', 'ENSG00000261052.1', 'ENSG00000130201', 'ENSG00000229396', 'ENSG00000149187.12'}\n",
      "25\n"
     ]
    }
   ],
   "source": [
    "harmonized_ensembl_set.difference_update(intersection_ensembl)\n",
    "print(harmonized_ensembl_set)\n",
    "print(len(harmonized_ensembl_set))"
   ]
  },
  {
   "cell_type": "code",
   "execution_count": null,
   "id": "18cea564",
   "metadata": {},
   "outputs": [],
   "source": []
  }
 ],
 "metadata": {
  "kernelspec": {
   "display_name": "Python 3",
   "language": "python",
   "name": "python3"
  },
  "language_info": {
   "codemirror_mode": {
    "name": "ipython",
    "version": 3
   },
   "file_extension": ".py",
   "mimetype": "text/x-python",
   "name": "python",
   "nbconvert_exporter": "python",
   "pygments_lexer": "ipython3",
   "version": "3.9.0"
  }
 },
 "nbformat": 4,
 "nbformat_minor": 5
}
