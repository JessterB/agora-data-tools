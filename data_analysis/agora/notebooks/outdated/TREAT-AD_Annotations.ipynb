{
 "cells": [
  {
   "cell_type": "code",
   "execution_count": 7,
   "id": "87416ba4",
   "metadata": {},
   "outputs": [],
   "source": [
    "import synapseclient\n",
    "import pandas as pd\n",
    "\n",
    "syn = synapseclient.Synapse()\n",
    "syn.login(silent=True)"
   ]
  },
  {
   "cell_type": "code",
   "execution_count": 8,
   "id": "3de9ea02",
   "metadata": {},
   "outputs": [],
   "source": [
    "query_results = syn.tableQuery(\"SELECT * FROM syn25666932\")\n",
    "df = query_results.asDataFrame()"
   ]
  },
  {
   "cell_type": "code",
   "execution_count": 9,
   "id": "ab1b11db",
   "metadata": {},
   "outputs": [],
   "source": [
    "df['target'] = df['gene']\n",
    "df['contributor'] = df['core']\n",
    "df['tool_type'] = df[['category']].replace(' ', '_', regex=True)\n",
    "df['program'] = 'TREAT-AD'\n",
    "df['grant'] = 'ESS' # needs to be replaced with number\n",
    "df['related_target']\n",
    "df['link'] = \"https://www.synapse.org/#!Synapse:\" + df['id']"
   ]
  },
  {
   "cell_type": "code",
   "execution_count": 10,
   "id": "1e1d41ad",
   "metadata": {},
   "outputs": [
    {
     "data": {
      "text/plain": [
       "<synapseclient.table.CsvFileTable at 0x113054b20>"
      ]
     },
     "execution_count": 10,
     "metadata": {},
     "output_type": "execute_result"
    }
   ],
   "source": [
    "syn.store(synapseclient.Table(schema='syn25666932', values=df))"
   ]
  },
  {
   "cell_type": "code",
   "execution_count": null,
   "id": "7ed19a89",
   "metadata": {},
   "outputs": [],
   "source": []
  }
 ],
 "metadata": {
  "kernelspec": {
   "display_name": "Python 3",
   "language": "python",
   "name": "python3"
  },
  "language_info": {
   "codemirror_mode": {
    "name": "ipython",
    "version": 3
   },
   "file_extension": ".py",
   "mimetype": "text/x-python",
   "name": "python",
   "nbconvert_exporter": "python",
   "pygments_lexer": "ipython3",
   "version": "3.9.0"
  }
 },
 "nbformat": 4,
 "nbformat_minor": 5
}
