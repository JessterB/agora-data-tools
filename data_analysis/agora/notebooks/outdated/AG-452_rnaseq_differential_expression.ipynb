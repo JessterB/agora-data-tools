{
 "cells": [
  {
   "cell_type": "code",
   "execution_count": 18,
   "id": "d2624e04",
   "metadata": {},
   "outputs": [
    {
     "data": {
      "text/plain": [
       "Index(['Model', 'Tissue', 'Comparison', 'ensembl_gene_id', 'logFC', 'CI.L',\n",
       "       'CI.R', 'AveExpr', 't', 'P.Value', 'adj.P.Val', 'gene_biotype',\n",
       "       'chromosome_name', 'Direction', 'hgnc_symbol', 'percentage_gc_content',\n",
       "       'gene.length', 'Sex', 'Study'],\n",
       "      dtype='object')"
      ]
     },
     "execution_count": 18,
     "metadata": {},
     "output_type": "execute_result"
    }
   ],
   "source": [
    "import synapseclient as sc\n",
    "import pandas as pd\n",
    "import numpy as np\n",
    "\n",
    "syn = sc.Synapse()\n",
    "syn.login(silent=True)\n",
    "\n",
    "deffective_rna = 'syn17015360'\n",
    "deffective_rna = syn.get(deffective_rna)\n",
    "deffective_rna = pd.read_json(deffective_rna.path, orient='records')\n",
    "\n",
    "rna = 'syn27211942' # tsv\n",
    "rna = syn.get(rna)\n",
    "rna = pd.read_csv(rna.path, sep='\\t')\n",
    "\n",
    "targets = 'syn12540368' # csv\n",
    "targets = syn.get(targets)\n",
    "targets = pd.read_csv(targets.path)\n",
    "\n",
    "gene_info = 'syn25953363'  # feather\n",
    "gene_info = syn.get(gene_info)\n",
    "gene_info = pd.read_feather(gene_info.path)\n",
    "\n",
    "# these were taken from the configuration file that we use\n",
    "models_to_keep = ['Diagnosis AD-CONTROL ALL', \n",
    "                  'Diagnosis.AOD AD-CONTROL ALL', \n",
    "                  'Diagnosis.Sex AD-CONTROL FEMALE', \n",
    "                  'Diagnosis.Sex AD-CONTROL MALE']\n",
    "\n",
    "rna.columns\n"
   ]
  },
  {
   "cell_type": "markdown",
   "id": "3e5f4210",
   "metadata": {},
   "source": [
    "First, some basic characteristics of these files:"
   ]
  },
  {
   "cell_type": "code",
   "execution_count": 12,
   "id": "a0dadbc7",
   "metadata": {
    "scrolled": true
   },
   "outputs": [
    {
     "name": "stdout",
     "output_type": "stream",
     "text": [
      "                 hgnc_symbol  logfc  fc  ci_l  ci_r  adj_p_val  tissue  study  \\\n",
      "ensembl_gene_id                                                                 \n",
      "ENSG00000000003           36     36  36    36    36         36      36     36   \n",
      "ENSG00000000419           36     36  36    36    36         36      36     36   \n",
      "ENSG00000000457           36     36  36    36    36         36      36     36   \n",
      "ENSG00000000460           36     36  36    36    36         36      36     36   \n",
      "ENSG00000000938           36     36  36    36    36         36      36     36   \n",
      "...                      ...    ...  ..   ...   ...        ...     ...    ...   \n",
      "ENSG00000283097           28     28  28    28    28         28      28     28   \n",
      "ENSG00000283103           36     36  36    36    36         36      36     36   \n",
      "ENSG00000283108           24     24  24    24    24         24      24     24   \n",
      "ENSG00000283118           16     16  16    16    16         16      16     16   \n",
      "ENSG00000283122           16     16  16    16    16         16      16     16   \n",
      "\n",
      "                 model  \n",
      "ensembl_gene_id         \n",
      "ENSG00000000003     36  \n",
      "ENSG00000000419     36  \n",
      "ENSG00000000457     36  \n",
      "ENSG00000000460     36  \n",
      "ENSG00000000938     36  \n",
      "...                ...  \n",
      "ENSG00000283097     28  \n",
      "ENSG00000283103     36  \n",
      "ENSG00000283108     24  \n",
      "ENSG00000283118     16  \n",
      "ENSG00000283122     16  \n",
      "\n",
      "[23379 rows x 9 columns]\n",
      "                 Model  Tissue  Comparison  logFC  CI.L  CI.R  AveExpr   t  \\\n",
      "ensembl_gene_id                                                              \n",
      "ENSG00000000003     36      36          36     36    36    36       36  36   \n",
      "ENSG00000000419     36      36          36     36    36    36       36  36   \n",
      "ENSG00000000457     36      36          36     36    36    36       36  36   \n",
      "ENSG00000000460     36      36          36     36    36    36       36  36   \n",
      "ENSG00000000938     36      36          36     36    36    36       36  36   \n",
      "...                ...     ...         ...    ...   ...   ...      ...  ..   \n",
      "ENSG00000288100     16      16          16     16    16    16       16  16   \n",
      "ENSG00000288105     16      16          16     16    16    16       16  16   \n",
      "ENSG00000288107     36      36          36     36    36    36       36  36   \n",
      "ENSG00000288108     12      12          12     12    12    12       12  12   \n",
      "ENSG00000288110     16      16          16     16    16    16       16  16   \n",
      "\n",
      "                 P.Value  adj.P.Val  gene_biotype  chromosome_name  Direction  \\\n",
      "ensembl_gene_id                                                                 \n",
      "ENSG00000000003       36         36            36               36         36   \n",
      "ENSG00000000419       36         36            36               36         36   \n",
      "ENSG00000000457       36         36            36               36         36   \n",
      "ENSG00000000460       36         36            36               36         36   \n",
      "ENSG00000000938       36         36            36               36         36   \n",
      "...                  ...        ...           ...              ...        ...   \n",
      "ENSG00000288100       16         16            16               16         16   \n",
      "ENSG00000288105       16         16            16               16         16   \n",
      "ENSG00000288107       36         36            36               36         36   \n",
      "ENSG00000288108       12         12            12               12         12   \n",
      "ENSG00000288110       16         16            16               16         16   \n",
      "\n",
      "                 hgnc_symbol  percentage_gc_content  gene.length  Sex  Study  \n",
      "ensembl_gene_id                                                               \n",
      "ENSG00000000003           36                     36           36   36     36  \n",
      "ENSG00000000419           36                     36           36   36     36  \n",
      "ENSG00000000457           36                     36           36   36     36  \n",
      "ENSG00000000460           36                     36           36   36     36  \n",
      "ENSG00000000938           36                     36           36   36     36  \n",
      "...                      ...                    ...          ...  ...    ...  \n",
      "ENSG00000288100           16                     16           16   16     16  \n",
      "ENSG00000288105           16                     16           16   16     16  \n",
      "ENSG00000288107           36                     36           36   36     36  \n",
      "ENSG00000288108           12                     12           12   12     12  \n",
      "ENSG00000288110           16                     16           16   16     16  \n",
      "\n",
      "[24395 rows x 18 columns]\n"
     ]
    }
   ],
   "source": [
    "print(deffective_rna.groupby('ensembl_gene_id').agg('count')) # 23379\n",
    "print(rna.groupby('ensembl_gene_id').agg('count')) # 24395\n"
   ]
  },
  {
   "cell_type": "markdown",
   "id": "1c678947",
   "metadata": {},
   "source": [
    "Prepare data for models in the configuration.  Here we just want to know if we're losing anything due to a mismatch between the \"models to keep\" and the aggregated models."
   ]
  },
  {
   "cell_type": "code",
   "execution_count": 13,
   "id": "335b31e6",
   "metadata": {},
   "outputs": [
    {
     "name": "stdout",
     "output_type": "stream",
     "text": [
      "Current number of rows: 745580\n",
      "Number of rows after filtering models: 745580\n"
     ]
    }
   ],
   "source": [
    "rna['tmp'] = rna[['Model', 'Comparison', 'Sex']].agg(' '.join, axis=1)\n",
    "print(\"Current number of rows: \" + str(rna.shape[0]))\n",
    "\n",
    "rna = rna[rna['tmp'].isin(models_to_keep)]\n",
    "print(\"Number of rows after filtering models: \" + str(rna.shape[0]))"
   ]
  },
  {
   "cell_type": "markdown",
   "id": "45b2bd98",
   "metadata": {},
   "source": [
    "As expected, no loss of rows given that Jake is only including the ones we use in Agora.  Next we have the conditions that filter out the rows in the differential expression dataset.  \n",
    "\n",
    "In summary, we run some logic to create a pandas Series containing only ensembl_gene_ids that meet these conditions. Once we're done, we filter the `rna` dataset to contain only rows matching those ensembl_gene_ids."
   ]
  },
  {
   "cell_type": "code",
   "execution_count": 14,
   "id": "be1ac465",
   "metadata": {},
   "outputs": [
    {
     "data": {
      "text/plain": [
       "(722408, 20)"
      ]
     },
     "execution_count": 14,
     "metadata": {},
     "output_type": "execute_result"
    }
   ],
   "source": [
    "adjusted_p_value_threshold = 1 # from the configuration file we use now\n",
    "transformed_rna = rna.loc[\n",
    "    ((rna['adj.P.Val'] <= adjusted_p_value_threshold) | (rna['ensembl_gene_id'].isin(targets['ensembl_gene_id'])))\n",
    "    & (rna['ensembl_gene_id'].isin(gene_info['ensembl_gene_id']))]\n",
    "\n",
    "transformed_rna.shape "
   ]
  },
  {
   "cell_type": "markdown",
   "id": "a8af9871",
   "metadata": {},
   "source": [
    "Some of the loss of rows occurs with the logic above.  But it does not account for the 23136 rows missing.  This logic will propagate later.  Onto the next piece of logic:"
   ]
  },
  {
   "cell_type": "code",
   "execution_count": 15,
   "id": "60e55ef4",
   "metadata": {},
   "outputs": [
    {
     "data": {
      "text/plain": [
       "(23379, 20)"
      ]
     },
     "execution_count": 15,
     "metadata": {},
     "output_type": "execute_result"
    }
   ],
   "source": [
    "transformed_rna = transformed_rna.drop_duplicates(['ensembl_gene_id'])\n",
    "transformed_rna.shape"
   ]
  },
  {
   "cell_type": "markdown",
   "id": "fb67d219",
   "metadata": {},
   "source": [
    "Then we filter the original `rna` dataset (what we call `differential_expression_data` in some places).  It's the filtering of rna based on the ensembl_gene_ids that will cause the row difference between these datasets."
   ]
  },
  {
   "cell_type": "code",
   "execution_count": 16,
   "id": "a9962529",
   "metadata": {},
   "outputs": [
    {
     "data": {
      "text/plain": [
       "(722408, 20)"
      ]
     },
     "execution_count": 16,
     "metadata": {},
     "output_type": "execute_result"
    }
   ],
   "source": [
    "rna = rna[rna['ensembl_gene_id'].isin(transformed_rna['ensembl_gene_id'])]\n",
    "rna.shape"
   ]
  },
  {
   "cell_type": "markdown",
   "id": "309fce63",
   "metadata": {},
   "source": [
    "Lastly, we filter `rna` again to excluse rows missing a `hgnc_symbol`.  We do need to join this with gene_info first."
   ]
  },
  {
   "cell_type": "code",
   "execution_count": 17,
   "id": "c4da3fa9",
   "metadata": {},
   "outputs": [
    {
     "data": {
      "text/plain": [
       "(722444, 28)"
      ]
     },
     "execution_count": 17,
     "metadata": {},
     "output_type": "execute_result"
    }
   ],
   "source": [
    "rna = pd.merge(left=rna,\n",
    "                     right=gene_info,\n",
    "                     on='ensembl_gene_id',\n",
    "                     how='left')\n",
    "\n",
    "rna = rna[rna['hgnc_symbol'].notna()]\n",
    "rna.shape"
   ]
  }
 ],
 "metadata": {
  "kernelspec": {
   "display_name": "Python 3",
   "language": "python",
   "name": "python3"
  },
  "language_info": {
   "codemirror_mode": {
    "name": "ipython",
    "version": 3
   },
   "file_extension": ".py",
   "mimetype": "text/x-python",
   "name": "python",
   "nbconvert_exporter": "python",
   "pygments_lexer": "ipython3",
   "version": "3.9.0"
  }
 },
 "nbformat": 4,
 "nbformat_minor": 5
}
