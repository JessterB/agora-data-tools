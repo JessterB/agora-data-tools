{
 "cells": [
  {
   "cell_type": "code",
   "execution_count": 2,
   "id": "4da776c1",
   "metadata": {},
   "outputs": [
    {
     "name": "stdout",
     "output_type": "stream",
     "text": [
      "Welcome, Matthew Fazza!\n",
      "\n"
     ]
    },
    {
     "name": "stderr",
     "output_type": "stream",
     "text": [
      "[WARNING] <ipython-input-2-05c4d10195a1>:23: FutureWarning: The default value of regex will change from True to False in a future version.\n",
      "  df.columns = df.columns.str.replace(\"[#,@,&,*,^,?,(,),%,$,#,!,/]\", \"\")\n",
      "\n",
      "[WARNING] <ipython-input-2-05c4d10195a1>:24: FutureWarning: The default value of regex will change from True to False in a future version.\n",
      "  df.columns = df.columns.str.replace(\"[' ', '-', '.']\", \"_\")\n",
      "\n"
     ]
    },
    {
     "name": "stdout",
     "output_type": "stream",
     "text": [
      "(1330018, 18)\n",
      "(56742, 9)\n",
      "(693, 13)\n",
      "(19396, 3)\n"
     ]
    }
   ],
   "source": [
    "import synapseclient\n",
    "import pandas as pd\n",
    "\n",
    "syn = synapseclient.Synapse()\n",
    "syn.login()\n",
    "\n",
    "diff_exp_data = syn.get(entity='syn14237651')\n",
    "gene_info = syn.get(entity='syn25953363')\n",
    "target_list = syn.get('syn12540368')\n",
    "eqtl = syn.get('syn12514912')\n",
    "\n",
    "diff_exp_data = pd.read_csv(diff_exp_data.path, sep='\\t')\n",
    "gene_info = pd.read_feather(gene_info.path)\n",
    "target_list = pd.read_csv(target_list.path)\n",
    "eqtl = pd.read_csv(eqtl.path)\n",
    "\n",
    "\n",
    "models_to_keep = [\"Diagnosis AD-CONTROL ALL\", \"Diagnosis.AOD AD-CONTROL ALL\", \"Diagnosis.Sex AD-CONTROL FEMALE\", \"Diagnosis.Sex AD-CONTROL MALE\"]\n",
    "\n",
    "\n",
    "# interestingly, the list will hold references to the original objects instead of copying them\n",
    "for df in [diff_exp_data, gene_info, target_list, eqtl]:\n",
    "    df.columns = df.columns.str.replace(\"[#,@,&,*,^,?,(,),%,$,#,!,/]\", \"\")\n",
    "    df.columns = df.columns.str.replace(\"[' ', '-', '.']\", \"_\")\n",
    "    df.columns = map(str.lower, df.columns)\n",
    "    \n",
    "    for column in df:\n",
    "        dt = df[column].dtype\n",
    "        if dt == int or dt == float:\n",
    "            df[column] = df[column].fillna(0)\n",
    "        else:\n",
    "            df[column] = df[column].fillna(\"\")\n",
    "\n",
    "    df = df.replace([\"NA\", \"n/a\", \"N/A\", \"na\", \"n/A\", \"N/a\", \"Na\", \"nA\"], \"\")\n",
    "    \n",
    "    \n",
    "    print(df.shape)"
   ]
  },
  {
   "cell_type": "code",
   "execution_count": 3,
   "id": "1cd7e116",
   "metadata": {},
   "outputs": [
    {
     "name": "stdout",
     "output_type": "stream",
     "text": [
      "(56742, 10)\n"
     ]
    }
   ],
   "source": [
    "# gene_info = gene_info[gene_info['hgnc_symbol'].notna()]\n",
    "eqtl = eqtl[['ensembl_gene_id', 'haseqtl']]\n",
    "gene_info = pd.merge(left=gene_info, right=eqtl, on='ensembl_gene_id', how='left')\n",
    "print(gene_info.shape)"
   ]
  },
  {
   "cell_type": "markdown",
   "id": "99199f82",
   "metadata": {},
   "source": [
    "The next few blocks is analogous to the function get_rnaseq_diff_expr_data in the lib.R in the original repo:"
   ]
  },
  {
   "cell_type": "code",
   "execution_count": 4,
   "id": "4dde4adc",
   "metadata": {},
   "outputs": [
    {
     "name": "stdout",
     "output_type": "stream",
     "text": [
      "1330018\n",
      "460008\n"
     ]
    }
   ],
   "source": [
    "diff_exp_data['tmp'] = diff_exp_data[['model', 'comparison', 'sex']].agg(' '.join, axis=1)\n",
    "print(diff_exp_data.shape[0])\n",
    "diff_exp_data = diff_exp_data[diff_exp_data['tmp'].isin(models_to_keep)]\n",
    "print(diff_exp_data.shape[0])"
   ]
  },
  {
   "cell_type": "code",
   "execution_count": 5,
   "id": "99a13e43",
   "metadata": {},
   "outputs": [
    {
     "name": "stdout",
     "output_type": "stream",
     "text": [
      "MSBB          261568\n",
      "MayoRNAseq    136104\n",
      "ROSMAP         62336\n",
      "Name: study, dtype: int64\n",
      "males and females    230004\n",
      "females only         115002\n",
      "males only           115002\n",
      "Name: sex, dtype: int64\n",
      "Diagnosis.AOD (males and females)    115002\n",
      "Diagnosis.Sex (males only)           115002\n",
      "Diagnosis.Sex (females only)         115002\n",
      "AD Diagnosis (males and females)     115002\n",
      "Name: model, dtype: int64\n",
      " 0.000    39694\n",
      "-0.001    24739\n",
      " 0.001    22687\n",
      "-0.002    10407\n",
      " 0.002     9156\n",
      "          ...  \n",
      " 1.263        1\n",
      " 1.658        1\n",
      " 1.138        1\n",
      " 1.229        1\n",
      "-2.242        1\n",
      "Name: logfc, Length: 2158, dtype: int64\n",
      "1.000000    39694\n",
      "0.999307    24739\n",
      "1.000693    22687\n",
      "0.998615    10407\n",
      "1.001387     9156\n",
      "            ...  \n",
      "0.445346        1\n",
      "0.576343        1\n",
      "2.406606        1\n",
      "0.436181        1\n",
      "2.061937        1\n",
      "Name: fc, Length: 2158, dtype: int64\n",
      "        logfc        fc\n",
      "136104  0.363  1.286097\n"
     ]
    }
   ],
   "source": [
    "diff_exp_data['study'].replace(to_replace = {'MAYO': 'MayoRNAseq', 'MSSM': 'MSBB'}, inplace=True)\n",
    "diff_exp_data['sex'].replace(to_replace={'ALL': 'males and females', 'FEMALE': 'females only', 'MALE': 'males only'}, inplace=True)\n",
    "diff_exp_data['model'].replace(to_replace='\\\\.', value=' x ', regex=True)\n",
    "diff_exp_data['model'].replace(to_replace = {'Diagnosis': 'AD Diagnosis'}, inplace=True)\n",
    "diff_exp_data['logfc'] = diff_exp_data['logfc'].round(decimals=3)\n",
    "diff_exp_data['fc'] = 2**diff_exp_data['logfc']\n",
    "diff_exp_data['model'] = diff_exp_data['model'] + \" (\" + diff_exp_data['sex'] + \")\"\n",
    "\n",
    "[print(diff_exp_data[col].value_counts(dropna=False)) for col in ['study', 'sex', 'model', 'logfc', 'fc']]\n",
    "\n",
    "print(diff_exp_data[['logfc', 'fc']].iloc[:1]) # quick check on the fc column\n"
   ]
  },
  {
   "cell_type": "markdown",
   "id": "7c9daa69",
   "metadata": {},
   "source": [
    "The cells below are analogous to get_target_list in the lib.R:"
   ]
  },
  {
   "cell_type": "code",
   "execution_count": 6,
   "id": "3a9d2da2",
   "metadata": {},
   "outputs": [
    {
     "name": "stdout",
     "output_type": "stream",
     "text": [
      "(460008, 20)\n",
      "(457408, 20)\n",
      "(18381, 1)\n",
      "(457408, 10)\n",
      "(457436, 19)\n"
     ]
    }
   ],
   "source": [
    "adj_p_value_threshold = 1\n",
    "\n",
    "\n",
    "print(diff_exp_data.shape)\n",
    "\n",
    "adjusted_diff_exp_data = diff_exp_data.loc[((diff_exp_data['adj_p_val'] <= adj_p_value_threshold) \n",
    "                                            | (diff_exp_data['ensembl_gene_id'].isin(target_list['ensembl_gene_id']))) \n",
    "                                            & (diff_exp_data['ensembl_gene_id'].isin(gene_info['ensembl_gene_id']))\n",
    "                                                ]\n",
    "\n",
    "print(adjusted_diff_exp_data.shape)\n",
    "\n",
    "adjusted_diff_exp_data = adjusted_diff_exp_data.drop_duplicates(['ensembl_gene_id'])\n",
    "adjusted_diff_exp_data = adjusted_diff_exp_data[['ensembl_gene_id']]\n",
    "\n",
    "print(adjusted_diff_exp_data.shape)\n",
    "\n",
    "diff_exp_data = diff_exp_data[diff_exp_data['ensembl_gene_id'].isin(adjusted_diff_exp_data['ensembl_gene_id'])]\n",
    "diff_exp_data = diff_exp_data[['ensembl_gene_id', 'logfc', 'fc', 'ci_l', 'ci_r',\n",
    "                  'adj_p_val', 'tissue', 'study', 'model', 'hgnc_symbol']]\n",
    "                            \n",
    "print(diff_exp_data.shape)\n",
    "diff_exp_data = pd.merge(left=diff_exp_data, right=gene_info, on='ensembl_gene_id', how='left')\n",
    "print(diff_exp_data.shape)\n",
    "diff_exp_data = diff_exp_data[diff_exp_data['hgnc_symbol'].notna()]\n",
    "diff_exp_data = diff_exp_data[['ensembl_gene_id', 'hgnc_symbol', 'logfc', 'fc', 'ci_l', 'ci_r', 'adj_p_val', 'tissue',\n",
    "       'study', 'model']]"
   ]
  },
  {
   "cell_type": "code",
   "execution_count": 7,
   "id": "abdc4934",
   "metadata": {},
   "outputs": [
    {
     "data": {
      "text/plain": [
       "(457436, 10)"
      ]
     },
     "execution_count": 7,
     "metadata": {},
     "output_type": "execute_result"
    }
   ],
   "source": [
    "diff_exp_data.shape"
   ]
  },
  {
   "cell_type": "code",
   "execution_count": 8,
   "id": "80f70ec5",
   "metadata": {},
   "outputs": [
    {
     "data": {
      "text/plain": [
       "(458944, 10)"
      ]
     },
     "execution_count": 8,
     "metadata": {},
     "output_type": "execute_result"
    }
   ],
   "source": [
    "old_rna = syn.get('syn25721516')\n",
    "old_rna = pd.read_json(old_rna.path, orient='records')\n",
    "old_rna.shape"
   ]
  }
 ],
 "metadata": {
  "kernelspec": {
   "display_name": "Python 3",
   "language": "python",
   "name": "python3"
  },
  "language_info": {
   "codemirror_mode": {
    "name": "ipython",
    "version": 3
   },
   "file_extension": ".py",
   "mimetype": "text/x-python",
   "name": "python",
   "nbconvert_exporter": "python",
   "pygments_lexer": "ipython3",
   "version": "3.9.0"
  }
 },
 "nbformat": 4,
 "nbformat_minor": 5
}
