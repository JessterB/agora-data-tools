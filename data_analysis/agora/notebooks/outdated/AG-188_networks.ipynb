{
 "cells": [
  {
   "cell_type": "code",
   "execution_count": 89,
   "id": "302588f1",
   "metadata": {
    "scrolled": true
   },
   "outputs": [],
   "source": [
    "import pandas as pd\n",
    "import json\n",
    "import synapseclient\n",
    "\n",
    "syn = synapseclient.Synapse()\n",
    "syn.login(silent=True)\n",
    "\n",
    "gene_info = 'syn25953363'\n",
    "networks = 'syn11685347'\n",
    "\n",
    "gene_info = syn.get(gene_info)\n",
    "networks = syn.get(networks)\n",
    "\n",
    "gene_info = pd.read_feather(gene_info.path)\n",
    "networks = pd.read_csv(networks.path)"
   ]
  },
  {
   "cell_type": "code",
   "execution_count": 90,
   "id": "b458eccb",
   "metadata": {},
   "outputs": [
    {
     "data": {
      "text/html": [
       "<div>\n",
       "<style scoped>\n",
       "    .dataframe tbody tr th:only-of-type {\n",
       "        vertical-align: middle;\n",
       "    }\n",
       "\n",
       "    .dataframe tbody tr th {\n",
       "        vertical-align: top;\n",
       "    }\n",
       "\n",
       "    .dataframe thead th {\n",
       "        text-align: right;\n",
       "    }\n",
       "</style>\n",
       "<table border=\"1\" class=\"dataframe\">\n",
       "  <thead>\n",
       "    <tr style=\"text-align: right;\">\n",
       "      <th></th>\n",
       "      <th>ensembl_gene_id</th>\n",
       "      <th>hgnc_symbol</th>\n",
       "    </tr>\n",
       "  </thead>\n",
       "  <tbody>\n",
       "    <tr>\n",
       "      <th>0</th>\n",
       "      <td>ENSG00000223972</td>\n",
       "      <td>DDX11L1</td>\n",
       "    </tr>\n",
       "    <tr>\n",
       "      <th>1</th>\n",
       "      <td>ENSG00000227232</td>\n",
       "      <td>WASH7P</td>\n",
       "    </tr>\n",
       "    <tr>\n",
       "      <th>2</th>\n",
       "      <td>ENSG00000278267</td>\n",
       "      <td>MIR6859-1</td>\n",
       "    </tr>\n",
       "  </tbody>\n",
       "</table>\n",
       "</div>"
      ],
      "text/plain": [
       "   ensembl_gene_id hgnc_symbol\n",
       "0  ENSG00000223972     DDX11L1\n",
       "1  ENSG00000227232      WASH7P\n",
       "2  ENSG00000278267   MIR6859-1"
      ]
     },
     "execution_count": 90,
     "metadata": {},
     "output_type": "execute_result"
    }
   ],
   "source": [
    "gene_info.rename(columns={\"symbol\": \"hgnc_symbol\"}, inplace=True)\n",
    "gene_info = gene_info[['ensembl_gene_id', 'hgnc_symbol']]\n",
    "gene_info.head(3)"
   ]
  },
  {
   "cell_type": "code",
   "execution_count": 91,
   "id": "a8d005c8",
   "metadata": {},
   "outputs": [
    {
     "name": "stdout",
     "output_type": "stream",
     "text": [
      "(347419, 5)\n"
     ]
    },
    {
     "data": {
      "text/html": [
       "<div>\n",
       "<style scoped>\n",
       "    .dataframe tbody tr th:only-of-type {\n",
       "        vertical-align: middle;\n",
       "    }\n",
       "\n",
       "    .dataframe tbody tr th {\n",
       "        vertical-align: top;\n",
       "    }\n",
       "\n",
       "    .dataframe thead th {\n",
       "        text-align: right;\n",
       "    }\n",
       "</style>\n",
       "<table border=\"1\" class=\"dataframe\">\n",
       "  <thead>\n",
       "    <tr style=\"text-align: right;\">\n",
       "      <th></th>\n",
       "      <th>geneA_ensembl_gene_id</th>\n",
       "      <th>geneB_ensembl_gene_id</th>\n",
       "      <th>geneA_external_gene_name</th>\n",
       "      <th>geneB_external_gene_name</th>\n",
       "      <th>brainRegion</th>\n",
       "    </tr>\n",
       "  </thead>\n",
       "  <tbody>\n",
       "    <tr>\n",
       "      <th>0</th>\n",
       "      <td>ENSG00000268903</td>\n",
       "      <td>ENSG00000150337</td>\n",
       "      <td>AL627309.7</td>\n",
       "      <td>FCGR1A</td>\n",
       "      <td>DLPFC</td>\n",
       "    </tr>\n",
       "    <tr>\n",
       "      <th>1</th>\n",
       "      <td>ENSG00000225972</td>\n",
       "      <td>ENSG00000229344</td>\n",
       "      <td>MTND1P23</td>\n",
       "      <td>MTCO2P12</td>\n",
       "      <td>DLPFC</td>\n",
       "    </tr>\n",
       "    <tr>\n",
       "      <th>2</th>\n",
       "      <td>ENSG00000225972</td>\n",
       "      <td>ENSG00000269028</td>\n",
       "      <td>MTND1P23</td>\n",
       "      <td>MTRNR2L12</td>\n",
       "      <td>DLPFC</td>\n",
       "    </tr>\n",
       "  </tbody>\n",
       "</table>\n",
       "</div>"
      ],
      "text/plain": [
       "  geneA_ensembl_gene_id geneB_ensembl_gene_id geneA_external_gene_name  \\\n",
       "0       ENSG00000268903       ENSG00000150337               AL627309.7   \n",
       "1       ENSG00000225972       ENSG00000229344                 MTND1P23   \n",
       "2       ENSG00000225972       ENSG00000269028                 MTND1P23   \n",
       "\n",
       "  geneB_external_gene_name brainRegion  \n",
       "0                   FCGR1A       DLPFC  \n",
       "1                 MTCO2P12       DLPFC  \n",
       "2                MTRNR2L12       DLPFC  "
      ]
     },
     "execution_count": 91,
     "metadata": {},
     "output_type": "execute_result"
    }
   ],
   "source": [
    "print(networks.shape)\n",
    "networks.head(3)"
   ]
  },
  {
   "cell_type": "code",
   "execution_count": 92,
   "id": "24d46d2b",
   "metadata": {},
   "outputs": [
    {
     "data": {
      "text/plain": [
       "(344587, 5)"
      ]
     },
     "execution_count": 92,
     "metadata": {},
     "output_type": "execute_result"
    }
   ],
   "source": [
    "networks = networks[networks['geneA_ensembl_gene_id'].isin(gene_info['ensembl_gene_id']) & networks['geneB_ensembl_gene_id'].isin(gene_info['ensembl_gene_id'])]\n",
    "\n",
    "# unclear about the line below. Line 286 on lib.R suggests this\n",
    "# networks = networks[['geneA_ensembl_gene_id', 'geneB_ensembl_gene_id', 'brainRegion']]\n",
    "networks.shape"
   ]
  },
  {
   "cell_type": "code",
   "execution_count": 93,
   "id": "b75713b3",
   "metadata": {},
   "outputs": [
    {
     "name": "stdout",
     "output_type": "stream",
     "text": [
      "(344600, 7)\n"
     ]
    },
    {
     "data": {
      "text/html": [
       "<div>\n",
       "<style scoped>\n",
       "    .dataframe tbody tr th:only-of-type {\n",
       "        vertical-align: middle;\n",
       "    }\n",
       "\n",
       "    .dataframe tbody tr th {\n",
       "        vertical-align: top;\n",
       "    }\n",
       "\n",
       "    .dataframe thead th {\n",
       "        text-align: right;\n",
       "    }\n",
       "</style>\n",
       "<table border=\"1\" class=\"dataframe\">\n",
       "  <thead>\n",
       "    <tr style=\"text-align: right;\">\n",
       "      <th></th>\n",
       "      <th>geneA_ensembl_gene_id</th>\n",
       "      <th>geneB_ensembl_gene_id</th>\n",
       "      <th>geneA_external_gene_name</th>\n",
       "      <th>geneB_external_gene_name</th>\n",
       "      <th>brainRegion</th>\n",
       "      <th>ensembl_gene_id</th>\n",
       "      <th>hgnc_symbol</th>\n",
       "    </tr>\n",
       "  </thead>\n",
       "  <tbody>\n",
       "    <tr>\n",
       "      <th>0</th>\n",
       "      <td>ENSG00000268903</td>\n",
       "      <td>ENSG00000150337</td>\n",
       "      <td>AL627309.7</td>\n",
       "      <td>FCGR1A</td>\n",
       "      <td>DLPFC</td>\n",
       "      <td>ENSG00000268903</td>\n",
       "      <td>None</td>\n",
       "    </tr>\n",
       "    <tr>\n",
       "      <th>1</th>\n",
       "      <td>ENSG00000225972</td>\n",
       "      <td>ENSG00000229344</td>\n",
       "      <td>MTND1P23</td>\n",
       "      <td>MTCO2P12</td>\n",
       "      <td>DLPFC</td>\n",
       "      <td>ENSG00000225972</td>\n",
       "      <td>MTND1P23</td>\n",
       "    </tr>\n",
       "    <tr>\n",
       "      <th>2</th>\n",
       "      <td>ENSG00000225972</td>\n",
       "      <td>ENSG00000269028</td>\n",
       "      <td>MTND1P23</td>\n",
       "      <td>MTRNR2L12</td>\n",
       "      <td>DLPFC</td>\n",
       "      <td>ENSG00000225972</td>\n",
       "      <td>MTND1P23</td>\n",
       "    </tr>\n",
       "  </tbody>\n",
       "</table>\n",
       "</div>"
      ],
      "text/plain": [
       "  geneA_ensembl_gene_id geneB_ensembl_gene_id geneA_external_gene_name  \\\n",
       "0       ENSG00000268903       ENSG00000150337               AL627309.7   \n",
       "1       ENSG00000225972       ENSG00000229344                 MTND1P23   \n",
       "2       ENSG00000225972       ENSG00000269028                 MTND1P23   \n",
       "\n",
       "  geneB_external_gene_name brainRegion  ensembl_gene_id hgnc_symbol  \n",
       "0                   FCGR1A       DLPFC  ENSG00000268903        None  \n",
       "1                 MTCO2P12       DLPFC  ENSG00000225972    MTND1P23  \n",
       "2                MTRNR2L12       DLPFC  ENSG00000225972    MTND1P23  "
      ]
     },
     "execution_count": 93,
     "metadata": {},
     "output_type": "execute_result"
    }
   ],
   "source": [
    "gene_info.drop_duplicates(inplace=True)\n",
    "merged = pd.merge(left=networks, right=gene_info, left_on='geneA_ensembl_gene_id', right_on='ensembl_gene_id', how='left')\n",
    "\n",
    "print(merged.shape)\n",
    "merged.head(3)"
   ]
  },
  {
   "cell_type": "code",
   "execution_count": 94,
   "id": "3ead4a7f",
   "metadata": {},
   "outputs": [
    {
     "name": "stdout",
     "output_type": "stream",
     "text": [
      "(344659, 7)\n"
     ]
    },
    {
     "data": {
      "text/html": [
       "<div>\n",
       "<style scoped>\n",
       "    .dataframe tbody tr th:only-of-type {\n",
       "        vertical-align: middle;\n",
       "    }\n",
       "\n",
       "    .dataframe tbody tr th {\n",
       "        vertical-align: top;\n",
       "    }\n",
       "\n",
       "    .dataframe thead th {\n",
       "        text-align: right;\n",
       "    }\n",
       "</style>\n",
       "<table border=\"1\" class=\"dataframe\">\n",
       "  <thead>\n",
       "    <tr style=\"text-align: right;\">\n",
       "      <th></th>\n",
       "      <th>geneA_ensembl_gene_id</th>\n",
       "      <th>geneB_ensembl_gene_id</th>\n",
       "      <th>geneA_external_gene_name</th>\n",
       "      <th>geneB_external_gene_name</th>\n",
       "      <th>brainRegion</th>\n",
       "      <th>ensembl_gene_id</th>\n",
       "      <th>hgnc_symbol</th>\n",
       "    </tr>\n",
       "  </thead>\n",
       "  <tbody>\n",
       "    <tr>\n",
       "      <th>0</th>\n",
       "      <td>ENSG00000268903</td>\n",
       "      <td>ENSG00000150337</td>\n",
       "      <td>AL627309.7</td>\n",
       "      <td>FCGR1A</td>\n",
       "      <td>DLPFC</td>\n",
       "      <td>ENSG00000150337</td>\n",
       "      <td>FCGR1A</td>\n",
       "    </tr>\n",
       "    <tr>\n",
       "      <th>1</th>\n",
       "      <td>ENSG00000225972</td>\n",
       "      <td>ENSG00000229344</td>\n",
       "      <td>MTND1P23</td>\n",
       "      <td>MTCO2P12</td>\n",
       "      <td>DLPFC</td>\n",
       "      <td>ENSG00000229344</td>\n",
       "      <td>MTCO2P12</td>\n",
       "    </tr>\n",
       "    <tr>\n",
       "      <th>2</th>\n",
       "      <td>ENSG00000225972</td>\n",
       "      <td>ENSG00000269028</td>\n",
       "      <td>MTND1P23</td>\n",
       "      <td>MTRNR2L12</td>\n",
       "      <td>DLPFC</td>\n",
       "      <td>ENSG00000269028</td>\n",
       "      <td>MTRNR2L2</td>\n",
       "    </tr>\n",
       "  </tbody>\n",
       "</table>\n",
       "</div>"
      ],
      "text/plain": [
       "  geneA_ensembl_gene_id geneB_ensembl_gene_id geneA_external_gene_name  \\\n",
       "0       ENSG00000268903       ENSG00000150337               AL627309.7   \n",
       "1       ENSG00000225972       ENSG00000229344                 MTND1P23   \n",
       "2       ENSG00000225972       ENSG00000269028                 MTND1P23   \n",
       "\n",
       "  geneB_external_gene_name brainRegion  ensembl_gene_id hgnc_symbol  \n",
       "0                   FCGR1A       DLPFC  ENSG00000150337      FCGR1A  \n",
       "1                 MTCO2P12       DLPFC  ENSG00000229344    MTCO2P12  \n",
       "2                MTRNR2L12       DLPFC  ENSG00000269028    MTRNR2L2  "
      ]
     },
     "execution_count": 94,
     "metadata": {},
     "output_type": "execute_result"
    }
   ],
   "source": [
    "merged = pd.merge(left=networks, right=gene_info, left_on='geneB_ensembl_gene_id', right_on='ensembl_gene_id', how='left')\n",
    "# merged.rename(columns={'geneB_external_gene_name':'hgnc_symbol'})\n",
    "print(merged.shape)\n",
    "merged.head(3)"
   ]
  },
  {
   "cell_type": "code",
   "execution_count": 103,
   "id": "b5d62291",
   "metadata": {},
   "outputs": [],
   "source": [
    "merged = merged[['geneA_ensembl_gene_id', 'geneB_ensembl_gene_id',\n",
    "       'geneA_external_gene_name', 'geneB_external_gene_name', 'brainRegion']]\n",
    "merged.to_json('../output/network.json', orient='records')"
   ]
  },
  {
   "cell_type": "code",
   "execution_count": null,
   "id": "37eab4f1",
   "metadata": {},
   "outputs": [],
   "source": []
  }
 ],
 "metadata": {
  "kernelspec": {
   "display_name": "Python 3",
   "language": "python",
   "name": "python3"
  },
  "language_info": {
   "codemirror_mode": {
    "name": "ipython",
    "version": 3
   },
   "file_extension": ".py",
   "mimetype": "text/x-python",
   "name": "python",
   "nbconvert_exporter": "python",
   "pygments_lexer": "ipython3",
   "version": "3.9.0"
  }
 },
 "nbformat": 4,
 "nbformat_minor": 5
}
