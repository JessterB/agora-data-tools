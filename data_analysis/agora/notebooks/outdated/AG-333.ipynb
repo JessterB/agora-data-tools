{
 "cells": [
  {
   "cell_type": "code",
   "execution_count": 5,
   "id": "24036079",
   "metadata": {},
   "outputs": [],
   "source": [
    "import pandas as pd\n",
    "import mygene"
   ]
  },
  {
   "cell_type": "code",
   "execution_count": 16,
   "id": "a3936057",
   "metadata": {},
   "outputs": [
    {
     "name": "stdout",
     "output_type": "stream",
     "text": [
      "querying 1-1000...done.\n",
      "querying 1001-2000...done.\n",
      "querying 2001-3000...done.\n",
      "querying 3001-4000...done.\n",
      "querying 4001-5000...done.\n",
      "querying 5001-6000...done.\n",
      "querying 6001-7000...done.\n",
      "querying 7001-8000...done.\n",
      "querying 8001-9000...done.\n",
      "querying 9001-10000...done.\n",
      "querying 10001-11000...done.\n",
      "querying 11001-12000...done.\n",
      "querying 12001-13000...done.\n",
      "querying 13001-14000...done.\n",
      "querying 14001-15000...done.\n",
      "querying 15001-16000...done.\n",
      "querying 16001-17000...done.\n",
      "querying 17001-18000...done.\n",
      "querying 18001-19000...done.\n",
      "querying 19001-20000...done.\n",
      "querying 20001-21000...done.\n",
      "querying 21001-22000...done.\n",
      "querying 22001-23000...done.\n",
      "querying 23001-24000...done.\n",
      "querying 24001-25000...done.\n",
      "querying 25001-26000...done.\n",
      "querying 26001-27000...done.\n",
      "querying 27001-28000...done.\n",
      "querying 28001-29000...done.\n",
      "querying 29001-30000...done.\n",
      "querying 30001-31000...done.\n",
      "querying 31001-32000...done.\n",
      "querying 32001-33000...done.\n",
      "querying 33001-34000...done.\n",
      "querying 34001-35000...done.\n",
      "querying 35001-36000...done.\n",
      "querying 36001-37000...done.\n",
      "querying 37001-38000...done.\n",
      "querying 38001-39000...done.\n",
      "querying 39001-40000...done.\n",
      "querying 40001-41000...done.\n",
      "querying 41001-42000...done.\n",
      "querying 42001-43000...done.\n",
      "querying 43001-44000...done.\n",
      "querying 44001-45000...done.\n",
      "querying 45001-46000...done.\n",
      "querying 46001-47000...done.\n",
      "querying 47001-48000...done.\n",
      "querying 48001-49000...done.\n",
      "querying 49001-50000...done.\n",
      "querying 50001-51000...done.\n",
      "querying 51001-52000...done.\n",
      "querying 52001-53000...done.\n",
      "querying 53001-54000...done.\n",
      "querying 54001-55000...done.\n",
      "querying 55001-56000...done.\n",
      "querying 56001-57000...done.\n",
      "querying 57001-58000...done.\n",
      "querying 58001-59000...done.\n",
      "querying 59001-60000...done.\n",
      "querying 60001-60725...done.\n"
     ]
    }
   ],
   "source": [
    "flat_file_url = \"https://gist.github.com/kdaily/2ed85e0dd3048fea8424b40243ddfa1c/raw/420086bd941962df66992667972c13462e504cc6/gencode.v24.primary_assembly.refFlat.txt\"\n",
    "gene_table = pd.read_csv(flat_file_url, sep='\\t', header=None, usecols=[0], names=['ensembl_gene_id'])\n",
    "gene_table = gene_table[\"ensembl_gene_id\"].replace(\"\\\\..*\", \"\", regex=True).drop_duplicates().reset_index()\n",
    "\n",
    "mg = mygene.MyGeneInfo()\n",
    "bioconductor_gene_info = mg.getgenes(gene_table['ensembl_gene_id'], fields=[\"symbol\", \"name\", \"summary\", \"type_of_gene\", \"alias\"], as_dataframe=True)"
   ]
  },
  {
   "cell_type": "code",
   "execution_count": 20,
   "id": "3d24a215",
   "metadata": {},
   "outputs": [
    {
     "name": "stdout",
     "output_type": "stream",
     "text": [
      "_id             56712\n",
      "_version        56712\n",
      "name            40716\n",
      "symbol          40716\n",
      "type_of_gene    24835\n",
      "alias           19242\n",
      "summary         14310\n",
      "notfound         4015\n",
      "dtype: int64\n"
     ]
    }
   ],
   "source": [
    "bioconductor_gene_info.index.rename(\"ensembl_gene_id\", inplace=True)"
   ]
  },
  {
   "cell_type": "code",
   "execution_count": 48,
   "id": "678e99eb",
   "metadata": {},
   "outputs": [
    {
     "name": "stdout",
     "output_type": "stream",
     "text": [
      "          symbol  _id  _version  name  type_of_gene  alias  summary  notfound\n",
      "0        5S_rRNA    4         4     4             0      0        0         0\n",
      "1      5_8S_rRNA    6         6     6             0      0        0         0\n",
      "2            7SK    7         7     7             0      0        0         0\n",
      "322     ACTR3BP2    2         2     2             1      1        0         0\n",
      "836      ALG1L9P    2         2     2             1      0        0         0\n",
      "...          ...  ...       ...   ...           ...    ...      ...       ...\n",
      "37210         U6   13        13    13             0      0        0         0\n",
      "37211         U7    7         7     7             0      0        0         0\n",
      "37212         U8   22        22    22             0      0        0         0\n",
      "38065      Vault    4         4     4             0      0        0         0\n",
      "38480      Y_RNA  756       756   756             0      0        0         0\n",
      "\n",
      "[93 rows x 8 columns]\n"
     ]
    }
   ],
   "source": [
    "duplicates = bioconductor_gene_info.groupby('symbol', as_index=False).agg('count')\n",
    "print(duplicates[duplicates['_id'] > 1]) # effectively the same list we found on the ticket"
   ]
  },
  {
   "cell_type": "code",
   "execution_count": 49,
   "id": "0b251130",
   "metadata": {},
   "outputs": [
    {
     "name": "stdout",
     "output_type": "stream",
     "text": [
      "             symbol  _id  _version  name  type_of_gene  alias  summary  \\\n",
      "0           5S_rRNA    4         4     4             0      0        0   \n",
      "1         5_8S_rRNA    6         6     6             0      0        0   \n",
      "2               7SK    7         7     7             0      0        0   \n",
      "3              A1BG    1         1     1             1      1        1   \n",
      "4          A1BG-AS1    1         1     1             1      1        0   \n",
      "...             ...  ...       ...   ...           ...    ...      ...   \n",
      "39522         ZZEF1    1         1     1             1      1        0   \n",
      "39523          ZZZ3    1         1     1             1      1        0   \n",
      "39524  hsa-mir-1253    1         1     1             0      0        0   \n",
      "39525   hsa-mir-423    1         1     1             0      0        0   \n",
      "39526       snoZ196    1         1     1             0      0        0   \n",
      "\n",
      "       notfound  \n",
      "0             0  \n",
      "1             0  \n",
      "2             0  \n",
      "3             0  \n",
      "4             0  \n",
      "...         ...  \n",
      "39522         0  \n",
      "39523         0  \n",
      "39524         0  \n",
      "39525         0  \n",
      "39526         0  \n",
      "\n",
      "[39527 rows x 8 columns]\n"
     ]
    }
   ],
   "source": [
    "print(duplicates['ensembl_gene_id'])"
   ]
  },
  {
   "cell_type": "code",
   "execution_count": 50,
   "id": "20f89f58",
   "metadata": {},
   "outputs": [
    {
     "data": {
      "text/html": [
       "<div>\n",
       "<style scoped>\n",
       "    .dataframe tbody tr th:only-of-type {\n",
       "        vertical-align: middle;\n",
       "    }\n",
       "\n",
       "    .dataframe tbody tr th {\n",
       "        vertical-align: top;\n",
       "    }\n",
       "\n",
       "    .dataframe thead th {\n",
       "        text-align: right;\n",
       "    }\n",
       "</style>\n",
       "<table border=\"1\" class=\"dataframe\">\n",
       "  <thead>\n",
       "    <tr style=\"text-align: right;\">\n",
       "      <th></th>\n",
       "      <th>_id</th>\n",
       "      <th>_version</th>\n",
       "      <th>name</th>\n",
       "      <th>symbol</th>\n",
       "      <th>type_of_gene</th>\n",
       "      <th>alias</th>\n",
       "      <th>summary</th>\n",
       "      <th>notfound</th>\n",
       "    </tr>\n",
       "    <tr>\n",
       "      <th>ensembl_gene_id</th>\n",
       "      <th></th>\n",
       "      <th></th>\n",
       "      <th></th>\n",
       "      <th></th>\n",
       "      <th></th>\n",
       "      <th></th>\n",
       "      <th></th>\n",
       "      <th></th>\n",
       "    </tr>\n",
       "  </thead>\n",
       "  <tbody>\n",
       "    <tr>\n",
       "      <th>ENSG00000274890</th>\n",
       "      <td>NaN</td>\n",
       "      <td>NaN</td>\n",
       "      <td>NaN</td>\n",
       "      <td>NaN</td>\n",
       "      <td>NaN</td>\n",
       "      <td>NaN</td>\n",
       "      <td>NaN</td>\n",
       "      <td>True</td>\n",
       "    </tr>\n",
       "    <tr>\n",
       "      <th>ENSG00000238009</th>\n",
       "      <td>ENSG00000238009</td>\n",
       "      <td>1.0</td>\n",
       "      <td>NaN</td>\n",
       "      <td>NaN</td>\n",
       "      <td>NaN</td>\n",
       "      <td>NaN</td>\n",
       "      <td>NaN</td>\n",
       "      <td>NaN</td>\n",
       "    </tr>\n",
       "    <tr>\n",
       "      <th>ENSG00000239945</th>\n",
       "      <td>ENSG00000239945</td>\n",
       "      <td>1.0</td>\n",
       "      <td>NaN</td>\n",
       "      <td>NaN</td>\n",
       "      <td>NaN</td>\n",
       "      <td>NaN</td>\n",
       "      <td>NaN</td>\n",
       "      <td>NaN</td>\n",
       "    </tr>\n",
       "    <tr>\n",
       "      <th>ENSG00000268903</th>\n",
       "      <td>ENSG00000268903</td>\n",
       "      <td>1.0</td>\n",
       "      <td>NaN</td>\n",
       "      <td>NaN</td>\n",
       "      <td>NaN</td>\n",
       "      <td>NaN</td>\n",
       "      <td>NaN</td>\n",
       "      <td>NaN</td>\n",
       "    </tr>\n",
       "    <tr>\n",
       "      <th>ENSG00000269981</th>\n",
       "      <td>ENSG00000269981</td>\n",
       "      <td>1.0</td>\n",
       "      <td>NaN</td>\n",
       "      <td>NaN</td>\n",
       "      <td>NaN</td>\n",
       "      <td>NaN</td>\n",
       "      <td>NaN</td>\n",
       "      <td>NaN</td>\n",
       "    </tr>\n",
       "    <tr>\n",
       "      <th>...</th>\n",
       "      <td>...</td>\n",
       "      <td>...</td>\n",
       "      <td>...</td>\n",
       "      <td>...</td>\n",
       "      <td>...</td>\n",
       "      <td>...</td>\n",
       "      <td>...</td>\n",
       "      <td>...</td>\n",
       "    </tr>\n",
       "    <tr>\n",
       "      <th>ENSG00000274938</th>\n",
       "      <td>NaN</td>\n",
       "      <td>NaN</td>\n",
       "      <td>NaN</td>\n",
       "      <td>NaN</td>\n",
       "      <td>NaN</td>\n",
       "      <td>NaN</td>\n",
       "      <td>NaN</td>\n",
       "      <td>True</td>\n",
       "    </tr>\n",
       "    <tr>\n",
       "      <th>ENSG00000278806</th>\n",
       "      <td>NaN</td>\n",
       "      <td>NaN</td>\n",
       "      <td>NaN</td>\n",
       "      <td>NaN</td>\n",
       "      <td>NaN</td>\n",
       "      <td>NaN</td>\n",
       "      <td>NaN</td>\n",
       "      <td>True</td>\n",
       "    </tr>\n",
       "    <tr>\n",
       "      <th>ENSG00000274152</th>\n",
       "      <td>NaN</td>\n",
       "      <td>NaN</td>\n",
       "      <td>NaN</td>\n",
       "      <td>NaN</td>\n",
       "      <td>NaN</td>\n",
       "      <td>NaN</td>\n",
       "      <td>NaN</td>\n",
       "      <td>True</td>\n",
       "    </tr>\n",
       "    <tr>\n",
       "      <th>ENSG00000276666</th>\n",
       "      <td>NaN</td>\n",
       "      <td>NaN</td>\n",
       "      <td>NaN</td>\n",
       "      <td>NaN</td>\n",
       "      <td>NaN</td>\n",
       "      <td>NaN</td>\n",
       "      <td>NaN</td>\n",
       "      <td>True</td>\n",
       "    </tr>\n",
       "    <tr>\n",
       "      <th>ENSG00000277917</th>\n",
       "      <td>NaN</td>\n",
       "      <td>NaN</td>\n",
       "      <td>NaN</td>\n",
       "      <td>NaN</td>\n",
       "      <td>NaN</td>\n",
       "      <td>NaN</td>\n",
       "      <td>NaN</td>\n",
       "      <td>True</td>\n",
       "    </tr>\n",
       "  </tbody>\n",
       "</table>\n",
       "<p>20011 rows × 8 columns</p>\n",
       "</div>"
      ],
      "text/plain": [
       "                             _id  _version name symbol type_of_gene alias  \\\n",
       "ensembl_gene_id                                                             \n",
       "ENSG00000274890              NaN       NaN  NaN    NaN          NaN   NaN   \n",
       "ENSG00000238009  ENSG00000238009       1.0  NaN    NaN          NaN   NaN   \n",
       "ENSG00000239945  ENSG00000239945       1.0  NaN    NaN          NaN   NaN   \n",
       "ENSG00000268903  ENSG00000268903       1.0  NaN    NaN          NaN   NaN   \n",
       "ENSG00000269981  ENSG00000269981       1.0  NaN    NaN          NaN   NaN   \n",
       "...                          ...       ...  ...    ...          ...   ...   \n",
       "ENSG00000274938              NaN       NaN  NaN    NaN          NaN   NaN   \n",
       "ENSG00000278806              NaN       NaN  NaN    NaN          NaN   NaN   \n",
       "ENSG00000274152              NaN       NaN  NaN    NaN          NaN   NaN   \n",
       "ENSG00000276666              NaN       NaN  NaN    NaN          NaN   NaN   \n",
       "ENSG00000277917              NaN       NaN  NaN    NaN          NaN   NaN   \n",
       "\n",
       "                summary notfound  \n",
       "ensembl_gene_id                   \n",
       "ENSG00000274890     NaN     True  \n",
       "ENSG00000238009     NaN      NaN  \n",
       "ENSG00000239945     NaN      NaN  \n",
       "ENSG00000268903     NaN      NaN  \n",
       "ENSG00000269981     NaN      NaN  \n",
       "...                 ...      ...  \n",
       "ENSG00000274938     NaN     True  \n",
       "ENSG00000278806     NaN     True  \n",
       "ENSG00000274152     NaN     True  \n",
       "ENSG00000276666     NaN     True  \n",
       "ENSG00000277917     NaN     True  \n",
       "\n",
       "[20011 rows x 8 columns]"
      ]
     },
     "execution_count": 50,
     "metadata": {},
     "output_type": "execute_result"
    }
   ],
   "source": [
    "missing_symbol = bioconductor_gene_info[bioconductor_gene_info['symbol'].isna()]\n",
    "missing_symbol"
   ]
  },
  {
   "cell_type": "code",
   "execution_count": 58,
   "id": "d8bc4705",
   "metadata": {},
   "outputs": [
    {
     "name": "stdout",
     "output_type": "stream",
     "text": [
      "Welcome, Matthew Fazza!\n",
      "\n",
      "(114988, 3)\n",
      "(1330018, 18)\n",
      "(22704, 10)\n",
      "(15401, 10)\n"
     ]
    }
   ],
   "source": [
    "import synapseclient\n",
    "syn = synapseclient.Synapse()\n",
    "syn.login()\n",
    "\n",
    "median_expression = 'syn12514804' # csv\n",
    "rna_seq_differential_expression = 'syn14237651' # tsv\n",
    "proteomics = 'syn18689335' # csv\n",
    "metabolomics = 'syn26064497' # feather\n",
    "\n",
    "median_expression = syn.get(median_expression)\n",
    "rna_seq_differential_expression = syn.get(rna_seq_differential_expression)\n",
    "proteomics = syn.get(proteomics)\n",
    "metabolomics = syn.get(metabolomics)\n",
    "\n",
    "median_expression = pd.read_csv(median_expression.path)\n",
    "rna_seq_differential_expression = pd.read_csv(rna_seq_differential_expression.path, sep='\\t')\n",
    "proteomics = pd.read_csv(proteomics.path)\n",
    "metabolomics = pd.read_feather(metabolomics.path)"
   ]
  },
  {
   "cell_type": "markdown",
   "id": "d416d2e3",
   "metadata": {},
   "source": [
    "Finding the name of the ensembl_gene_id column:"
   ]
  },
  {
   "cell_type": "code",
   "execution_count": 64,
   "id": "6177462f",
   "metadata": {},
   "outputs": [
    {
     "name": "stdout",
     "output_type": "stream",
     "text": [
      "ensembl_gene_id\n",
      "ensembl_gene_id\n",
      "ENSG\n",
      "ensembl_gene_id\n"
     ]
    }
   ],
   "source": [
    "for dataset in [median_expression, rna_seq_differential_expression, proteomics, metabolomics]:\n",
    "    [print(col) for col in dataset.columns if 'ens' in col.lower()]"
   ]
  },
  {
   "cell_type": "markdown",
   "id": "1ad0e8e1",
   "metadata": {},
   "source": [
    "Setting aside the missing ensembl_gene_ids:"
   ]
  },
  {
   "cell_type": "code",
   "execution_count": 76,
   "id": "f44cf9d9",
   "metadata": {},
   "outputs": [
    {
     "data": {
      "text/plain": [
       "20011"
      ]
     },
     "execution_count": 76,
     "metadata": {},
     "output_type": "execute_result"
    }
   ],
   "source": [
    "missing_ids = pd.Series(missing_symbol.index)\n",
    "missing_ids.count()"
   ]
  },
  {
   "cell_type": "markdown",
   "id": "18b9434a",
   "metadata": {},
   "source": [
    "Available data from missing data."
   ]
  },
  {
   "cell_type": "code",
   "execution_count": 88,
   "id": "1c29baf3",
   "metadata": {},
   "outputs": [
    {
     "name": "stdout",
     "output_type": "stream",
     "text": [
      "7386\n",
      "\n",
      "3282\n",
      "\n",
      "23\n",
      "\n",
      "4842\n",
      "\n"
     ]
    }
   ],
   "source": [
    "for df in [median_expression, rna_seq_differential_expression, proteomics, metabolomics]:\n",
    "    try:\n",
    "        print(df[df['ensembl_gene_id'].isin(missing_ids)].dropna().shape[0])\n",
    "        print()\n",
    "    except:\n",
    "        print(df[df['ENSG'].isin(missing_ids)].dropna().shape[0])\n",
    "        print()"
   ]
  },
  {
   "cell_type": "code",
   "execution_count": null,
   "id": "6b0f1cac",
   "metadata": {},
   "outputs": [],
   "source": []
  }
 ],
 "metadata": {
  "kernelspec": {
   "display_name": "Python 3",
   "language": "python",
   "name": "python3"
  },
  "language_info": {
   "codemirror_mode": {
    "name": "ipython",
    "version": 3
   },
   "file_extension": ".py",
   "mimetype": "text/x-python",
   "name": "python",
   "nbconvert_exporter": "python",
   "pygments_lexer": "ipython3",
   "version": "3.9.0"
  }
 },
 "nbformat": 4,
 "nbformat_minor": 5
}
