{
 "cells": [
  {
   "cell_type": "code",
   "execution_count": 1,
   "metadata": {
    "pycharm": {
     "name": "#%%\n"
    }
   },
   "outputs": [],
   "source": [
    "from os import name\n",
    "import pandas as pd\n",
    "import mygene\n",
    "import numpy as np\n",
    "\n",
    "flat_file_url = \"https://gist.github.com/kdaily/2ed85e0dd3048fea8424b40243ddfa1c/raw/420086bd941962df66992667972c13462e504cc6/gencode.v24.primary_assembly.refFlat.txt\""
   ]
  },
  {
   "cell_type": "markdown",
   "metadata": {
    "pycharm": {
     "name": "#%% md\n"
    }
   },
   "source": [
    "Agora uses one particular dataset that historically has been packed as part of an RData file.  Since finding the original\n",
    "code used to generate gene_info.RData, I realized that code cannot be run.  It rellies on the presence of a couple of\n",
    "columns that come from the mygene package in BioConductor.  This notebook is the most faithful reproduction of that data\n",
    "workflow in order to generate an interoperable file corresponding to the one we haver been using in Agora for a long time.\n",
    "\n",
    "This is the provenance of gene_info.feather.\n",
    "\n",
    "The next cell contains the set-up required to run the notebook:"
   ]
  },
  {
   "cell_type": "markdown",
   "metadata": {
    "pycharm": {
     "name": "#%% md\n"
    }
   },
   "source": [
    "The first step is to read the raw data into a pandas dataframe and make sure the names are standardized.  The result we\n",
    "get is a Pandas Series that needs to be converted in a dataframe."
   ]
  },
  {
   "cell_type": "code",
   "execution_count": 6,
   "metadata": {
    "pycharm": {
     "is_executing": true,
     "name": "#%%\n"
    }
   },
   "outputs": [
    {
     "data": {
      "text/plain": [
       "(20011,)"
      ]
     },
     "execution_count": 6,
     "metadata": {},
     "output_type": "execute_result"
    }
   ],
   "source": [
    "# gene_table = pd.read_csv(flat_file_url, sep='\\t', header=None, usecols=[0], names=['ensembl_gene_id'])\n",
    "gene_table = pd.read_csv('../../gene_info_refined.csv')\n",
    "# gene_table = gene_table[\"ensembl_gene_id\"].replace(\"\\\\..*\", \"\", regex=True).drop_duplicates()\n",
    "\n",
    "# gene_table = pd.DataFrame(gene_table)\n",
    "gene_table = gene_table['ensembl_gene_id']\n",
    "# gene_table.columns = ['ensembl_gene_id']\n",
    "\n",
    "gene_table.shape # should be the same as the R counterpart"
   ]
  },
  {
   "cell_type": "markdown",
   "metadata": {},
   "source": [
    "Next, we must fetch the data from the BioConductor Package in order to retrieve a few key fields.  Interestingly, the\n",
    "field X_Score - a measurement of how well the search algorithm did in finding this gene- is not present anymore.  Feel\n",
    "free to modify the query to include that field and verify it for yourself.\n",
    "\n",
    "*\"query\" is the name of the index and needs to be named \"ensembl_gene_id\"."
   ]
  },
  {
   "cell_type": "code",
   "execution_count": 8,
   "metadata": {
    "pycharm": {
     "is_executing": true,
     "name": "#%%\n"
    },
    "scrolled": true
   },
   "outputs": [
    {
     "name": "stdout",
     "output_type": "stream",
     "text": [
      "querying 1-1000...done.\n",
      "querying 1001-2000...done.\n",
      "querying 2001-3000...done.\n",
      "querying 3001-4000...done.\n",
      "querying 4001-5000...done.\n",
      "querying 5001-6000...done.\n",
      "querying 6001-7000...done.\n",
      "querying 7001-8000...done.\n",
      "querying 8001-9000...done.\n",
      "querying 9001-10000...done.\n",
      "querying 10001-11000...done.\n",
      "querying 11001-12000...done.\n",
      "querying 12001-13000...done.\n",
      "querying 13001-14000...done.\n",
      "querying 14001-15000...done.\n",
      "querying 15001-16000...done.\n",
      "querying 16001-17000...done.\n",
      "querying 17001-18000...done.\n",
      "querying 18001-19000...done.\n",
      "querying 19001-20000...done.\n",
      "querying 20001-20011...done.\n"
     ]
    },
    {
     "data": {
      "text/html": [
       "<div>\n",
       "<style scoped>\n",
       "    .dataframe tbody tr th:only-of-type {\n",
       "        vertical-align: middle;\n",
       "    }\n",
       "\n",
       "    .dataframe tbody tr th {\n",
       "        vertical-align: top;\n",
       "    }\n",
       "\n",
       "    .dataframe thead th {\n",
       "        text-align: right;\n",
       "    }\n",
       "</style>\n",
       "<table border=\"1\" class=\"dataframe\">\n",
       "  <thead>\n",
       "    <tr style=\"text-align: right;\">\n",
       "      <th></th>\n",
       "      <th>notfound</th>\n",
       "      <th>_id</th>\n",
       "      <th>_version</th>\n",
       "    </tr>\n",
       "    <tr>\n",
       "      <th>ensembl_gene_id</th>\n",
       "      <th></th>\n",
       "      <th></th>\n",
       "      <th></th>\n",
       "    </tr>\n",
       "  </thead>\n",
       "  <tbody>\n",
       "    <tr>\n",
       "      <th>ENSG00000069712</th>\n",
       "      <td>True</td>\n",
       "      <td>NaN</td>\n",
       "      <td>NaN</td>\n",
       "    </tr>\n",
       "    <tr>\n",
       "      <th>ENSG00000083622</th>\n",
       "      <td>NaN</td>\n",
       "      <td>ENSG00000083622</td>\n",
       "      <td>1.0</td>\n",
       "    </tr>\n",
       "    <tr>\n",
       "      <th>ENSG00000093100</th>\n",
       "      <td>NaN</td>\n",
       "      <td>ENSG00000093100</td>\n",
       "      <td>1.0</td>\n",
       "    </tr>\n",
       "    <tr>\n",
       "      <th>ENSG00000100101</th>\n",
       "      <td>NaN</td>\n",
       "      <td>ENSG00000100101</td>\n",
       "      <td>1.0</td>\n",
       "    </tr>\n",
       "    <tr>\n",
       "      <th>ENSG00000103200</th>\n",
       "      <td>NaN</td>\n",
       "      <td>ENSG00000103200</td>\n",
       "      <td>1.0</td>\n",
       "    </tr>\n",
       "  </tbody>\n",
       "</table>\n",
       "</div>"
      ],
      "text/plain": [
       "                notfound              _id  _version\n",
       "ensembl_gene_id                                    \n",
       "ENSG00000069712     True              NaN       NaN\n",
       "ENSG00000083622      NaN  ENSG00000083622       1.0\n",
       "ENSG00000093100      NaN  ENSG00000093100       1.0\n",
       "ENSG00000100101      NaN  ENSG00000100101       1.0\n",
       "ENSG00000103200      NaN  ENSG00000103200       1.0"
      ]
     },
     "execution_count": 8,
     "metadata": {},
     "output_type": "execute_result"
    }
   ],
   "source": [
    "mg = mygene.MyGeneInfo()\n",
    "# bioconductor_gene_info = mg.getgenes(gene_table['ensembl_gene_id'], fields=[\"symbol\", \"name\", \"summary\", \"type_of_gene\", \"alias\"], as_dataframe=True)\n",
    "bioconductor_gene_info = mg.getgenes(gene_table, fields=[\"symbol\", \"name\", \"summary\", \"type_of_gene\", \"alias\"], as_dataframe=True)\n",
    "bioconductor_gene_info.index.rename(\"ensembl_gene_id\", inplace=True)\n",
    "bioconductor_gene_info.head()"
   ]
  },
  {
   "cell_type": "code",
   "execution_count": 13,
   "metadata": {},
   "outputs": [
    {
     "data": {
      "text/plain": [
       "notfound    4015\n",
       "_id            0\n",
       "_version       0\n",
       "dtype: int64"
      ]
     },
     "execution_count": 13,
     "metadata": {},
     "output_type": "execute_result"
    }
   ],
   "source": [
    "bioconductor_gene_info[bioconductor_gene_info['notfound'] == True].count()"
   ]
  },
  {
   "cell_type": "code",
   "execution_count": 14,
   "metadata": {
    "scrolled": true
   },
   "outputs": [
    {
     "data": {
      "text/plain": [
       "notfound        0\n",
       "_id         15996\n",
       "_version    15996\n",
       "dtype: int64"
      ]
     },
     "execution_count": 14,
     "metadata": {},
     "output_type": "execute_result"
    }
   ],
   "source": [
    "bioconductor_gene_info[bioconductor_gene_info['notfound'].isna()].count()"
   ]
  },
  {
   "cell_type": "code",
   "execution_count": 16,
   "metadata": {},
   "outputs": [
    {
     "data": {
      "text/plain": [
       "Index(['notfound', '_id', '_version'], dtype='object')"
      ]
     },
     "execution_count": 16,
     "metadata": {},
     "output_type": "execute_result"
    }
   ],
   "source": [
    "bioconductor_gene_info.columns"
   ]
  },
  {
   "cell_type": "markdown",
   "metadata": {},
   "source": [
    "We join, and then stardardize our datasets:"
   ]
  },
  {
   "cell_type": "code",
   "execution_count": 12,
   "metadata": {
    "pycharm": {
     "is_executing": true,
     "name": "#%%\n"
    }
   },
   "outputs": [
    {
     "name": "stderr",
     "output_type": "stream",
     "text": [
      "<ipython-input-12-73abb1f902c2>:2: FutureWarning: The default value of regex will change from True to False in a future version.\n",
      "  gene_table_merged.columns = gene_table_merged.columns.str.replace(\"[#,@,&,*,^,?,(,),%,$,#,!,/]\", \"\")\n",
      "<ipython-input-12-73abb1f902c2>:3: FutureWarning: The default value of regex will change from True to False in a future version.\n",
      "  gene_table_merged.columns = gene_table_merged.columns.str.replace(\"[' ', '-', '.']\", \"_\")\n"
     ]
    },
    {
     "data": {
      "text/plain": [
       "(60727, 9)"
      ]
     },
     "execution_count": 12,
     "metadata": {},
     "output_type": "execute_result"
    }
   ],
   "source": [
    "gene_table_merged = pd.merge(left=gene_table, right=bioconductor_gene_info, how='left', on=\"ensembl_gene_id\")\n",
    "gene_table_merged.columns = gene_table_merged.columns.str.replace(\"[#,@,&,*,^,?,(,),%,$,#,!,/]\", \"\")\n",
    "gene_table_merged.columns = gene_table_merged.columns.str.replace(\"[' ', '-', '.']\", \"_\")\n",
    "gene_table_merged.columns = map(str.lower, gene_table_merged.columns)\n",
    "\n",
    "\n",
    "# the next two lines would be relevant if we wanted to bring in the go.MF field.  Since we do not, they're commented out.  Older datasets should still contain them, so I'm providing the logic in case you see those.\n",
    "# gene_table_merged[\"go_mf\"] = gene_table_merged[\"go_mf\"].fillna('').astype(str)\n",
    "# gene_table_merged[\"go_mf_pubmed\"] = gene_table_merged[\"go_mf_pubmed\"].fillna(np.nan).apply(lambda x: x if type(x) is None or type(x) is list else [x])\n",
    "\n",
    "gene_table_merged.shape"
   ]
  },
  {
   "cell_type": "markdown",
   "metadata": {},
   "source": [
    "It's important that we check the values here.  We expect the index to be populated for every row (in other words, it should match the row count of the previous cell), while missing values on the other columns are expected.  The 'notfound' column should be an indicator that querying for that particular gene yielded no result.  Therefore, columns used for internal purposes (the ones starting in underscore) should contain the same number of missing values."
   ]
  },
  {
   "cell_type": "code",
   "execution_count": 13,
   "metadata": {},
   "outputs": [
    {
     "name": "stdout",
     "output_type": "stream",
     "text": [
      "Missing values from ensembl_gene_id: 0\n",
      "Missing values from _id: 4015\n",
      "Missing values from _version: 4015\n",
      "Missing values from name: 20011\n",
      "Missing values from symbol: 20011\n",
      "Missing values from type_of_gene: 35892\n",
      "Missing values from alias: 41492\n",
      "Missing values from summary: 46418\n",
      "Missing values from notfound: 56712\n"
     ]
    },
    {
     "data": {
      "text/plain": [
       "(4015, 9)"
      ]
     },
     "execution_count": 13,
     "metadata": {},
     "output_type": "execute_result"
    }
   ],
   "source": [
    "for col in gene_table_merged.columns:\n",
    "    print(\"Missing values from \" + col + \": \" + str(gene_table_merged[col].isna().sum()))\n",
    "    \n",
    "not_found = gene_table_merged[gene_table_merged['notfound'].notna()]\n",
    "not_found.shape"
   ]
  },
  {
   "cell_type": "markdown",
   "metadata": {
    "pycharm": {
     "is_executing": true
    }
   },
   "source": [
    "Most importantly, we would like to make sure that there's no information in the other columns every time 'notfound' is True.  That will ensure the cleanliness of the dataset."
   ]
  },
  {
   "cell_type": "code",
   "execution_count": 14,
   "metadata": {
    "pycharm": {
     "is_executing": true
    }
   },
   "outputs": [
    {
     "name": "stdout",
     "output_type": "stream",
     "text": [
      "0\n",
      "0\n",
      "0\n",
      "0\n",
      "0\n"
     ]
    }
   ],
   "source": [
    "interesting_columns = [col for col in not_found.columns if '_' not in col[0]] # all columns that don't start with _\n",
    "interesting_columns.remove('ensembl_gene_id')\n",
    "interesting_columns.remove('notfound')\n",
    "\n",
    "for col in interesting_columns:\n",
    "    print(not_found[not_found[col].notna()].shape[0])"
   ]
  },
  {
   "cell_type": "code",
   "execution_count": 15,
   "metadata": {},
   "outputs": [
    {
     "data": {
      "text/plain": [
       "Index(['ensembl_gene_id', '_id', '_version', 'name', 'symbol', 'type_of_gene',\n",
       "       'alias', 'summary', 'notfound'],\n",
       "      dtype='object')"
      ]
     },
     "execution_count": 15,
     "metadata": {},
     "output_type": "execute_result"
    }
   ],
   "source": [
    "gene_table_merged.columns"
   ]
  },
  {
   "cell_type": "markdown",
   "metadata": {},
   "source": [
    "Lastly, we can confidently remove the values where notfound is true, and write our feather file:"
   ]
  },
  {
   "cell_type": "code",
   "execution_count": 7,
   "metadata": {
    "pycharm": {
     "is_executing": true,
     "name": "#%%\n"
    },
    "scrolled": true
   },
   "outputs": [],
   "source": [
    "# gene_table_merged_py = gene_table_merged.copy() # this copy gets used for analysis in the ./comparisson.ipynb file\n",
    "# gene_table_merged = gene_table_merged[gene_table_merged['notfound'].isnull()].reset_index()\n",
    "\n",
    "for row in gene_table_merged.loc[gene_table_merged['alias'].isnull(), 'alias'].index:\n",
    "    gene_table_merged.at[row, 'alias'] = []\n",
    "\n",
    "gene_table_merged['alias'] = gene_table_merged['alias'].apply(lambda cell: cell if isinstance(cell, list) else [cell])\n",
    "# gene_table_merged[gene_table_merged['alias'].map(type) == float]\n",
    "# set(gene_table_merged['alias'].map(type))\n",
    "\n",
    "\n",
    "# gene_table_merged_py.to_feather('../output/gene_table_merged_py.feather')\n",
    "gene_table_merged.to_feather('../output/gene_table_merged.feather')"
   ]
  }
 ],
 "metadata": {
  "kernelspec": {
   "display_name": "Python 3",
   "language": "python",
   "name": "python3"
  },
  "language_info": {
   "codemirror_mode": {
    "name": "ipython",
    "version": 3
   },
   "file_extension": ".py",
   "mimetype": "text/x-python",
   "name": "python",
   "nbconvert_exporter": "python",
   "pygments_lexer": "ipython3",
   "version": "3.9.0"
  }
 },
 "nbformat": 4,
 "nbformat_minor": 1
}
