{
 "cells": [
  {
   "cell_type": "code",
   "execution_count": 1,
   "id": "d0bf840f",
   "metadata": {},
   "outputs": [
    {
     "data": {
      "text/html": [
       "<div>\n",
       "<style scoped>\n",
       "    .dataframe tbody tr th:only-of-type {\n",
       "        vertical-align: middle;\n",
       "    }\n",
       "\n",
       "    .dataframe tbody tr th {\n",
       "        vertical-align: top;\n",
       "    }\n",
       "\n",
       "    .dataframe thead th {\n",
       "        text-align: right;\n",
       "    }\n",
       "</style>\n",
       "<table border=\"1\" class=\"dataframe\">\n",
       "  <thead>\n",
       "    <tr style=\"text-align: right;\">\n",
       "      <th></th>\n",
       "      <th>ensembl_gene_id</th>\n",
       "      <th>hgnc_symbol</th>\n",
       "      <th>logfc</th>\n",
       "      <th>fc</th>\n",
       "      <th>ci_l</th>\n",
       "      <th>ci_r</th>\n",
       "      <th>adj_p_val</th>\n",
       "      <th>tissue</th>\n",
       "      <th>study</th>\n",
       "      <th>model</th>\n",
       "    </tr>\n",
       "  </thead>\n",
       "  <tbody>\n",
       "    <tr>\n",
       "      <th>0</th>\n",
       "      <td>ENSG00000228521</td>\n",
       "      <td>AC099552.3</td>\n",
       "      <td>1.646715</td>\n",
       "      <td>3.131199</td>\n",
       "      <td>1.219379</td>\n",
       "      <td>2.074052</td>\n",
       "      <td>2.261704e-10</td>\n",
       "      <td>CBE</td>\n",
       "      <td>MayoRNAseq</td>\n",
       "      <td>AD Diagnosis (males and females)</td>\n",
       "    </tr>\n",
       "    <tr>\n",
       "      <th>1</th>\n",
       "      <td>ENSG00000163221</td>\n",
       "      <td>S100A12</td>\n",
       "      <td>1.584079</td>\n",
       "      <td>2.998163</td>\n",
       "      <td>0.890001</td>\n",
       "      <td>2.278157</td>\n",
       "      <td>1.323673e-04</td>\n",
       "      <td>CBE</td>\n",
       "      <td>MayoRNAseq</td>\n",
       "      <td>AD Diagnosis (males and females)</td>\n",
       "    </tr>\n",
       "    <tr>\n",
       "      <th>2</th>\n",
       "      <td>ENSG00000273802</td>\n",
       "      <td>HIST1H2BG</td>\n",
       "      <td>1.373508</td>\n",
       "      <td>2.590998</td>\n",
       "      <td>0.970485</td>\n",
       "      <td>1.776531</td>\n",
       "      <td>1.590620e-08</td>\n",
       "      <td>CBE</td>\n",
       "      <td>MayoRNAseq</td>\n",
       "      <td>AD Diagnosis (males and females)</td>\n",
       "    </tr>\n",
       "    <tr>\n",
       "      <th>3</th>\n",
       "      <td>ENSG00000124107</td>\n",
       "      <td>SLPI</td>\n",
       "      <td>1.369576</td>\n",
       "      <td>2.583946</td>\n",
       "      <td>0.564874</td>\n",
       "      <td>2.174278</td>\n",
       "      <td>4.777964e-03</td>\n",
       "      <td>CBE</td>\n",
       "      <td>MayoRNAseq</td>\n",
       "      <td>AD Diagnosis (males and females)</td>\n",
       "    </tr>\n",
       "    <tr>\n",
       "      <th>4</th>\n",
       "      <td>ENSG00000168329</td>\n",
       "      <td>CX3CR1</td>\n",
       "      <td>-1.362178</td>\n",
       "      <td>0.388995</td>\n",
       "      <td>-1.871640</td>\n",
       "      <td>-0.852716</td>\n",
       "      <td>7.491453e-06</td>\n",
       "      <td>CBE</td>\n",
       "      <td>MayoRNAseq</td>\n",
       "      <td>AD Diagnosis (males and females)</td>\n",
       "    </tr>\n",
       "  </tbody>\n",
       "</table>\n",
       "</div>"
      ],
      "text/plain": [
       "   ensembl_gene_id hgnc_symbol     logfc        fc      ci_l      ci_r  \\\n",
       "0  ENSG00000228521  AC099552.3  1.646715  3.131199  1.219379  2.074052   \n",
       "1  ENSG00000163221     S100A12  1.584079  2.998163  0.890001  2.278157   \n",
       "2  ENSG00000273802   HIST1H2BG  1.373508  2.590998  0.970485  1.776531   \n",
       "3  ENSG00000124107        SLPI  1.369576  2.583946  0.564874  2.174278   \n",
       "4  ENSG00000168329      CX3CR1 -1.362178  0.388995 -1.871640 -0.852716   \n",
       "\n",
       "      adj_p_val tissue       study                             model  \n",
       "0  2.261704e-10    CBE  MayoRNAseq  AD Diagnosis (males and females)  \n",
       "1  1.323673e-04    CBE  MayoRNAseq  AD Diagnosis (males and females)  \n",
       "2  1.590620e-08    CBE  MayoRNAseq  AD Diagnosis (males and females)  \n",
       "3  4.777964e-03    CBE  MayoRNAseq  AD Diagnosis (males and females)  \n",
       "4  7.491453e-06    CBE  MayoRNAseq  AD Diagnosis (males and females)  "
      ]
     },
     "execution_count": 1,
     "metadata": {},
     "output_type": "execute_result"
    }
   ],
   "source": [
    "import synapseclient\n",
    "import pandas as pd\n",
    "import numpy as np\n",
    "\n",
    "syn = synapseclient.Synapse()\n",
    "syn.login(silent=True)\n",
    "\n",
    "rna = 'syn12177499'\n",
    "rna = syn.get(rna)\n",
    "\n",
    "rna_df = pd.read_json(rna.path, orient='records')\n",
    "rna_df.head(5)"
   ]
  },
  {
   "cell_type": "markdown",
   "id": "1784ad54",
   "metadata": {},
   "source": [
    "We first get summary statistics about the rna dataset and select the interesting columns.  Subsequently we rename those columns to calculate the correct interquartile range:"
   ]
  },
  {
   "cell_type": "code",
   "execution_count": 2,
   "id": "7126832e",
   "metadata": {},
   "outputs": [],
   "source": [
    "rna_df = rna_df[['tissue', 'model', 'logfc']]\n",
    "rna_df = rna_df.groupby(['tissue', 'model']).agg('describe')['logfc'].reset_index()[['model', 'tissue', 'min', 'max', '25%', '50%', '75%']]\n",
    "rna_df.rename(columns={'25%': 'first_quartile', '50%': 'median', '75%': 'third_quartile'}, inplace=True)"
   ]
  },
  {
   "cell_type": "markdown",
   "id": "f246ff28",
   "metadata": {},
   "source": [
    "We calculate the quartiles correctly and round them up.  Since we don't need the interquartile range for the portal, we drop that column."
   ]
  },
  {
   "cell_type": "code",
   "execution_count": 3,
   "id": "73075705",
   "metadata": {},
   "outputs": [],
   "source": [
    "rna_df['IQR'] = rna_df['third_quartile'] - rna_df['first_quartile']\n",
    "rna_df['min'] = rna_df['first_quartile'] - (1.5 * rna_df['IQR'])\n",
    "rna_df['max'] = rna_df['third_quartile'] + (1.5 * rna_df['IQR'])\n",
    "\n",
    "for col in ['min', 'max', 'median', 'first_quartile', 'third_quartile']:\n",
    "    rna_df[col] = np.around(rna_df[col], 4)\n",
    "\n",
    "rna_df.drop('IQR', axis=1, inplace=True)"
   ]
  }
 ],
 "metadata": {
  "kernelspec": {
   "display_name": "Python 3",
   "language": "python",
   "name": "python3"
  },
  "language_info": {
   "codemirror_mode": {
    "name": "ipython",
    "version": 3
   },
   "file_extension": ".py",
   "mimetype": "text/x-python",
   "name": "python",
   "nbconvert_exporter": "python",
   "pygments_lexer": "ipython3",
   "version": "3.9.0"
  }
 },
 "nbformat": 4,
 "nbformat_minor": 5
}
