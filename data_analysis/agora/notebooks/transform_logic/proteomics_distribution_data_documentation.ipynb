{
 "cells": [
  {
   "cell_type": "code",
   "execution_count": 1,
   "id": "98716903",
   "metadata": {},
   "outputs": [
    {
     "data": {
      "text/html": [
       "<div>\n",
       "<style scoped>\n",
       "    .dataframe tbody tr th:only-of-type {\n",
       "        vertical-align: middle;\n",
       "    }\n",
       "\n",
       "    .dataframe tbody tr th {\n",
       "        vertical-align: top;\n",
       "    }\n",
       "\n",
       "    .dataframe thead th {\n",
       "        text-align: right;\n",
       "    }\n",
       "</style>\n",
       "<table border=\"1\" class=\"dataframe\">\n",
       "  <thead>\n",
       "    <tr style=\"text-align: right;\">\n",
       "      <th></th>\n",
       "      <th>ensembl_gene_id</th>\n",
       "      <th>hgnc_symbol</th>\n",
       "      <th>logfc</th>\n",
       "      <th>fc</th>\n",
       "      <th>ci_l</th>\n",
       "      <th>ci_r</th>\n",
       "      <th>adj_p_val</th>\n",
       "      <th>tissue</th>\n",
       "      <th>study</th>\n",
       "      <th>model</th>\n",
       "    </tr>\n",
       "  </thead>\n",
       "  <tbody>\n",
       "    <tr>\n",
       "      <th>0</th>\n",
       "      <td>ENSG00000228521</td>\n",
       "      <td>AC099552.3</td>\n",
       "      <td>1.646715</td>\n",
       "      <td>3.131199</td>\n",
       "      <td>1.219379</td>\n",
       "      <td>2.074052</td>\n",
       "      <td>2.261704e-10</td>\n",
       "      <td>CBE</td>\n",
       "      <td>MayoRNAseq</td>\n",
       "      <td>AD Diagnosis (males and females)</td>\n",
       "    </tr>\n",
       "    <tr>\n",
       "      <th>1</th>\n",
       "      <td>ENSG00000163221</td>\n",
       "      <td>S100A12</td>\n",
       "      <td>1.584079</td>\n",
       "      <td>2.998163</td>\n",
       "      <td>0.890001</td>\n",
       "      <td>2.278157</td>\n",
       "      <td>1.323673e-04</td>\n",
       "      <td>CBE</td>\n",
       "      <td>MayoRNAseq</td>\n",
       "      <td>AD Diagnosis (males and females)</td>\n",
       "    </tr>\n",
       "    <tr>\n",
       "      <th>2</th>\n",
       "      <td>ENSG00000273802</td>\n",
       "      <td>HIST1H2BG</td>\n",
       "      <td>1.373508</td>\n",
       "      <td>2.590998</td>\n",
       "      <td>0.970485</td>\n",
       "      <td>1.776531</td>\n",
       "      <td>1.590620e-08</td>\n",
       "      <td>CBE</td>\n",
       "      <td>MayoRNAseq</td>\n",
       "      <td>AD Diagnosis (males and females)</td>\n",
       "    </tr>\n",
       "    <tr>\n",
       "      <th>3</th>\n",
       "      <td>ENSG00000124107</td>\n",
       "      <td>SLPI</td>\n",
       "      <td>1.369576</td>\n",
       "      <td>2.583946</td>\n",
       "      <td>0.564874</td>\n",
       "      <td>2.174278</td>\n",
       "      <td>4.777964e-03</td>\n",
       "      <td>CBE</td>\n",
       "      <td>MayoRNAseq</td>\n",
       "      <td>AD Diagnosis (males and females)</td>\n",
       "    </tr>\n",
       "    <tr>\n",
       "      <th>4</th>\n",
       "      <td>ENSG00000168329</td>\n",
       "      <td>CX3CR1</td>\n",
       "      <td>-1.362178</td>\n",
       "      <td>0.388995</td>\n",
       "      <td>-1.871640</td>\n",
       "      <td>-0.852716</td>\n",
       "      <td>7.491453e-06</td>\n",
       "      <td>CBE</td>\n",
       "      <td>MayoRNAseq</td>\n",
       "      <td>AD Diagnosis (males and females)</td>\n",
       "    </tr>\n",
       "  </tbody>\n",
       "</table>\n",
       "</div>"
      ],
      "text/plain": [
       "   ensembl_gene_id hgnc_symbol     logfc        fc      ci_l      ci_r  \\\n",
       "0  ENSG00000228521  AC099552.3  1.646715  3.131199  1.219379  2.074052   \n",
       "1  ENSG00000163221     S100A12  1.584079  2.998163  0.890001  2.278157   \n",
       "2  ENSG00000273802   HIST1H2BG  1.373508  2.590998  0.970485  1.776531   \n",
       "3  ENSG00000124107        SLPI  1.369576  2.583946  0.564874  2.174278   \n",
       "4  ENSG00000168329      CX3CR1 -1.362178  0.388995 -1.871640 -0.852716   \n",
       "\n",
       "      adj_p_val tissue       study                             model  \n",
       "0  2.261704e-10    CBE  MayoRNAseq  AD Diagnosis (males and females)  \n",
       "1  1.323673e-04    CBE  MayoRNAseq  AD Diagnosis (males and females)  \n",
       "2  1.590620e-08    CBE  MayoRNAseq  AD Diagnosis (males and females)  \n",
       "3  4.777964e-03    CBE  MayoRNAseq  AD Diagnosis (males and females)  \n",
       "4  7.491453e-06    CBE  MayoRNAseq  AD Diagnosis (males and females)  "
      ]
     },
     "execution_count": 1,
     "metadata": {},
     "output_type": "execute_result"
    }
   ],
   "source": [
    "import synapseclient\n",
    "import pandas as pd\n",
    "import numpy as np\n",
    "\n",
    "syn = synapseclient.Synapse()\n",
    "syn.login(silent=True)\n",
    "\n",
    "proteomics = 'syn12177499'\n",
    "proteomics = syn.get(proteomics)\n",
    "\n",
    "proteomics_df = pd.read_json(proteomics.path, orient='records')\n",
    "proteomics_df.head(5)"
   ]
  },
  {
   "cell_type": "markdown",
   "id": "bc61dd4d",
   "metadata": {},
   "source": [
    "We first get summary statistics about the rna dataset and select the interesting columns.  Subsequently we rename those columns to calculate the correct interquartile range:"
   ]
  },
  {
   "cell_type": "code",
   "execution_count": 4,
   "id": "e2ca84b5",
   "metadata": {},
   "outputs": [],
   "source": [
    "proteomics_df = proteomics_df.groupby(['tissue']).agg('describe')['logfc'].reset_index()[\n",
    "    ['tissue', 'min', 'max', '25%', '50%', '75%']]\n",
    "\n",
    "proteomics_df.rename(columns={'25%': 'first_quartile', '50%': 'median', '75%': 'third_quartile'}, inplace=True)"
   ]
  },
  {
   "cell_type": "markdown",
   "id": "78b63bcc",
   "metadata": {},
   "source": [
    "We calculate the quartiles correctly and round them to four significant digits.  Since we don't need the interquartile range for the portal, we drop that column."
   ]
  },
  {
   "cell_type": "code",
   "execution_count": 5,
   "id": "13991dd2",
   "metadata": {},
   "outputs": [],
   "source": [
    "proteomics_df['IQR'] = proteomics_df['third_quartile'] - proteomics_df['first_quartile']\n",
    "proteomics_df['min'] = proteomics_df['first_quartile'] - (1.5 * proteomics_df['IQR'])\n",
    "proteomics_df['max'] = proteomics_df['third_quartile'] + (1.5 * proteomics_df['IQR'])\n",
    "\n",
    "for col in ['min', 'max', 'median', 'first_quartile', 'third_quartile']:\n",
    "    proteomics_df[col] = np.around(proteomics_df[col], 4)\n",
    "\n",
    "proteomics_df.drop('IQR', axis=1, inplace=True)"
   ]
  },
  {
   "cell_type": "markdown",
   "id": "1f129cda",
   "metadata": {},
   "source": [
    "Lastly, we add a column for the type of the tissue.  Here 'LFQ' is hardcoded, but in the future we'll support more tissues."
   ]
  },
  {
   "cell_type": "code",
   "execution_count": 6,
   "id": "40c20edd",
   "metadata": {},
   "outputs": [],
   "source": [
    "proteomics_df['type'] = 'LFQ'"
   ]
  }
 ],
 "metadata": {
  "kernelspec": {
   "display_name": "Python 3",
   "language": "python",
   "name": "python3"
  },
  "language_info": {
   "codemirror_mode": {
    "name": "ipython",
    "version": 3
   },
   "file_extension": ".py",
   "mimetype": "text/x-python",
   "name": "python",
   "nbconvert_exporter": "python",
   "pygments_lexer": "ipython3",
   "version": "3.9.0"
  }
 },
 "nbformat": 4,
 "nbformat_minor": 5
}
