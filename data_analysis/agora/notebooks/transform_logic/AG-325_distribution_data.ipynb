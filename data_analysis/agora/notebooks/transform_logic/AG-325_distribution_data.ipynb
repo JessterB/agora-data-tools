{
 "cells": [
  {
   "cell_type": "markdown",
   "id": "0e4fa039",
   "metadata": {},
   "source": [
    "Preliminary work:\n",
    "    - count 0s, 0.1s, and missing values"
   ]
  },
  {
   "cell_type": "code",
   "execution_count": 62,
   "id": "e3f58c36",
   "metadata": {},
   "outputs": [
    {
     "data": {
      "text/plain": [
       "Index(['GeneName', 'ENSG', 'Overall', 'Overall_rank', 'GeneticsScore',\n",
       "       'OmicsScore', 'LiteratureScore', 'FlyNeuroPathScore',\n",
       "       'SM_Druggability_bucket', 'safety_bucket', 'feasibility_bucket',\n",
       "       'ABability_bucket', 'new_modality_bucket', 'tissue_engagement_bucket',\n",
       "       'Pharos_class', 'classification', 'safety_bucket_definition',\n",
       "       'feasibility_bucket_definition', 'ABability_bucket_definition',\n",
       "       'new_modality_bucket_definition', 'tissue_engagement_bucket_definition',\n",
       "       'isScored_genetics', 'isScored_omics', 'isScored_lit',\n",
       "       'isScored_neuropath'],\n",
       "      dtype='object')"
      ]
     },
     "execution_count": 62,
     "metadata": {},
     "output_type": "execute_result"
    }
   ],
   "source": [
    "import synapseclient\n",
    "import pandas as pd\n",
    "import numpy as np\n",
    "import json\n",
    "\n",
    "syn = synapseclient.Synapse()\n",
    "syn.login(silent=True)\n",
    "\n",
    "table_id = 'syn25575156' # old one: syn25905783\n",
    "overall_scores = syn.tableQuery(str(\"select * from {0}\".format(table_id))).asDataFrame() # convert to syn_query\n",
    "overall_scores.columns"
   ]
  },
  {
   "cell_type": "markdown",
   "id": "5373eec4",
   "metadata": {},
   "source": [
    "The pipeline needs the code below instead of the code block the notebook uses"
   ]
  },
  {
   "cell_type": "code",
   "execution_count": 63,
   "id": "c48be4cd",
   "metadata": {
    "scrolled": true
   },
   "outputs": [],
   "source": [
    "# interesting_columns = ['overall', 'geneticsscore', 'omicsscore', 'literaturescore']\n",
    "# overall_scores = overall_scores[interesting_columns]"
   ]
  },
  {
   "cell_type": "code",
   "execution_count": 64,
   "id": "2af784a4",
   "metadata": {},
   "outputs": [],
   "source": [
    "overall_scores = overall_scores[['Overall', 'GeneticsScore', 'OmicsScore', 'LiteratureScore']]"
   ]
  },
  {
   "cell_type": "code",
   "execution_count": 65,
   "id": "16ff1631",
   "metadata": {
    "scrolled": true
   },
   "outputs": [],
   "source": [
    "neo_matrix = {}\n",
    "for col in overall_scores.columns:\n",
    "    neo_matrix[col] = {}\n",
    "\n",
    "    try:\n",
    "        neo_matrix[col][\"distribution\"] = list(pd.cut(overall_scores[col], bins=10, precision=3).value_counts())\n",
    "    except TypeError:\n",
    "        overall_scores[col] = pd.to_numeric(overall_scores[col], errors='coerce')\n",
    "        neo_matrix[col][\"distribution\"] = list(pd.cut(overall_scores[col], bins=10, precision=3).value_counts())\n",
    "        \n",
    "    neo_matrix[col][\"min\"] = np.around(overall_scores[col].min(), 3)\n",
    "    neo_matrix[col][\"max\"] = np.around(overall_scores[col].max(), 3)\n",
    "    neo_matrix[col][\"mean\"] = np.around(overall_scores[col].mean(), 3)\n",
    "    discard, neo_matrix[col][\"bins\"] = list(pd.cut(overall_scores[col], bins=10, precision=3, retbins=True))\n",
    "    neo_matrix[col][\"bins\"] = np.around(neo_matrix[col][\"bins\"].tolist()[1:], 3)\n",
    "    base = [0, *neo_matrix[col][\"bins\"][:-1]]\n",
    "    neo_matrix[col][\"bins\"] = zip(base, neo_matrix[col][\"bins\"])\n",
    "    neo_matrix[col][\"bins\"] = list(neo_matrix[col][\"bins\"])\n",
    "    neo_matrix[col][\"first_quartile\"] = np.around(overall_scores[col].quantile(q=0.25, interpolation='midpoint'))\n",
    "    neo_matrix[col][\"third_quartile\"] = np.around(overall_scores[col].quantile(q=0.75, interpolation='midpoint'))"
   ]
  },
  {
   "cell_type": "code",
   "execution_count": 66,
   "id": "ef2e2e93",
   "metadata": {
    "scrolled": false
   },
   "outputs": [
    {
     "name": "stdout",
     "output_type": "stream",
     "text": [
      "Overall\n",
      "{'distribution': [5141, 4253, 4143, 3590, 3146, 1733, 975, 346, 41, 18], 'min': 0.0, 'max': 7.537, 'mean': 2.175, 'bins': [(0, 0.754), (0.754, 1.507), (1.507, 2.261), (2.261, 3.015), (3.015, 3.769), (3.769, 4.522), (4.522, 5.276), (5.276, 6.03), (6.03, 6.784), (6.784, 7.537)], 'first_quartile': 1.0, 'third_quartile': 3.0}\n",
      "GeneticsScore\n",
      "{'distribution': [4760, 4693, 4679, 2993, 2346, 2055, 1206, 570, 75, 9], 'min': 0.0, 'max': 3.0, 'mean': 1.171, 'bins': [(0, 0.3), (0.3, 0.6), (0.6, 0.9), (0.9, 1.2), (1.2, 1.5), (1.5, 1.8), (1.8, 2.1), (2.1, 2.4), (2.4, 2.7), (2.7, 3.0)], 'first_quartile': 1.0, 'third_quartile': 2.0}\n",
      "OmicsScore\n",
      "{'distribution': [11138, 2523, 2298, 1568, 1278, 1254, 1145, 873, 852, 457], 'min': 0.0, 'max': 2.0, 'mean': 0.661, 'bins': [(0, 0.2), (0.2, 0.4), (0.4, 0.6), (0.6, 0.8), (0.8, 1.0), (1.0, 1.2), (1.2, 1.4), (1.4, 1.6), (1.6, 1.8), (1.8, 2.0)], 'first_quartile': 0.0, 'third_quartile': 1.0}\n",
      "LiteratureScore\n",
      "{'distribution': [16232, 1390, 1103, 1086, 730, 723, 719, 700, 364, 339], 'min': 0.0, 'max': 2.0, 'mean': 0.325, 'bins': [(0, 0.2), (0.2, 0.4), (0.4, 0.6), (0.6, 0.8), (0.8, 1.0), (1.0, 1.2), (1.2, 1.4), (1.4, 1.6), (1.6, 1.8), (1.8, 2.0)], 'first_quartile': 0.0, 'third_quartile': 0.0}\n"
     ]
    }
   ],
   "source": [
    "for col in neo_matrix.keys():\n",
    "    print(col)\n",
    "    print(neo_matrix[col])"
   ]
  },
  {
   "cell_type": "code",
   "execution_count": 69,
   "id": "c6ba7874",
   "metadata": {},
   "outputs": [],
   "source": [
    "with open('../output/distribution_data.json', 'w') as outfile:\n",
    "    json.dump(neo_matrix, outfile)"
   ]
  },
  {
   "cell_type": "code",
   "execution_count": null,
   "id": "7fea6857",
   "metadata": {},
   "outputs": [],
   "source": []
  }
 ],
 "metadata": {
  "kernelspec": {
   "display_name": "Python 3",
   "language": "python",
   "name": "python3"
  },
  "language_info": {
   "codemirror_mode": {
    "name": "ipython",
    "version": 3
   },
   "file_extension": ".py",
   "mimetype": "text/x-python",
   "name": "python",
   "nbconvert_exporter": "python",
   "pygments_lexer": "ipython3",
   "version": "3.9.0"
  }
 },
 "nbformat": 4,
 "nbformat_minor": 5
}
