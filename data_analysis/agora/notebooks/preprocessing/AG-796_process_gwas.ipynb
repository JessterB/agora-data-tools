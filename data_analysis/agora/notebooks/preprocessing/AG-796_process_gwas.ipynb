{
 "cells": [
  {
   "cell_type": "markdown",
   "id": "5fa84b98",
   "metadata": {},
   "source": [
    "# Process GWAS data\n",
    "This notebook creates a dataset of genes identified by GWAS as being significantly associated with risk or protection in AD. The gene list is curated by the ADSP Gene Verification Committee (https://adsp.niagads.org/index.php/gvc-top-hits-list/). \n",
    "\n",
    "The list of genes is downloaded as an Excel file, and this notebook ingests the Excel file, queries Biomart for the Ensembl IDs of these genes, and writes the result to a csv file for use in Agora."
   ]
  },
  {
   "cell_type": "code",
   "execution_count": 1,
   "id": "21dcec29",
   "metadata": {},
   "outputs": [],
   "source": [
    "import pandas as pd  # Requires install of package \"openpyxl\" for read_excel\n",
    "import preprocessing_utils"
   ]
  },
  {
   "cell_type": "markdown",
   "id": "a7a381a9",
   "metadata": {},
   "source": [
    "The Excel file contains 2 sheets:\n",
    "\n",
    "    table1 = Table 1: List of AD Loci with Genetic Evidence Compiled by ADSP Gene Verification Committee\n",
    "    table2 = Table 2: AD risk/protective causal genes\n",
    "    \n",
    "We want the genes from both tables. "
   ]
  },
  {
   "cell_type": "code",
   "execution_count": 2,
   "id": "1ff75703",
   "metadata": {},
   "outputs": [
    {
     "name": "stdout",
     "output_type": "stream",
     "text": [
      "(76, 5)\n",
      "(20, 4)\n"
     ]
    }
   ],
   "source": [
    "gwas = pd.read_excel(\n",
    "    \"../../input/gwas_gvc_compiled_list.xlsx\", sheet_name=[0, 1], skiprows=1\n",
    ")\n",
    "print(gwas[0].shape)\n",
    "print(gwas[1].shape)"
   ]
  },
  {
   "cell_type": "markdown",
   "id": "0cfd5354",
   "metadata": {},
   "source": [
    "Concatenate the tables into one data frame."
   ]
  },
  {
   "cell_type": "code",
   "execution_count": 3,
   "id": "9c9dbb62",
   "metadata": {},
   "outputs": [
    {
     "name": "stdout",
     "output_type": "stream",
     "text": [
      "(96, 6)\n"
     ]
    },
    {
     "data": {
      "text/html": [
       "<div>\n",
       "<style scoped>\n",
       "    .dataframe tbody tr th:only-of-type {\n",
       "        vertical-align: middle;\n",
       "    }\n",
       "\n",
       "    .dataframe tbody tr th {\n",
       "        vertical-align: top;\n",
       "    }\n",
       "\n",
       "    .dataframe thead th {\n",
       "        text-align: right;\n",
       "    }\n",
       "</style>\n",
       "<table border=\"1\" class=\"dataframe\">\n",
       "  <thead>\n",
       "    <tr style=\"text-align: right;\">\n",
       "      <th></th>\n",
       "      <th></th>\n",
       "      <th>Number</th>\n",
       "      <th>Chr</th>\n",
       "      <th>Location (hg38)</th>\n",
       "      <th>SNV</th>\n",
       "      <th>Gene</th>\n",
       "      <th>Source</th>\n",
       "    </tr>\n",
       "  </thead>\n",
       "  <tbody>\n",
       "    <tr>\n",
       "      <th rowspan=\"5\" valign=\"top\">0</th>\n",
       "      <th>0</th>\n",
       "      <td>1</td>\n",
       "      <td>1.0</td>\n",
       "      <td>109345810</td>\n",
       "      <td>rs141749679</td>\n",
       "      <td>SORT1</td>\n",
       "      <td>NaN</td>\n",
       "    </tr>\n",
       "    <tr>\n",
       "      <th>1</th>\n",
       "      <td>2</td>\n",
       "      <td>1.0</td>\n",
       "      <td>207577223</td>\n",
       "      <td>rs679515</td>\n",
       "      <td>CR1</td>\n",
       "      <td>NaN</td>\n",
       "    </tr>\n",
       "    <tr>\n",
       "      <th>2</th>\n",
       "      <td>3</td>\n",
       "      <td>2.0</td>\n",
       "      <td>9558882</td>\n",
       "      <td>rs72777026</td>\n",
       "      <td>ADAM17</td>\n",
       "      <td>NaN</td>\n",
       "    </tr>\n",
       "    <tr>\n",
       "      <th>3</th>\n",
       "      <td>4</td>\n",
       "      <td>2.0</td>\n",
       "      <td>37304796</td>\n",
       "      <td>rs17020490</td>\n",
       "      <td>PRKD3</td>\n",
       "      <td>NaN</td>\n",
       "    </tr>\n",
       "    <tr>\n",
       "      <th>4</th>\n",
       "      <td>5</td>\n",
       "      <td>2.0</td>\n",
       "      <td>105749599</td>\n",
       "      <td>rs143080277</td>\n",
       "      <td>NCK2</td>\n",
       "      <td>NaN</td>\n",
       "    </tr>\n",
       "  </tbody>\n",
       "</table>\n",
       "</div>"
      ],
      "text/plain": [
       "     Number  Chr Location (hg38)          SNV    Gene Source\n",
       "0 0       1  1.0       109345810  rs141749679   SORT1    NaN\n",
       "  1       2  1.0       207577223     rs679515     CR1    NaN\n",
       "  2       3  2.0         9558882   rs72777026  ADAM17    NaN\n",
       "  3       4  2.0        37304796   rs17020490   PRKD3    NaN\n",
       "  4       5  2.0       105749599  rs143080277    NCK2    NaN"
      ]
     },
     "execution_count": 3,
     "metadata": {},
     "output_type": "execute_result"
    }
   ],
   "source": [
    "gwas[0] = gwas[0].rename(columns={\"Reported Gene/ Closest gene\": \"Gene\"})\n",
    "gwas_df = pd.concat(gwas, axis=0)\n",
    "print(gwas_df.shape)\n",
    "gwas_df.head()"
   ]
  },
  {
   "cell_type": "markdown",
   "id": "444960bc",
   "metadata": {},
   "source": [
    "## Get Ensembl IDs\n",
    "Query Ensembl for a list of Ensembl IDs that match the gene symbols in this table. There is no python library that allows searching on external_gene_name when querying BioMart. So this code manually makes the request via GET. See http://uswest.ensembl.org/info/data/biomart/biomart_restful.html"
   ]
  },
  {
   "cell_type": "code",
   "execution_count": 4,
   "id": "6aaf69e3",
   "metadata": {},
   "outputs": [
    {
     "data": {
      "text/html": [
       "<div>\n",
       "<style scoped>\n",
       "    .dataframe tbody tr th:only-of-type {\n",
       "        vertical-align: middle;\n",
       "    }\n",
       "\n",
       "    .dataframe tbody tr th {\n",
       "        vertical-align: top;\n",
       "    }\n",
       "\n",
       "    .dataframe thead th {\n",
       "        text-align: right;\n",
       "    }\n",
       "</style>\n",
       "<table border=\"1\" class=\"dataframe\">\n",
       "  <thead>\n",
       "    <tr style=\"text-align: right;\">\n",
       "      <th></th>\n",
       "      <th>ensembl_gene_id</th>\n",
       "      <th>hgnc_symbol</th>\n",
       "      <th>chromosome_name</th>\n",
       "    </tr>\n",
       "  </thead>\n",
       "  <tbody>\n",
       "    <tr>\n",
       "      <th>0</th>\n",
       "      <td>ENSG00000281614</td>\n",
       "      <td>INPP5D</td>\n",
       "      <td>HG2232_PATCH</td>\n",
       "    </tr>\n",
       "    <tr>\n",
       "      <th>1</th>\n",
       "      <td>ENSG00000154734</td>\n",
       "      <td>ADAMTS1</td>\n",
       "      <td>21</td>\n",
       "    </tr>\n",
       "    <tr>\n",
       "      <th>2</th>\n",
       "      <td>ENSG00000284816</td>\n",
       "      <td>EPHA1</td>\n",
       "      <td>HG708_PATCH</td>\n",
       "    </tr>\n",
       "    <tr>\n",
       "      <th>3</th>\n",
       "      <td>ENSG00000138613</td>\n",
       "      <td>APH1B</td>\n",
       "      <td>15</td>\n",
       "    </tr>\n",
       "    <tr>\n",
       "      <th>4</th>\n",
       "      <td>ENSG00000285132</td>\n",
       "      <td>CTSB</td>\n",
       "      <td>HG76_PATCH</td>\n",
       "    </tr>\n",
       "    <tr>\n",
       "      <th>...</th>\n",
       "      <td>...</td>\n",
       "      <td>...</td>\n",
       "      <td>...</td>\n",
       "    </tr>\n",
       "    <tr>\n",
       "      <th>96</th>\n",
       "      <td>ENSG00000066336</td>\n",
       "      <td>SPI1</td>\n",
       "      <td>11</td>\n",
       "    </tr>\n",
       "    <tr>\n",
       "      <th>97</th>\n",
       "      <td>ENSG00000091536</td>\n",
       "      <td>MYO15A</td>\n",
       "      <td>17</td>\n",
       "    </tr>\n",
       "    <tr>\n",
       "      <th>98</th>\n",
       "      <td>ENSG00000151694</td>\n",
       "      <td>ADAM17</td>\n",
       "      <td>2</td>\n",
       "    </tr>\n",
       "    <tr>\n",
       "      <th>99</th>\n",
       "      <td>ENSG00000203710</td>\n",
       "      <td>CR1</td>\n",
       "      <td>1</td>\n",
       "    </tr>\n",
       "    <tr>\n",
       "      <th>100</th>\n",
       "      <td>ENSG00000136717</td>\n",
       "      <td>BIN1</td>\n",
       "      <td>2</td>\n",
       "    </tr>\n",
       "  </tbody>\n",
       "</table>\n",
       "<p>101 rows × 3 columns</p>\n",
       "</div>"
      ],
      "text/plain": [
       "     ensembl_gene_id hgnc_symbol chromosome_name\n",
       "0    ENSG00000281614      INPP5D    HG2232_PATCH\n",
       "1    ENSG00000154734     ADAMTS1              21\n",
       "2    ENSG00000284816       EPHA1     HG708_PATCH\n",
       "3    ENSG00000138613       APH1B              15\n",
       "4    ENSG00000285132        CTSB      HG76_PATCH\n",
       "..               ...         ...             ...\n",
       "96   ENSG00000066336        SPI1              11\n",
       "97   ENSG00000091536      MYO15A              17\n",
       "98   ENSG00000151694      ADAM17               2\n",
       "99   ENSG00000203710         CR1               1\n",
       "100  ENSG00000136717        BIN1               2\n",
       "\n",
       "[101 rows x 3 columns]"
      ]
     },
     "execution_count": 4,
     "metadata": {},
     "output_type": "execute_result"
    }
   ],
   "source": [
    "attributes = [\"ensembl_gene_id\", \"external_gene_name\", \"chromosome_name\"]\n",
    "filters = {\"external_gene_name\": set(gwas_df[\"Gene\"])}\n",
    "\n",
    "result = preprocessing_utils.manual_query_biomart(\n",
    "    attributes=attributes, filters=filters\n",
    ")\n",
    "\n",
    "result = result.rename(\n",
    "    columns={\n",
    "        \"Gene stable ID\": \"ensembl_gene_id\",\n",
    "        \"Gene name\": \"hgnc_symbol\",\n",
    "        \"Chromosome/scaffold name\": \"chromosome_name\",\n",
    "    }\n",
    ")\n",
    "result"
   ]
  },
  {
   "cell_type": "markdown",
   "metadata": {},
   "source": [
    "Remove human alternative sequence genes and patches from the list. These can be identified from the `chromosome_name`: valid Ensembl IDs will have either a numerical chromosome value (1-23) or X, Y, or MT. All other chromosome names identify alternative sequences or patches. "
   ]
  },
  {
   "cell_type": "code",
   "execution_count": 5,
   "metadata": {},
   "outputs": [
    {
     "data": {
      "text/plain": [
       "86"
      ]
     },
     "execution_count": 5,
     "metadata": {},
     "output_type": "execute_result"
    }
   ],
   "source": [
    "result = preprocessing_utils.filter_hasgs(\n",
    "    df=result, chromosome_name_column=\"chromosome_name\"\n",
    ")\n",
    "result = result[[\"ensembl_gene_id\", \"hgnc_symbol\"]]\n",
    "len(result)"
   ]
  },
  {
   "cell_type": "markdown",
   "id": "c03449cc",
   "metadata": {},
   "source": [
    "Check: The output should contain every gene in the GWAS input. "
   ]
  },
  {
   "cell_type": "code",
   "execution_count": 6,
   "id": "17ece4ec",
   "metadata": {},
   "outputs": [
    {
     "name": "stdout",
     "output_type": "stream",
     "text": [
      "86\n",
      "86\n",
      "True\n"
     ]
    }
   ],
   "source": [
    "print(len(set(gwas_df[\"Gene\"])))\n",
    "print(len(list(set(gwas_df[\"Gene\"]) & set(result[\"hgnc_symbol\"]))))\n",
    "print(all(elem in set(result[\"hgnc_symbol\"]) for elem in set(gwas_df[\"Gene\"])))"
   ]
  },
  {
   "cell_type": "markdown",
   "id": "394c1268",
   "metadata": {},
   "source": [
    "Write to file. Note: Some gene symbols map to multiple Ensembl IDs -- and that's okay. "
   ]
  },
  {
   "cell_type": "code",
   "execution_count": 7,
   "id": "3c845b0a",
   "metadata": {},
   "outputs": [],
   "source": [
    "result.to_csv(\n",
    "    \"../../output/igap_genetic_association_genes_2023.csv\", index=False, header=True\n",
    ")"
   ]
  },
  {
   "cell_type": "markdown",
   "id": "1a645996",
   "metadata": {},
   "source": [
    "File is then uploaded to Synapse at [syn12514826](https://www.synapse.org/#!Synapse:syn12514826)."
   ]
  }
 ],
 "metadata": {
  "kernelspec": {
   "display_name": "agora-data-tools-ywFp1Gf9",
   "language": "python",
   "name": "python3"
  },
  "language_info": {
   "codemirror_mode": {
    "name": "ipython",
    "version": 3
   },
   "file_extension": ".py",
   "mimetype": "text/x-python",
   "name": "python",
   "nbconvert_exporter": "python",
   "pygments_lexer": "ipython3",
   "version": "3.9.13"
  }
 },
 "nbformat": 4,
 "nbformat_minor": 5
}
