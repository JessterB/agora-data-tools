{
 "cells": [
  {
   "cell_type": "markdown",
   "id": "0e4fa039",
   "metadata": {},
   "source": [
    "Preliminary work:\n",
    "    - count 0s, 0.1s, and missing values"
   ]
  },
  {
   "cell_type": "code",
   "execution_count": 41,
   "id": "e3f58c36",
   "metadata": {},
   "outputs": [
    {
     "name": "stderr",
     "output_type": "stream",
     "text": [
      "\n",
      "UPGRADE AVAILABLE\n",
      "\n",
      "A more recent version of the Synapse Client (2.5.0) is available. Your version (2.4.0) can be upgraded by typing:\n",
      "    pip install --upgrade synapseclient\n",
      "\n",
      "Python Synapse Client version 2.5.0 release notes\n",
      "\n",
      "https://python-docs.synapse.org/build/html/news.html\n",
      "\n"
     ]
    }
   ],
   "source": [
    "import synapseclient\n",
    "import pandas as pd\n",
    "import json\n",
    "\n",
    "syn = synapseclient.Synapse()\n",
    "syn.login(silent=True)\n",
    "\n",
    "overall_scores = 'syn25905783'\n",
    "overall_scores = syn.get(overall_scores)\n",
    "overall_scores = pd.read_json(overall_scores.path, orient='records')"
   ]
  },
  {
   "cell_type": "code",
   "execution_count": 42,
   "id": "df15aad3",
   "metadata": {},
   "outputs": [
    {
     "name": "stdout",
     "output_type": "stream",
     "text": [
      "5158     0.616543\n",
      "6299     0.378720\n",
      "11050    0.539141\n",
      "16850    0.716414\n",
      "16851    0.716310\n",
      "           ...   \n",
      "28848    0.000000\n",
      "28849    0.000000\n",
      "28850    0.000000\n",
      "28851    0.000000\n",
      "28852    0.000000\n",
      "Name: Logsdon, Length: 12006, dtype: float64\n",
      "            Logsdon  GeneticsScore   OmicsScore  LiteratureScore\n",
      "count  12006.000000   11215.000000  1929.000000      3309.000000\n",
      "mean       0.254798       0.259970     0.046581         0.016226\n",
      "std        0.179596       0.167199     0.145170         0.078864\n",
      "min        0.000000       0.021895     0.000000         0.000000\n",
      "25%        0.119926       0.134335     0.000000         0.000000\n",
      "50%        0.224816       0.229439     0.000000         0.000000\n",
      "75%        0.332893       0.329350     0.000000         0.000000\n",
      "max        0.716414       0.716414     0.712887         0.640492\n"
     ]
    }
   ],
   "source": [
    "whatever = overall_scores[overall_scores['Logsdon'] <= 0.7165802586]\n",
    "print(whatever['Logsdon'])"
   ]
  },
  {
   "cell_type": "markdown",
   "id": "28392d2f",
   "metadata": {},
   "source": [
    "min and max of each field as column:"
   ]
  },
  {
   "cell_type": "code",
   "execution_count": null,
   "id": "c48be4cd",
   "metadata": {},
   "outputs": [],
   "source": [
    "# accumulate data in a list\n",
    "# overall_scores.head()"
   ]
  },
  {
   "cell_type": "code",
   "execution_count": 48,
   "id": "ef2e2e93",
   "metadata": {
    "scrolled": false
   },
   "outputs": [
    {
     "name": "stdout",
     "output_type": "stream",
     "text": [
      "GeneticsScore\n",
      "{'distribution': [8884, 5123, 3896, 3883, 3618, 1727, 472, 86, 13, 2], 'min': 0.022, 'max': 3.0, 'mean': 0.7512765364897127, 'bins': <zip object at 0x11bdc3540>, 'first_quartile': 0.2580353393, 'third_quartile': 1.17190550475}\n",
      "OmicsScore\n",
      "{'distribution': [8333, 2068, 1304, 1206, 1084, 887, 758, 553, 447, 392], 'min': 0.0, 'max': 2.0, 'mean': 0.5921848805057364, 'bins': <zip object at 0x11bdbb480>, 'first_quartile': 0.0, 'third_quartile': 1.1955014863}\n",
      "LiteratureScore\n",
      "{'distribution': [10067, 1579, 1231, 1228, 817, 808, 806, 806, 416, 389], 'min': 0.0, 'max': 2.0, 'mean': 0.4731542861502857, 'bins': <zip object at 0x11bd111c0>, 'first_quartile': 0.0, 'third_quartile': 0.879015384615385}\n"
     ]
    }
   ],
   "source": [
    "for col in neo_matrix.keys():\n",
    "    print(col)\n",
    "    print(neo_matrix[col])"
   ]
  },
  {
   "cell_type": "code",
   "execution_count": 58,
   "id": "16ff1631",
   "metadata": {
    "scrolled": true
   },
   "outputs": [],
   "source": [
    "neo_matrix = {}\n",
    "select_columns = overall_scores.columns[2:]\n",
    "for col in select_columns:\n",
    "    neo_matrix[col] = {}\n",
    "    neo_matrix[col][\"distribution\"] = list(pd.cut(overall_scores[col], bins=10, precision=3).value_counts())\n",
    "    neo_matrix[col][\"min\"] = round(overall_scores[col].min(), 3)\n",
    "    neo_matrix[col][\"max\"] = round(overall_scores[col].max(), 3)\n",
    "    neo_matrix[col][\"mean\"] = overall_scores[col].mean()\n",
    "    discard, neo_matrix[col][\"bins\"] = list(pd.cut(overall_scores[col], bins=10, precision=3, retbins=True))\n",
    "    neo_matrix[col][\"bins\"] = neo_matrix[col][\"bins\"].tolist()[1:]\n",
    "    base = [0, neo_matrix[col][\"bins\"][:-1]]\n",
    "    neo_matrix[col][\"bins\"] = zip(base, neo_matrix[col][\"bins\"])\n",
    "    neo_matrix[col][\"bins\"] = list(zip(*neo_matrix[col][\"bins\"]))\n",
    "    neo_matrix[col][\"first_quartile\"] = overall_scores[col].quantile(q=0.25, interpolation='midpoint')\n",
    "    neo_matrix[col][\"third_quartile\"] = overall_scores[col].quantile(q=0.75, interpolation='midpoint')"
   ]
  },
  {
   "cell_type": "code",
   "execution_count": 61,
   "id": "5e5bce34",
   "metadata": {},
   "outputs": [
    {
     "name": "stdout",
     "output_type": "stream",
     "text": [
      "{'Logsdon': {'distribution': [10961, 4424, 3915, 3383, 2638, 1722, 964, 611, 203, 32], 'min': 0.0, 'max': 5.978, 'mean': 1.368515886821121, 'bins': [(0, [0.59783573418, 1.19567146836, 1.79350720254, 2.39134293672, 2.9891786709000003, 3.58701440508, 4.18485013926, 4.78268587344, 5.38052160762]), (0.59783573418, 1.19567146836)], 'first_quartile': 0.2690120415, 'third_quartile': 2.2004251047}, 'GeneticsScore': {'distribution': [8884, 5123, 3896, 3883, 3618, 1727, 472, 86, 13, 2], 'min': 0.022, 'max': 3.0, 'mean': 0.7512765364897127, 'bins': [(0, [0.31970536697999996, 0.6175158817599999, 0.9153263965399999, 1.21313691132, 1.5109474261, 1.8087579408799999, 2.1065684556599997, 2.40437897044, 2.70218948522]), (0.31970536697999996, 0.6175158817599999)], 'first_quartile': 0.2580353393, 'third_quartile': 1.17190550475}, 'OmicsScore': {'distribution': [8333, 2068, 1304, 1206, 1084, 887, 758, 553, 447, 392], 'min': 0.0, 'max': 2.0, 'mean': 0.5921848805057364, 'bins': [(0, [0.2, 0.4, 0.6000000000000001, 0.8, 1.0, 1.2000000000000002, 1.4000000000000001, 1.6, 1.8]), (0.2, 0.4)], 'first_quartile': 0.0, 'third_quartile': 1.1955014863}, 'LiteratureScore': {'distribution': [10067, 1579, 1231, 1228, 817, 808, 806, 806, 416, 389], 'min': 0.0, 'max': 2.0, 'mean': 0.4731542861502857, 'bins': [(0, [0.2, 0.4, 0.6000000000000001, 0.8, 1.0, 1.2000000000000002, 1.4000000000000001, 1.6, 1.8]), (0.2, 0.4)], 'first_quartile': 0.0, 'third_quartile': 0.879015384615385}}\n"
     ]
    }
   ],
   "source": [
    "print(neo_matrix)"
   ]
  },
  {
   "cell_type": "code",
   "execution_count": 47,
   "id": "c6ba7874",
   "metadata": {},
   "outputs": [],
   "source": [
    "with open('../output/distribution_data_1.json', 'w') as outfile:\n",
    "    json.dump(neo_matrix, outfile)"
   ]
  },
  {
   "cell_type": "code",
   "execution_count": null,
   "id": "7fea6857",
   "metadata": {},
   "outputs": [],
   "source": []
  }
 ],
 "metadata": {
  "kernelspec": {
   "display_name": "Python 3",
   "language": "python",
   "name": "python3"
  },
  "language_info": {
   "codemirror_mode": {
    "name": "ipython",
    "version": 3
   },
   "file_extension": ".py",
   "mimetype": "text/x-python",
   "name": "python",
   "nbconvert_exporter": "python",
   "pygments_lexer": "ipython3",
   "version": "3.9.0"
  }
 },
 "nbformat": 4,
 "nbformat_minor": 5
}
