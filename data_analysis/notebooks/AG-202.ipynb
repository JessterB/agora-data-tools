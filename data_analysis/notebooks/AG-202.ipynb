{
 "cells": [
  {
   "cell_type": "markdown",
   "id": "0e4fa039",
   "metadata": {},
   "source": [
    "Preliminary work:\n",
    "    - count 0s, 0.1s, and missing values"
   ]
  },
  {
   "cell_type": "code",
   "execution_count": 44,
   "id": "e3f58c36",
   "metadata": {},
   "outputs": [],
   "source": [
    "import synapseclient\n",
    "import pandas as pd\n",
    "import json\n",
    "\n",
    "syn = synapseclient.Synapse()\n",
    "syn.login(silent=True)\n",
    "\n",
    "overall_scores = 'syn25905783'\n",
    "overall_scores = syn.get(overall_scores)\n",
    "overall_scores = pd.read_json(overall_scores.path, orient='records')"
   ]
  },
  {
   "cell_type": "code",
   "execution_count": 40,
   "id": "df15aad3",
   "metadata": {},
   "outputs": [
    {
     "name": "stdout",
     "output_type": "stream",
     "text": [
      "16883    0.7164141364\n",
      "16884    0.7163103427\n",
      "16885    0.7156610674\n",
      "16886    0.7155873262\n",
      "16887    0.7155771336\n",
      "             ...     \n",
      "29062    0.0000000000\n",
      "29063    0.0000000000\n",
      "29064    0.0000000000\n",
      "29065    0.0000000000\n",
      "29066    0.0000000000\n",
      "Name: logsdon, Length: 12184, dtype: float64\n"
     ]
    }
   ],
   "source": [
    "whatever = overall_scores[overall_scores['logsdon'] <= 0.7165802586]\n",
    "print(whatever['logsdon'])"
   ]
  },
  {
   "cell_type": "markdown",
   "id": "28392d2f",
   "metadata": {},
   "source": [
    "min and max of each field as column:"
   ]
  },
  {
   "cell_type": "code",
   "execution_count": null,
   "id": "c48be4cd",
   "metadata": {},
   "outputs": [],
   "source": [
    "# accumulate data in a list\n",
    "# overall_scores.head()"
   ]
  },
  {
   "cell_type": "code",
   "execution_count": 45,
   "id": "16ff1631",
   "metadata": {
    "scrolled": true
   },
   "outputs": [],
   "source": [
    "neo_matrix = {}\n",
    "select_columns = overall_scores.columns[1:]\n",
    "for col in select_columns:\n",
    "    neo_matrix[col] = {}\n",
    "    neo_matrix[col][\"distribution\"] = list(pd.cut(overall_scores[col], bins=10, precision=3).value_counts())\n",
    "#     discard, neo_matrix[col][\"bins\"] = list(pd.cut(overall_scores[col], bins=10, precision=3, retbins=True))\n",
    "#     neo_matrix[col][\"bins\"] = neo_matrix[col][\"bins\"].tolist()[1:]\n",
    "    neo_matrix[col][\"min\"] = round(overall_scores[col].min(), 3)\n",
    "    neo_matrix[col][\"max\"] = round(overall_scores[col].max(), 3)\n",
    "    neo_matrix[col][\"mean\"] = overall_scores[col].mean()\n",
    "    neo_matrix[col][\"first_quartile\"] = overall_scores[col].quantile(q=0.25, interpolation='midpoint')\n",
    "    neo_matrix[col][\"third_quartile\"] = overall_scores[col].quantile(q=0.75, interpolation='midpoint')"
   ]
  },
  {
   "cell_type": "code",
   "execution_count": 36,
   "id": "ef2e2e93",
   "metadata": {
    "scrolled": false
   },
   "outputs": [
    {
     "name": "stdout",
     "output_type": "stream",
     "text": [
      "logsdon\n",
      "{'distribution': [12184, 5175, 4148, 3481, 2151, 1175, 570, 153, 21, 9], 'bins': [0.7165802586, 1.4331605172, 2.1497407758, 2.8663210344, 3.582901293, 4.2994815516, 5.0160618102, 5.7326420688, 6.449222327399999, 7.165802586], 'min': 0.0, 'max': 7.165802586, 'mean': 1.3710040086127533, 'first_quartile': 0.26267472635, 'third_quartile': 2.20063426655}\n",
      "geneticsscore\n",
      "{'distribution': [9631, 5149, 4106, 4018, 3768, 1798, 491, 91, 13, 2], 'bins': [0.3, 0.6, 0.8999999999999999, 1.2, 1.5, 1.7999999999999998, 2.1, 2.4, 2.6999999999999997, 3.0], 'min': 0.0, 'max': 3.0, 'mean': 0.7160479295046273, 'first_quartile': 0.2261353865, 'third_quartile': 1.1538092195}\n",
      "omicsscore\n",
      "{'distribution': [20368, 2068, 1304, 1206, 1084, 887, 758, 553, 447, 392], 'bins': [0.2, 0.4, 0.6000000000000001, 0.8, 1.0, 1.2000000000000002, 1.4000000000000001, 1.6, 1.8, 2.0], 'min': 0.0, 'max': 2.0, 'mean': 0.3498614540466405, 'first_quartile': 0.0, 'third_quartile': 0.6516586135}\n",
      "literaturescore\n",
      "{'distribution': [20945, 1587, 1236, 1236, 820, 812, 812, 811, 418, 390], 'bins': [0.2, 0.4, 0.6000000000000001, 0.8, 1.0, 1.2000000000000002, 1.4000000000000001, 1.6, 1.8, 2.0], 'min': 0.0, 'max': 2.0, 'mean': 0.2970251075102351, 'first_quartile': 0.0, 'third_quartile': 0.365292307692308}\n",
      "flyneuropathscore\n",
      "{'distribution': [28809, 130, 90, 38, 0, 0, 0, 0, 0, 0], 'bins': [0.2, 0.4, 0.6000000000000001, 0.8, 1.0, 1.2000000000000002, 1.4000000000000001, 1.6, 1.8, 2.0], 'min': 0.0, 'max': 2.0, 'mean': 0.010936342473337463, 'first_quartile': 0.0, 'third_quartile': 0.0}\n"
     ]
    }
   ],
   "source": [
    "for col in neo_matrix.keys():\n",
    "    print(col)\n",
    "    print(neo_matrix[col])"
   ]
  },
  {
   "cell_type": "code",
   "execution_count": 47,
   "id": "c6ba7874",
   "metadata": {},
   "outputs": [],
   "source": [
    "with open('../output/distribution_data_1.json', 'w') as outfile:\n",
    "    json.dump(neo_matrix, outfile)"
   ]
  },
  {
   "cell_type": "code",
   "execution_count": null,
   "id": "7fea6857",
   "metadata": {},
   "outputs": [],
   "source": []
  }
 ],
 "metadata": {
  "kernelspec": {
   "display_name": "Python 3",
   "language": "python",
   "name": "python3"
  },
  "language_info": {
   "codemirror_mode": {
    "name": "ipython",
    "version": 3
   },
   "file_extension": ".py",
   "mimetype": "text/x-python",
   "name": "python",
   "nbconvert_exporter": "python",
   "pygments_lexer": "ipython3",
   "version": "3.9.0"
  }
 },
 "nbformat": 4,
 "nbformat_minor": 5
}
