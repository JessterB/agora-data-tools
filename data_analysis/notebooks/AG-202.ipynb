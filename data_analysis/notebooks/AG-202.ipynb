{
 "cells": [
  {
   "cell_type": "markdown",
   "id": "0e4fa039",
   "metadata": {},
   "source": [
    "Preliminary work:\n",
    "    - count 0s, 0.1s, and missing values"
   ]
  },
  {
   "cell_type": "code",
   "execution_count": 14,
   "id": "e3f58c36",
   "metadata": {},
   "outputs": [],
   "source": [
    "import synapseclient\n",
    "import pandas as pd\n",
    "import json\n",
    "\n",
    "syn = synapseclient.Synapse()\n",
    "syn.login(silent=True)\n",
    "\n",
    "overall_scores = 'syn25905783'\n",
    "overall_scores = syn.get(overall_scores)\n",
    "overall_scores = pd.read_json(overall_scores.path, orient='records')"
   ]
  },
  {
   "cell_type": "markdown",
   "id": "28392d2f",
   "metadata": {},
   "source": [
    "min and max of each field as column:"
   ]
  },
  {
   "cell_type": "code",
   "execution_count": null,
   "id": "c48be4cd",
   "metadata": {},
   "outputs": [],
   "source": [
    "# accumulate data in a list\n",
    "# overall_scores.head()"
   ]
  },
  {
   "cell_type": "code",
   "execution_count": 15,
   "id": "16ff1631",
   "metadata": {
    "scrolled": true
   },
   "outputs": [],
   "source": [
    "neo_matrix = {}\n",
    "select_columns = overall_scores.columns[1:]\n",
    "for col in select_columns:\n",
    "    neo_matrix[col] = {}\n",
    "    neo_matrix[col][\"distribution\"] = list(pd.cut(overall_scores[col], bins=10, precision=3).value_counts())\n",
    "    discard, neo_matrix[col][\"bins\"] = list(pd.cut(overall_scores[col], bins=10, precision=3, retbins=True))\n",
    "    neo_matrix[col][\"bins\"] = neo_matrix[col][\"bins\"].tolist()\n",
    "    neo_matrix[col][\"min\"] = overall_scores[col].min()\n",
    "    neo_matrix[col][\"max\"] = overall_scores[col].max()\n",
    "    neo_matrix[col][\"mean\"] = overall_scores[col].mean()\n",
    "    neo_matrix[col][\"first_quartile\"] = overall_scores[col].quantile(q=0.25, interpolation='midpoint')\n",
    "    neo_matrix[col][\"third_quartile\"] = overall_scores[col].quantile(q=0.75, interpolation='midpoint')"
   ]
  },
  {
   "cell_type": "code",
   "execution_count": 84,
   "id": "ef2e2e93",
   "metadata": {
    "scrolled": false
   },
   "outputs": [
    {
     "name": "stdout",
     "output_type": "stream",
     "text": [
      "[12184, 5175, 4148, 3481, 2151, 1175, 570, 153, 21, 9]\n",
      "[-0.0071658   0.71658026  1.43316052  2.14974078  2.86632103  3.58290129\n",
      "  4.29948155  5.01606181  5.73264207  6.44922233  7.16580259]\n",
      "0.0\n",
      "7.165802586\n",
      "1.3710040086127533\n",
      "0.26267472635\n",
      "2.20063426655\n",
      "[9631, 5149, 4106, 4018, 3768, 1798, 491, 91, 13, 2]\n",
      "[-0.003  0.3    0.6    0.9    1.2    1.5    1.8    2.1    2.4    2.7\n",
      "  3.   ]\n",
      "0.0\n",
      "3.0\n",
      "0.7160479295046273\n",
      "0.2261353865\n",
      "1.1538092195\n",
      "[20368, 2068, 1304, 1206, 1084, 887, 758, 553, 447, 392]\n",
      "[-0.002  0.2    0.4    0.6    0.8    1.     1.2    1.4    1.6    1.8\n",
      "  2.   ]\n",
      "0.0\n",
      "2.0\n",
      "0.3498614540466405\n",
      "0.0\n",
      "0.6516586135\n",
      "[20945, 1587, 1236, 1236, 820, 812, 812, 811, 418, 390]\n",
      "[-0.002  0.2    0.4    0.6    0.8    1.     1.2    1.4    1.6    1.8\n",
      "  2.   ]\n",
      "0.0\n",
      "2.0\n",
      "0.2970251075102351\n",
      "0.0\n",
      "0.365292307692308\n",
      "[28809, 130, 90, 38, 0, 0, 0, 0, 0, 0]\n",
      "[-0.002  0.2    0.4    0.6    0.8    1.     1.2    1.4    1.6    1.8\n",
      "  2.   ]\n",
      "0.0\n",
      "2.0\n",
      "0.010936342473337463\n",
      "0.0\n",
      "0.0\n"
     ]
    }
   ],
   "source": [
    "for col in neo_matrix.keys():\n",
    "    print(neo_matrix[col])"
   ]
  },
  {
   "cell_type": "code",
   "execution_count": 16,
   "id": "c6ba7874",
   "metadata": {},
   "outputs": [],
   "source": [
    "with open('../output/distribution_data.json', 'w') as outfile:\n",
    "    json.dump(neo_matrix, outfile)"
   ]
  },
  {
   "cell_type": "code",
   "execution_count": null,
   "id": "7fea6857",
   "metadata": {},
   "outputs": [],
   "source": []
  }
 ],
 "metadata": {
  "kernelspec": {
   "display_name": "Python 3",
   "language": "python",
   "name": "python3"
  },
  "language_info": {
   "codemirror_mode": {
    "name": "ipython",
    "version": 3
   },
   "file_extension": ".py",
   "mimetype": "text/x-python",
   "name": "python",
   "nbconvert_exporter": "python",
   "pygments_lexer": "ipython3",
   "version": "3.9.0"
  }
 },
 "nbformat": 4,
 "nbformat_minor": 5
}
