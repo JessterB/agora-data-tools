{
 "cells": [
  {
   "cell_type": "code",
   "execution_count": null,
   "id": "4091daef",
   "metadata": {},
   "outputs": [],
   "source": [
    "options(warn=-1)\n",
    "\n",
    "library(tidyverse)\n",
    "library(mygene)\n",
    "library(feather)\n",
    "\n",
    "refFlatFileUrl <- \"https://gist.github.com/kdaily/2ed85e0dd3048fea8424b40243ddfa1c/raw/420086bd941962df66992667972c13462e504cc6/gencode.v24.primary_assembly.refFlat.txt\""
   ]
  },
  {
   "cell_type": "code",
   "execution_count": null,
   "id": "f3fca9ad",
   "metadata": {},
   "outputs": [],
   "source": [
    "geneTable <-  readr::read_tsv(refFlatFileUrl, col_names=FALSE) %>%\n",
    "              dplyr::select(ensembl_gene_id=X1) %>%\n",
    "              dplyr::mutate(ensembl_gene_id=stringr::str_remove(ensembl_gene_id, \"\\\\..*\")) %>%\n",
    "              dplyr::distinct()\n",
    "\n",
    "print(geneTable)"
   ]
  },
  {
   "cell_type": "code",
   "execution_count": null,
   "id": "61311a5d",
   "metadata": {},
   "outputs": [],
   "source": [
    "geneInfoRes <- mygene::getGenes(geneTable$ensembl_gene_id, fields=c(\"symbol\", \"name\", \"summary\", \"type_of_gene\"))"
   ]
  },
  {
   "cell_type": "code",
   "execution_count": null,
   "id": "11e9b2f1",
   "metadata": {},
   "outputs": [],
   "source": [
    "geneInfo <- geneInfoRes %>%\n",
    "            as.data.frame() %>%\n",
    "            as_tibble() %>%\n",
    "            group_by(query) %>%\n",
    "            ungroup()\n",
    "\n",
    "# the group/ungroup don't do anything to the dataset, but since that's how it was originally, I kept it for the sake of fidelity"
   ]
  },
  {
   "cell_type": "code",
   "execution_count": null,
   "id": "f5bf3b4f",
   "metadata": {},
   "outputs": [],
   "source": [
    "geneTableMerged <- left_join(geneTable, \n",
    "                             geneInfo,\n",
    "                             by=c(\"ensembl_gene_id\"=\"query\")) %>% as.data.frame()"
   ]
  },
  {
   "cell_type": "code",
   "execution_count": null,
   "id": "6c4ca36e",
   "metadata": {},
   "outputs": [],
   "source": [
    "path <- \"../output/gene_table_merged_R.feather\"\n",
    "write_feather(geneTableMerged, path)"
   ]
  },
  {
   "cell_type": "code",
   "execution_count": null,
   "id": "9dfb16f7",
   "metadata": {},
   "outputs": [],
   "source": []
  }
 ],
 "metadata": {
  "kernelspec": {
   "display_name": "R",
   "language": "R",
   "name": "ir"
  },
  "language_info": {
   "codemirror_mode": "r",
   "file_extension": ".r",
   "mimetype": "text/x-r-source",
   "name": "R",
   "pygments_lexer": "r",
   "version": "4.0.3"
  }
 },
 "nbformat": 4,
 "nbformat_minor": 5
}
