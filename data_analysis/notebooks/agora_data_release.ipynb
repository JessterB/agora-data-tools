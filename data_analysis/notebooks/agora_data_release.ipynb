{
 "cells": [
  {
   "cell_type": "markdown",
   "id": "c67b21ad",
   "metadata": {},
   "source": [
    "Tasks:\n",
    "- get existing overall_scores' provenance\n",
    "- load overall_scores data into AGORA's live folder\n",
    "- get provenance for manifest file and update overall_scores data\n",
    "- update manifest file and its provenance"
   ]
  },
  {
   "cell_type": "code",
   "execution_count": 20,
   "id": "8c356bb3",
   "metadata": {},
   "outputs": [],
   "source": [
    "import synapseclient\n",
    "from synapseclient import File, Activity\n",
    "import pandas as pd"
   ]
  },
  {
   "cell_type": "code",
   "execution_count": 21,
   "id": "96a3dda3",
   "metadata": {},
   "outputs": [],
   "source": [
    "syn = synapseclient.Synapse()\n",
    "syn.login(silent=True)"
   ]
  },
  {
   "cell_type": "code",
   "execution_count": 22,
   "id": "cd9dcd38",
   "metadata": {},
   "outputs": [],
   "source": [
    "data_manifest = 'syn13363290'\n",
    "agora_live_data = 'syn12177492'\n",
    "overall_scores_file = '../output/overall_scores.json'\n",
    "old_overall_scores = 'syn25741025'"
   ]
  },
  {
   "cell_type": "markdown",
   "id": "eb2b9ba9",
   "metadata": {},
   "source": [
    "Get provenance for the old overall_scores.json in Agora:"
   ]
  },
  {
   "cell_type": "code",
   "execution_count": 23,
   "id": "63078699",
   "metadata": {
    "scrolled": false
   },
   "outputs": [
    {
     "name": "stdout",
     "output_type": "stream",
     "text": [
      "['syn25575153', 'syn22758536']\n"
     ]
    }
   ],
   "source": [
    "overall_scores_provenance = syn.getProvenance(old_overall_scores)['used']\n",
    "overall_scores_provenance = [i['reference']['targetId'] for i in overall_scores_provenance]\n",
    "print(overall_scores_provenance)"
   ]
  },
  {
   "cell_type": "markdown",
   "id": "113ce39b",
   "metadata": {},
   "source": [
    "Update overall_scores in Agora with the new file and the correct provenance:  "
   ]
  },
  {
   "cell_type": "code",
   "execution_count": 24,
   "id": "d75925ee",
   "metadata": {},
   "outputs": [
    {
     "name": "stdout",
     "output_type": "stream",
     "text": [
      "\n",
      "##################################################\n",
      " Uploading file to Synapse storage \n",
      "##################################################\n",
      "\n"
     ]
    }
   ],
   "source": [
    "overall_scores = File(overall_scores_file, parent=agora_live_data)\n",
    "overall_scores = syn.store(overall_scores, used=overall_scores_provenance)"
   ]
  },
  {
   "cell_type": "markdown",
   "id": "f1589307",
   "metadata": {},
   "source": [
    "It's useful to make sure the id and the versionNumber are correct."
   ]
  },
  {
   "cell_type": "code",
   "execution_count": null,
   "id": "ec69862c",
   "metadata": {
    "scrolled": true
   },
   "outputs": [],
   "source": [
    "print(overall_scores) # {'id' : 'syn25741025', 'versionNumber' : 2}"
   ]
  },
  {
   "cell_type": "markdown",
   "id": "f7708f68",
   "metadata": {},
   "source": [
    "overall_scores now stores the return value of uploading the file, which contains the 'id' and the 'versionNumber'.  Here we get the provenance from the data_manifest and update it the correct version of overall_scores:"
   ]
  },
  {
   "cell_type": "code",
   "execution_count": 31,
   "id": "80d22e28",
   "metadata": {
    "scrolled": false
   },
   "outputs": [
    {
     "name": "stdout",
     "output_type": "stream",
     "text": [
      "[{'targetId': 'syn12177499', 'targetVersionNumber': 27}, {'targetId': 'syn12548902', 'targetVersionNumber': 29}, {'targetId': 'syn12616884', 'targetVersionNumber': 12}, {'targetId': 'syn12523173', 'targetVersionNumber': 18}, {'targetId': 'syn18693175', 'targetVersionNumber': 4}, {'targetId': 'syn19315964', 'targetVersionNumber': 3}, {'targetId': 'syn25741023', 'targetVersionNumber': 1}, {'targetId': 'syn25741024', 'targetVersionNumber': 1}, {'targetId': 'syn25741025', 'targetVersionNumber': 2}, {'targetId': 'syn25741026', 'targetVersionNumber': 1}, {'targetId': 'syn22167182', 'targetVersionNumber': 2}, {'targetId': 'syn25741027', 'targetVersionNumber': 3}, {'targetId': 'syn26274945', 'targetVersionNumber': 3}]\n"
     ]
    }
   ],
   "source": [
    "manifest_provenance = syn.getProvenance(data_manifest)\n",
    "manifest_provenance = [i['reference'] for i in manifest_provenance['used']]\n",
    "\n",
    "# update manifest_provenance\n",
    "for i in manifest_provenance:\n",
    "    if i['targetId'] == overall_scores['id']:\n",
    "        i['targetVersionNumber'] = overall_scores['versionNumber']\n",
    "print(manifest_provenance)"
   ]
  },
  {
   "cell_type": "markdown",
   "id": "e9cd35f2",
   "metadata": {},
   "source": [
    "Now that the provenance is correct, the manifest file can be updated with the correct version of overall_scores.  After this step, both the provenance and the contents of the file should be aligned:"
   ]
  },
  {
   "cell_type": "code",
   "execution_count": 47,
   "id": "d6587c78",
   "metadata": {
    "scrolled": true
   },
   "outputs": [
    {
     "name": "stdout",
     "output_type": "stream",
     "text": [
      "             id  version\n",
      "0   syn12177499       27\n",
      "1   syn12548902       29\n",
      "2   syn12616884       12\n",
      "3   syn12523173       18\n",
      "4   syn18693175        4\n",
      "5   syn19315964        3\n",
      "6   syn25741023        1\n",
      "7   syn25741024        1\n",
      "8   syn25741025        2\n",
      "9   syn25741026        1\n",
      "10  syn22167182        2\n",
      "11  syn25741027        2\n",
      "12  syn26274945        3\n"
     ]
    }
   ],
   "source": [
    "data_manifest = syn.get(data_manifest)\n",
    "data_manifest = pd.read_csv(data_manifest['path'], index_col=0)\n",
    "data_manifest.loc[data_manifest['id'] == overall_scores['id'], 'version'] = overall_scores['versionNumber']\n",
    "\n",
    "print(data_manifest) # make sure it's updated properly\n",
    "\n",
    "data_manifest_local_file = '../output/data_manifest.csv'\n",
    "data_manifest.to_csv(data_manifest_local_file, index=False)\n"
   ]
  },
  {
   "cell_type": "markdown",
   "id": "6fe309e9",
   "metadata": {},
   "source": [
    "Before uploading the updated data_manifest to Synapse, it's convenient to open it locally and make sure it does not have a new line character at the end of the file. Otherwise, the parser down the pipeline will fail to parse the manifest.  Another thing to note here is that the manifest_provenance now contains the updated value for overall_scores:"
   ]
  },
  {
   "cell_type": "code",
   "execution_count": 49,
   "id": "45b245dc",
   "metadata": {},
   "outputs": [],
   "source": [
    "updated_data_manifest = File(data_manifest_local_file, parent=agora_live_data)\n",
    "updated_data_manifest = syn.store(updated_data_manifest, used=[i['targetId'] for i in manifest_provenance])"
   ]
  },
  {
   "cell_type": "markdown",
   "id": "0e118334",
   "metadata": {},
   "source": [
    "Verify provenance and version of file:"
   ]
  },
  {
   "cell_type": "code",
   "execution_count": 50,
   "id": "89704067",
   "metadata": {},
   "outputs": [
    {
     "name": "stdout",
     "output_type": "stream",
     "text": [
      "\n",
      "  Executed:\n",
      "  Used:\n",
      "syn12177499.27\n",
      "syn12548902.29\n",
      "syn12616884.12\n",
      "syn12523173.18\n",
      "syn18693175.4\n",
      "syn19315964.3\n",
      "syn25741023.1\n",
      "syn25741024.1\n",
      "syn25741025.2\n",
      "syn25741026.1\n",
      "syn22167182.2\n",
      "syn25741027.3\n",
      "syn26274945.3\n",
      "File: data_manifest.csv (syn13363290)\n",
      "  md5=37d72a076da25cd36be4edea66c5c275\n",
      "  fileSize=196\n",
      "  contentType=text/csv\n",
      "  externalURL=None\n",
      "  cacheDir=../output\n",
      "  files=['data_manifest.csv']\n",
      "  path=../output/data_manifest.csv\n",
      "  synapseStore=True\n",
      "properties:\n",
      "  concreteType=org.sagebionetworks.repo.model.FileEntity\n",
      "  createdBy=3323072\n",
      "  createdOn=2018-07-12T05:35:31.362Z\n",
      "  dataFileHandleId=84829936\n",
      "  etag=824e5c5a-0f2f-4bcb-877d-5daa51a25312\n",
      "  id=syn13363290\n",
      "  isLatestVersion=True\n",
      "  modifiedBy=3419125\n",
      "  modifiedOn=2021-11-19T05:22:31.441Z\n",
      "  name=data_manifest.csv\n",
      "  parentId=syn12177492\n",
      "  versionLabel=33\n",
      "  versionNumber=33\n",
      "annotations:\n",
      "\n"
     ]
    }
   ],
   "source": [
    "print(syn.getProvenance(updated_data_manifest['id']))\n",
    "print(updated_data_manifest['versionNumber']) "
   ]
  }
 ],
 "metadata": {
  "kernelspec": {
   "display_name": "Python 3",
   "language": "python",
   "name": "python3"
  },
  "language_info": {
   "codemirror_mode": {
    "name": "ipython",
    "version": 3
   },
   "file_extension": ".py",
   "mimetype": "text/x-python",
   "name": "python",
   "nbconvert_exporter": "python",
   "pygments_lexer": "ipython3",
   "version": "3.9.0"
  }
 },
 "nbformat": 4,
 "nbformat_minor": 5
}
