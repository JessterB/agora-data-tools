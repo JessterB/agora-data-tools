{
 "cells": [
  {
   "cell_type": "code",
   "execution_count": 1,
   "id": "6c10cc29",
   "metadata": {},
   "outputs": [],
   "source": [
    "import synapseclient\n",
    "import pandas as pd\n",
    "from numpy import NaN"
   ]
  },
  {
   "cell_type": "code",
   "execution_count": 2,
   "id": "569d5f70",
   "metadata": {},
   "outputs": [],
   "source": [
    "syn = synapseclient.Synapse()\n",
    "syn.login(silent=True)"
   ]
  },
  {
   "cell_type": "code",
   "execution_count": 3,
   "id": "03e7fcda",
   "metadata": {},
   "outputs": [],
   "source": [
    "gene_info = 'syn25953363'\n",
    "igap = 'syn12514826' \n",
    "eqtl = 'syn12514912'\n",
    "brain_expression_change = 'syn11914808'\n",
    "rna_change = 'syn14237651'\n",
    "proteomics = 'syn18689335'\n",
    "\n",
    "gene_info = syn.get(gene_info)\n",
    "igap = syn.get(igap)\n",
    "eqtl = syn.get(eqtl)\n",
    "brain_expression_change = syn.get(brain_expression_change)\n",
    "rna_change = syn.get(rna_change)\n",
    "proteomics = syn.get(proteomics)\n",
    "\n",
    "gene_info = pd.read_feather(gene_info.path)\n",
    "igap = pd.read_csv(igap.path)\n",
    "eqtl = pd.read_csv(eqtl.path)\n",
    "brain_expression_change = pd.read_csv(brain_expression_change.path, sep='\\t')\n",
    "rna_change = pd.read_csv(rna_change.path, sep='\\t')\n",
    "proteomics = pd.read_csv(proteomics.path)"
   ]
  },
  {
   "cell_type": "markdown",
   "id": "718872c9",
   "metadata": {},
   "source": [
    "Prepare gene_info to remove duplicate ensembl_gene_ids (this should take 5 or 6 minutes):"
   ]
  },
  {
   "cell_type": "code",
   "execution_count": 4,
   "id": "637655f7",
   "metadata": {
    "scrolled": true
   },
   "outputs": [
    {
     "name": "stdout",
     "output_type": "stream",
     "text": [
      "(60727, 9)\n",
      "(56710, 6)\n"
     ]
    }
   ],
   "source": [
    "print(gene_info.shape)\n",
    "gene_info = gene_info[['ensembl_gene_id', 'symbol', '_version', 'alias', 'name', 'summary']]\n",
    "gene_info = gene_info.groupby('ensembl_gene_id').apply(lambda x: x.nlargest(1, \"_version\")).reset_index(drop=True)\n",
    "print(gene_info.shape)\n",
    "\n",
    "gene_info = gene_info[['ensembl_gene_id', 'symbol',  'name', 'summary', 'alias']]"
   ]
  },
  {
   "cell_type": "markdown",
   "id": "f44a1792",
   "metadata": {},
   "source": [
    "Create gene_metadata dataset by joining gene_info with the others.  First is igap:"
   ]
  },
  {
   "cell_type": "code",
   "execution_count": 5,
   "id": "b208aaff",
   "metadata": {},
   "outputs": [
    {
     "data": {
      "text/plain": [
       "False    56685\n",
       "True        25\n",
       "Name: igap, dtype: int64"
      ]
     },
     "execution_count": 5,
     "metadata": {},
     "output_type": "execute_result"
    }
   ],
   "source": [
    "gene_metadata = pd.merge(left = gene_info, right=igap, how='left', on='ensembl_gene_id')\n",
    "gene_metadata['igap'] = gene_metadata.apply(lambda row: False if row['hgnc_symbol'] is NaN else True, axis=1)\n",
    "gene_metadata['igap'].fillna(False, inplace=True)\n",
    "gene_metadata = gene_metadata[['ensembl_gene_id', 'symbol', 'name', 'summary', 'alias', 'igap']]\n",
    "gene_metadata['igap'].value_counts()"
   ]
  },
  {
   "cell_type": "markdown",
   "id": "d6f46bef",
   "metadata": {},
   "source": [
    "Join eqtl to the gene_metadata table:"
   ]
  },
  {
   "cell_type": "code",
   "execution_count": 6,
   "id": "0de1b210",
   "metadata": {},
   "outputs": [
    {
     "data": {
      "text/plain": [
       "False    38388\n",
       "True     18322\n",
       "Name: eqtl, dtype: int64"
      ]
     },
     "execution_count": 6,
     "metadata": {},
     "output_type": "execute_result"
    }
   ],
   "source": [
    "gene_metadata = pd.merge(left = gene_metadata, right=eqtl, how='left', on='ensembl_gene_id')\n",
    "gene_metadata = gene_metadata[['ensembl_gene_id', 'symbol', 'name', 'summary', 'alias', 'igap', 'hasEqtl']]\n",
    "gene_metadata.rename(columns={'hasEqtl':'eqtl'}, inplace=True)\n",
    "gene_metadata['eqtl'] = gene_metadata['eqtl'].replace({'TRUE': True}).fillna(False)\n",
    "gene_metadata['eqtl'].value_counts()"
   ]
  },
  {
   "cell_type": "markdown",
   "id": "8d3ed333",
   "metadata": {},
   "source": [
    "This is the current state of the table: ['ensembl_gene_id', 'igap', 'eqtl']\n",
    "Next we add brain_expression_data to it."
   ]
  },
  {
   "cell_type": "code",
   "execution_count": 7,
   "id": "038db80d",
   "metadata": {
    "scrolled": true
   },
   "outputs": [
    {
     "data": {
      "text/plain": [
       "True     46113\n",
       "False    10597\n",
       "Name: ad_brain_change, dtype: int64"
      ]
     },
     "execution_count": 7,
     "metadata": {},
     "output_type": "execute_result"
    }
   ],
   "source": [
    "ad_brain_change_threshold = 0.05\n",
    "\n",
    "gene_metadata = pd.merge(left = gene_metadata, right=brain_expression_change, how='left', on='ensembl_gene_id')\n",
    "gene_metadata['fdr.random'] = gene_metadata['fdr.random'].fillna(-1)\n",
    "gene_metadata['brain_change_studied'] = gene_metadata.apply(lambda row: False if row['fdr.random'] == -1 else True, axis=1)\n",
    "gene_metadata['ad_brain_change'] = gene_metadata.apply(lambda row: True if row['fdr.random'] <= ad_brain_change_threshold else False, axis=1)\n",
    "gene_metadata = gene_metadata[['ensembl_gene_id', 'symbol', 'name', 'summary', 'alias', 'igap', 'eqtl', 'ad_brain_change', 'brain_change_studied']]\n",
    "\n",
    "gene_metadata['ad_brain_change'].value_counts()"
   ]
  },
  {
   "cell_type": "markdown",
   "id": "ab651aa7",
   "metadata": {},
   "source": [
    "Current datafreame is ['ensembl_gene_id', 'igap', 'eqtl', 'ad_brain_change'].\n",
    "Lastly we need to add rna change in the brain:"
   ]
  },
  {
   "cell_type": "code",
   "execution_count": 8,
   "id": "225141b6",
   "metadata": {},
   "outputs": [
    {
     "data": {
      "text/plain": [
       "True     55248\n",
       "False     1462\n",
       "Name: rna_in_ad_brain_change, dtype: int64"
      ]
     },
     "execution_count": 8,
     "metadata": {},
     "output_type": "execute_result"
    }
   ],
   "source": [
    "adjusted_p_value_threshold = 0.05\n",
    "\n",
    "rna_change = rna_change[['ensembl_gene_id', 'adj.P.Val']]\n",
    "rna_change = rna_change.groupby('ensembl_gene_id')['adj.P.Val'].agg('min').reset_index()\n",
    "\n",
    "gene_metadata = pd.merge(left = gene_metadata, right=rna_change, how='left', on='ensembl_gene_id')\n",
    "gene_metadata['adj.P.Val'] = gene_metadata['adj.P.Val'].fillna(-1)\n",
    "gene_metadata['rna_brain_change_studied'] = gene_metadata.apply(lambda row: False if row['adj.P.Val'] == -1 else True, axis=1)\n",
    "gene_metadata['rna_in_ad_brain_change'] = gene_metadata.apply(lambda row: True if row['adj.P.Val'] <= adjusted_p_value_threshold else False, axis=1)\n",
    "\n",
    "gene_metadata = gene_metadata[['ensembl_gene_id', 'name', 'summary', 'alias', 'igap', 'symbol', 'eqtl', 'ad_brain_change', 'brain_change_studied', 'rna_in_ad_brain_change', 'rna_brain_change_studied']]\n",
    "\n",
    "gene_metadata['rna_in_ad_brain_change'].value_counts()"
   ]
  },
  {
   "cell_type": "code",
   "execution_count": 9,
   "id": "75affe30",
   "metadata": {},
   "outputs": [],
   "source": [
    "protein_level_threshold = 0.05\n",
    "\n",
    "proteomics = proteomics.groupby('ENSG')['Cor_PVal'].agg('min').reset_index()\n",
    "\n",
    "gene_metadata = pd.merge(left = gene_metadata, right=proteomics, how='left', left_on='ensembl_gene_id', right_on='ENSG')\n",
    "gene_metadata['Cor_PVal'] = gene_metadata['Cor_PVal'].fillna(-1)\n",
    "gene_metadata['protein_brain_change_studied'] = gene_metadata.apply(lambda row: False if row['Cor_PVal'] == -1 else True, axis=1)\n",
    "gene_metadata['protein_in_ad_brain_change'] = gene_metadata.apply(lambda row: True if row['Cor_PVal'] <= protein_level_threshold else False, axis=1)\n",
    "\n",
    "gene_metadata = gene_metadata[['ensembl_gene_id', 'name', 'summary', 'symbol', 'alias', 'igap', 'eqtl', 'ad_brain_change', 'brain_change_studied', 'rna_in_ad_brain_change', 'rna_brain_change_studied', 'protein_in_ad_brain_change', 'protein_brain_change_studied']]\n",
    "gene_metadata.rename(columns={'symbol': 'hgnc_symbol'}, inplace=True)"
   ]
  },
  {
   "cell_type": "code",
   "execution_count": 10,
   "id": "bf1ed449",
   "metadata": {},
   "outputs": [],
   "source": [
    "gene_metadata.to_json('../output/gene_metadata.json', orient='records')"
   ]
  }
 ],
 "metadata": {
  "kernelspec": {
   "display_name": "Python 3",
   "language": "python",
   "name": "python3"
  },
  "language_info": {
   "codemirror_mode": {
    "name": "ipython",
    "version": 3
   },
   "file_extension": ".py",
   "mimetype": "text/x-python",
   "name": "python",
   "nbconvert_exporter": "python",
   "pygments_lexer": "ipython3",
   "version": "3.9.0"
  }
 },
 "nbformat": 4,
 "nbformat_minor": 5
}
