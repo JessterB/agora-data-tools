{
 "cells": [
  {
   "cell_type": "code",
   "execution_count": 93,
   "id": "6c10cc29",
   "metadata": {},
   "outputs": [],
   "source": [
    "import synapseclient\n",
    "import pandas as pd\n",
    "from numpy import NaN"
   ]
  },
  {
   "cell_type": "code",
   "execution_count": 94,
   "id": "569d5f70",
   "metadata": {},
   "outputs": [],
   "source": [
    "syn = synapseclient.Synapse()\n",
    "syn.login(silent=True)"
   ]
  },
  {
   "cell_type": "code",
   "execution_count": 95,
   "id": "03e7fcda",
   "metadata": {},
   "outputs": [],
   "source": [
    "gene_info = 'syn25953363'\n",
    "igap = 'syn12514826' \n",
    "eqtl = 'syn12514912'\n",
    "brain_expression_change = 'syn11914808'\n",
    "rna_change = 'syn14237651'\n",
    "\n",
    "gene_info = syn.get(gene_info)\n",
    "igap = syn.get(igap)\n",
    "eqtl = syn.get(eqtl)\n",
    "brain_expression_change = syn.get(brain_expression_change)\n",
    "rna_change = syn.get(rna_change)\n",
    "\n",
    "gene_info = pd.read_feather(gene_info.path)\n",
    "igap = pd.read_csv(igap.path)\n",
    "eqtl = pd.read_csv(eqtl.path)\n",
    "brain_expression_change = pd.read_csv(brain_expression_change.path, sep='\\t')\n",
    "rna_change = pd.read_csv(rna_change.path, sep='\\t')"
   ]
  },
  {
   "cell_type": "markdown",
   "id": "718872c9",
   "metadata": {},
   "source": [
    "Prepare gene_info to remove duplicate ensembl_gene_ids (this should take 5 or 6 minutes):"
   ]
  },
  {
   "cell_type": "code",
   "execution_count": 96,
   "id": "637655f7",
   "metadata": {},
   "outputs": [
    {
     "name": "stdout",
     "output_type": "stream",
     "text": [
      "(56742, 9)\n",
      "(56740, 3)\n"
     ]
    }
   ],
   "source": [
    "print(gene_info.shape)\n",
    "gene_info = gene_info[['ensembl_gene_id', 'symbol', '_version']]\n",
    "gene_info = gene_info.groupby('ensembl_gene_id').apply(lambda x: x.nlargest(1, \"_version\")).reset_index(drop=True)\n",
    "print(gene_info.shape)\n",
    "\n",
    "gene_info = gene_info['ensembl_gene_id']"
   ]
  },
  {
   "cell_type": "markdown",
   "id": "f44a1792",
   "metadata": {},
   "source": [
    "Create gene_metadata dataset by joining gene_info with the others.  First is igap:"
   ]
  },
  {
   "cell_type": "code",
   "execution_count": 97,
   "id": "b208aaff",
   "metadata": {},
   "outputs": [
    {
     "data": {
      "text/plain": [
       "False    56715\n",
       "True        25\n",
       "Name: igap, dtype: int64"
      ]
     },
     "execution_count": 97,
     "metadata": {},
     "output_type": "execute_result"
    }
   ],
   "source": [
    "gene_metadata = pd.merge(left = gene_info, right=igap, how='left', on='ensembl_gene_id')\n",
    "gene_metadata['igap'] = gene_metadata.apply(lambda row: False if row['hgnc_symbol'] is NaN else True, axis=1)\n",
    "gene_metadata['igap'].fillna(False, inplace=True)\n",
    "gene_metadata = gene_metadata[['ensembl_gene_id', 'igap']]\n",
    "gene_metadata['igap'].value_counts()"
   ]
  },
  {
   "cell_type": "markdown",
   "id": "d6f46bef",
   "metadata": {},
   "source": [
    "Join eqtl to the gene_metadata table:"
   ]
  },
  {
   "cell_type": "code",
   "execution_count": 98,
   "id": "0de1b210",
   "metadata": {},
   "outputs": [
    {
     "data": {
      "text/plain": [
       "False    38412\n",
       "True     18328\n",
       "Name: eqtl, dtype: int64"
      ]
     },
     "execution_count": 98,
     "metadata": {},
     "output_type": "execute_result"
    }
   ],
   "source": [
    "gene_metadata = pd.merge(left = gene_metadata, right=eqtl, how='left', on='ensembl_gene_id')\n",
    "gene_metadata = gene_metadata[['ensembl_gene_id', 'igap', 'hasEqtl']]\n",
    "gene_metadata.rename(columns={'hasEqtl':'eqtl'}, inplace=True)\n",
    "gene_metadata['eqtl'] = gene_metadata['eqtl'].replace({'TRUE': True}).fillna(False)\n",
    "gene_metadata['eqtl'].value_counts()"
   ]
  },
  {
   "cell_type": "markdown",
   "id": "8d3ed333",
   "metadata": {},
   "source": [
    "This is the current state of the table: ['ensembl_gene_id', 'igap', 'eqtl']\n",
    "Next we add brain_expression_data to it."
   ]
  },
  {
   "cell_type": "code",
   "execution_count": 99,
   "id": "038db80d",
   "metadata": {},
   "outputs": [
    {
     "data": {
      "text/plain": [
       "False    52970\n",
       "True      3770\n",
       "Name: ad_brain_change, dtype: int64"
      ]
     },
     "execution_count": 99,
     "metadata": {},
     "output_type": "execute_result"
    }
   ],
   "source": [
    "ad_brain_change_threshold = 0.05\n",
    "\n",
    "gene_metadata = pd.merge(left = gene_metadata, right=brain_expression_change, how='left', on='ensembl_gene_id')\n",
    "gene_metadata = gene_metadata[['ensembl_gene_id', 'igap', 'eqtl', 'fdr.random']]\n",
    "gene_metadata['ad_brain_change'] = gene_metadata.apply(lambda row: True if row['fdr.random'] <= ad_brain_change_threshold else False, axis=1)\n",
    "gene_metadata['ad_brain_change'].value_counts()"
   ]
  },
  {
   "cell_type": "markdown",
   "id": "ab651aa7",
   "metadata": {},
   "source": []
  }
 ],
 "metadata": {
  "kernelspec": {
   "display_name": "Python 3",
   "language": "python",
   "name": "python3"
  },
  "language_info": {
   "codemirror_mode": {
    "name": "ipython",
    "version": 3
   },
   "file_extension": ".py",
   "mimetype": "text/x-python",
   "name": "python",
   "nbconvert_exporter": "python",
   "pygments_lexer": "ipython3",
   "version": "3.9.0"
  }
 },
 "nbformat": 4,
 "nbformat_minor": 5
}
