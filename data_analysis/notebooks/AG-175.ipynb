{
 "cells": [
  {
   "cell_type": "markdown",
   "id": "8d301f83",
   "metadata": {},
   "source": [
    "Generating a smaller dataset for Emma to generate the supertable."
   ]
  },
  {
   "cell_type": "code",
   "execution_count": 10,
   "id": "5d58fcac",
   "metadata": {},
   "outputs": [
    {
     "name": "stdout",
     "output_type": "stream",
     "text": [
      "Welcome, Matthew Fazza!\n",
      "\n",
      "(457436, 10)\n",
      "Index(['ensembl_gene_id', 'hgnc_symbol', 'logfc', 'fc', 'ci_l', 'ci_r',\n",
      "       'adj_p_val', 'tissue', 'study', 'model'],\n",
      "      dtype='object')\n",
      "(693, 13)\n",
      "Index(['Source', 'Team', 'Rank', 'ensembl_gene_id', 'hgnc_symbol',\n",
      "       'Target_Choice_Justification', 'Predicted_Therapeutic_Direction',\n",
      "       'Data_used_to_support_target_selection', 'data_synapseID', 'study',\n",
      "       'input_data', 'Validation study details', 'initial_nomination'],\n",
      "      dtype='object')\n"
     ]
    }
   ],
   "source": [
    "import pandas as pd\n",
    "import synapseclient\n",
    "\n",
    "syn = synapseclient.Synapse()\n",
    "syn.login()\n",
    "\n",
    "full_rna = syn.get('syn25999238')\n",
    "full_rna = pd.read_json(full_rna.path, orient='records')\n",
    "\n",
    "targets = syn.get('syn12540368')\n",
    "targets = pd.read_csv(targets.path)\n",
    "\n",
    "print(full_rna.shape)\n",
    "print(full_rna.columns)\n",
    "print(targets.shape)\n",
    "print(targets.columns)"
   ]
  },
  {
   "cell_type": "code",
   "execution_count": 11,
   "id": "edaf7ffa",
   "metadata": {},
   "outputs": [
    {
     "data": {
      "text/plain": [
       "(239, 13)"
      ]
     },
     "execution_count": 11,
     "metadata": {},
     "output_type": "execute_result"
    }
   ],
   "source": [
    "targets = targets[targets['Validation study details'] != 'not prioritized for experimental validation']\n",
    "targets = targets[['emnsembl_gene_id', 'hgnc_symbol']]\n",
    "targets.shape"
   ]
  },
  {
   "cell_type": "code",
   "execution_count": 14,
   "id": "b8a4ea36",
   "metadata": {},
   "outputs": [
    {
     "data": {
      "text/plain": [
       "(5336, 10)"
      ]
     },
     "execution_count": 14,
     "metadata": {},
     "output_type": "execute_result"
    }
   ],
   "source": [
    "selected_rna = full_rna[full_rna['ensembl_gene_id'].isin(targets['ensembl_gene_id']) & full_rna['hgnc_symbol'].isin(targets['hgnc_symbol'])]\n",
    "selected_rna.shape"
   ]
  },
  {
   "cell_type": "code",
   "execution_count": 17,
   "id": "6acc02e9",
   "metadata": {},
   "outputs": [],
   "source": [
    "selected_rna.to_json('./prioritized_targets_rna.json', orient='records')"
   ]
  }
 ],
 "metadata": {
  "kernelspec": {
   "display_name": "Python 3",
   "language": "python",
   "name": "python3"
  },
  "language_info": {
   "codemirror_mode": {
    "name": "ipython",
    "version": 3
   },
   "file_extension": ".py",
   "mimetype": "text/x-python",
   "name": "python",
   "nbconvert_exporter": "python",
   "pygments_lexer": "ipython3",
   "version": "3.9.0"
  }
 },
 "nbformat": 4,
 "nbformat_minor": 5
}
