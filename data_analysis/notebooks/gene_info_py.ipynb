{
 "cells": [
  {
   "cell_type": "code",
   "execution_count": 1,
   "metadata": {
    "pycharm": {
     "name": "#%%\n"
    }
   },
   "outputs": [],
   "source": [
    "from os import name\n",
    "import pandas as pd\n",
    "import mygene\n",
    "import numpy as np\n",
    "\n",
    "flat_file_url = \"https://gist.github.com/kdaily/2ed85e0dd3048fea8424b40243ddfa1c/raw/420086bd941962df66992667972c13462e504cc6/gencode.v24.primary_assembly.refFlat.txt\""
   ]
  },
  {
   "cell_type": "markdown",
   "metadata": {
    "pycharm": {
     "name": "#%% md\n"
    }
   },
   "source": [
    "Agora uses one particular dataset that historically has been packed as part of an RData file.  Since finding the original\n",
    "code used to generate gene_info.RData, I realized that code cannot be run.  It rellies on the presence of a couple of\n",
    "columns that come from the mygene package in BioConductor.  This notebook is the most faithful reproduction of that data\n",
    "workflow in order to generate an interoperable file corresponding to the one we haver been using in Agora for a long time.\n",
    "\n",
    "This is the provenance of gene_info.feather.\n",
    "\n",
    "The next cell contains the set-up required to run the notebook:"
   ]
  },
  {
   "cell_type": "markdown",
   "metadata": {
    "pycharm": {
     "name": "#%% md\n"
    }
   },
   "source": [
    "The first step is to read the raw data into a pandas dataframe and make sure the names are standardized.  The result we\n",
    "get is a Pandas Series that needs to be converted in a dataframe."
   ]
  },
  {
   "cell_type": "code",
   "execution_count": 2,
   "metadata": {
    "pycharm": {
     "is_executing": true,
     "name": "#%%\n"
    }
   },
   "outputs": [
    {
     "data": {
      "text/plain": [
       "(60725, 1)"
      ]
     },
     "execution_count": 2,
     "metadata": {},
     "output_type": "execute_result"
    }
   ],
   "source": [
    "gene_table = pd.read_csv(flat_file_url, sep='\\t', header=None, usecols=[0], names=['ensembl_gene_id'])\n",
    "gene_table = gene_table[\"ensembl_gene_id\"].replace(\"\\\\..*\", \"\", regex=True).drop_duplicates()\n",
    "\n",
    "gene_table = pd.DataFrame(gene_table)\n",
    "gene_table.columns = ['ensembl_gene_id']\n",
    "\n",
    "gene_table.shape # should be the same as the R counterpart"
   ]
  },
  {
   "cell_type": "markdown",
   "metadata": {},
   "source": [
    "Next, we must fetch the data from the BioConductor Package in order to retrieve a few key fields.  Interestingly, the\n",
    "field X_Score - a measurement of how well the search algorithm did in finding this gene- is not present anymore.  Feel\n",
    "free to modify the query to include that field and verify it for yourself.\n",
    "\n",
    "*\"query\" is the name of the index and needs to be named \"ensembl_gene_id\"."
   ]
  },
  {
   "cell_type": "code",
   "execution_count": 3,
   "metadata": {
    "pycharm": {
     "is_executing": true,
     "name": "#%%\n"
    }
   },
   "outputs": [
    {
     "name": "stdout",
     "output_type": "stream",
     "text": [
      "querying 1-1000...done.\n",
      "querying 1001-2000...done.\n",
      "querying 2001-3000...done.\n",
      "querying 3001-4000...done.\n",
      "querying 4001-5000...done.\n",
      "querying 5001-6000...done.\n",
      "querying 6001-7000...done.\n",
      "querying 7001-8000...done.\n",
      "querying 8001-9000...done.\n",
      "querying 9001-10000...done.\n",
      "querying 10001-11000...done.\n",
      "querying 11001-12000...done.\n",
      "querying 12001-13000...done.\n",
      "querying 13001-14000...done.\n",
      "querying 14001-15000...done.\n",
      "querying 15001-16000...done.\n",
      "querying 16001-17000...done.\n",
      "querying 17001-18000...done.\n",
      "querying 18001-19000...done.\n",
      "querying 19001-20000...done.\n",
      "querying 20001-21000...done.\n",
      "querying 21001-22000...done.\n",
      "querying 22001-23000...done.\n",
      "querying 23001-24000...done.\n",
      "querying 24001-25000...done.\n",
      "querying 25001-26000...done.\n",
      "querying 26001-27000...done.\n",
      "querying 27001-28000...done.\n",
      "querying 28001-29000...done.\n",
      "querying 29001-30000...done.\n",
      "querying 30001-31000...done.\n",
      "querying 31001-32000...done.\n",
      "querying 32001-33000...done.\n",
      "querying 33001-34000...done.\n",
      "querying 34001-35000...done.\n",
      "querying 35001-36000...done.\n",
      "querying 36001-37000...done.\n",
      "querying 37001-38000...done.\n",
      "querying 38001-39000...done.\n",
      "querying 39001-40000...done.\n",
      "querying 40001-41000...done.\n",
      "querying 41001-42000...done.\n",
      "querying 42001-43000...done.\n",
      "querying 43001-44000...done.\n",
      "querying 44001-45000...done.\n",
      "querying 45001-46000...done.\n",
      "querying 46001-47000...done.\n",
      "querying 47001-48000...done.\n",
      "querying 48001-49000...done.\n",
      "querying 49001-50000...done.\n",
      "querying 50001-51000...done.\n",
      "querying 51001-52000...done.\n",
      "querying 52001-53000...done.\n",
      "querying 53001-54000...done.\n",
      "querying 54001-55000...done.\n",
      "querying 55001-56000...done.\n",
      "querying 56001-57000...done.\n",
      "querying 57001-58000...done.\n",
      "querying 58001-59000...done.\n",
      "querying 59001-60000...done.\n",
      "querying 60001-60725...done.\n"
     ]
    },
    {
     "data": {
      "text/html": [
       "<div>\n",
       "<style scoped>\n",
       "    .dataframe tbody tr th:only-of-type {\n",
       "        vertical-align: middle;\n",
       "    }\n",
       "\n",
       "    .dataframe tbody tr th {\n",
       "        vertical-align: top;\n",
       "    }\n",
       "\n",
       "    .dataframe thead th {\n",
       "        text-align: right;\n",
       "    }\n",
       "</style>\n",
       "<table border=\"1\" class=\"dataframe\">\n",
       "  <thead>\n",
       "    <tr style=\"text-align: right;\">\n",
       "      <th></th>\n",
       "      <th>_id</th>\n",
       "      <th>_version</th>\n",
       "      <th>name</th>\n",
       "      <th>symbol</th>\n",
       "      <th>type_of_gene</th>\n",
       "      <th>summary</th>\n",
       "      <th>notfound</th>\n",
       "    </tr>\n",
       "    <tr>\n",
       "      <th>ensembl_gene_id</th>\n",
       "      <th></th>\n",
       "      <th></th>\n",
       "      <th></th>\n",
       "      <th></th>\n",
       "      <th></th>\n",
       "      <th></th>\n",
       "      <th></th>\n",
       "    </tr>\n",
       "  </thead>\n",
       "  <tbody>\n",
       "    <tr>\n",
       "      <th>ENSG00000223972</th>\n",
       "      <td>100287102</td>\n",
       "      <td>1.0</td>\n",
       "      <td>DEAD/H-box helicase 11 like 1 (pseudogene)</td>\n",
       "      <td>DDX11L1</td>\n",
       "      <td>pseudo</td>\n",
       "      <td>NaN</td>\n",
       "      <td>NaN</td>\n",
       "    </tr>\n",
       "    <tr>\n",
       "      <th>ENSG00000227232</th>\n",
       "      <td>653635</td>\n",
       "      <td>1.0</td>\n",
       "      <td>WASP family homolog 7, pseudogene</td>\n",
       "      <td>WASH7P</td>\n",
       "      <td>pseudo</td>\n",
       "      <td>NaN</td>\n",
       "      <td>NaN</td>\n",
       "    </tr>\n",
       "    <tr>\n",
       "      <th>ENSG00000278267</th>\n",
       "      <td>102466751</td>\n",
       "      <td>1.0</td>\n",
       "      <td>microRNA 6859-1</td>\n",
       "      <td>MIR6859-1</td>\n",
       "      <td>ncRNA</td>\n",
       "      <td>microRNAs (miRNAs) are short (20-24 nt) non-co...</td>\n",
       "      <td>NaN</td>\n",
       "    </tr>\n",
       "    <tr>\n",
       "      <th>ENSG00000243485</th>\n",
       "      <td>ENSG00000243485</td>\n",
       "      <td>1.0</td>\n",
       "      <td>MIR1302-2 host gene</td>\n",
       "      <td>MIR1302-2HG</td>\n",
       "      <td>NaN</td>\n",
       "      <td>NaN</td>\n",
       "      <td>NaN</td>\n",
       "    </tr>\n",
       "    <tr>\n",
       "      <th>ENSG00000274890</th>\n",
       "      <td>NaN</td>\n",
       "      <td>NaN</td>\n",
       "      <td>NaN</td>\n",
       "      <td>NaN</td>\n",
       "      <td>NaN</td>\n",
       "      <td>NaN</td>\n",
       "      <td>True</td>\n",
       "    </tr>\n",
       "  </tbody>\n",
       "</table>\n",
       "</div>"
      ],
      "text/plain": [
       "                             _id  _version  \\\n",
       "ensembl_gene_id                              \n",
       "ENSG00000223972        100287102       1.0   \n",
       "ENSG00000227232           653635       1.0   \n",
       "ENSG00000278267        102466751       1.0   \n",
       "ENSG00000243485  ENSG00000243485       1.0   \n",
       "ENSG00000274890              NaN       NaN   \n",
       "\n",
       "                                                       name       symbol  \\\n",
       "ensembl_gene_id                                                            \n",
       "ENSG00000223972  DEAD/H-box helicase 11 like 1 (pseudogene)      DDX11L1   \n",
       "ENSG00000227232           WASP family homolog 7, pseudogene       WASH7P   \n",
       "ENSG00000278267                             microRNA 6859-1    MIR6859-1   \n",
       "ENSG00000243485                         MIR1302-2 host gene  MIR1302-2HG   \n",
       "ENSG00000274890                                         NaN          NaN   \n",
       "\n",
       "                type_of_gene  \\\n",
       "ensembl_gene_id                \n",
       "ENSG00000223972       pseudo   \n",
       "ENSG00000227232       pseudo   \n",
       "ENSG00000278267        ncRNA   \n",
       "ENSG00000243485          NaN   \n",
       "ENSG00000274890          NaN   \n",
       "\n",
       "                                                           summary notfound  \n",
       "ensembl_gene_id                                                              \n",
       "ENSG00000223972                                                NaN      NaN  \n",
       "ENSG00000227232                                                NaN      NaN  \n",
       "ENSG00000278267  microRNAs (miRNAs) are short (20-24 nt) non-co...      NaN  \n",
       "ENSG00000243485                                                NaN      NaN  \n",
       "ENSG00000274890                                                NaN     True  "
      ]
     },
     "execution_count": 3,
     "metadata": {},
     "output_type": "execute_result"
    }
   ],
   "source": [
    "mg = mygene.MyGeneInfo()\n",
    "bioconductor_gene_info = mg.getgenes(gene_table['ensembl_gene_id'], fields=[\"symbol\", \"name\", \"summary\", \"type_of_gene\"], as_dataframe=True)\n",
    "bioconductor_gene_info.index.rename(\"ensembl_gene_id\", inplace=True)\n",
    "bioconductor_gene_info.head()"
   ]
  },
  {
   "cell_type": "markdown",
   "metadata": {},
   "source": [
    "We join, and then stardardize our datasets:"
   ]
  },
  {
   "cell_type": "code",
   "execution_count": 4,
   "metadata": {
    "pycharm": {
     "is_executing": true,
     "name": "#%%\n"
    }
   },
   "outputs": [
    {
     "name": "stderr",
     "output_type": "stream",
     "text": [
      "<ipython-input-4-73abb1f902c2>:2: FutureWarning: The default value of regex will change from True to False in a future version.\n",
      "  gene_table_merged.columns = gene_table_merged.columns.str.replace(\"[#,@,&,*,^,?,(,),%,$,#,!,/]\", \"\")\n",
      "<ipython-input-4-73abb1f902c2>:3: FutureWarning: The default value of regex will change from True to False in a future version.\n",
      "  gene_table_merged.columns = gene_table_merged.columns.str.replace(\"[' ', '-', '.']\", \"_\")\n"
     ]
    },
    {
     "data": {
      "text/plain": [
       "(60727, 8)"
      ]
     },
     "execution_count": 4,
     "metadata": {},
     "output_type": "execute_result"
    }
   ],
   "source": [
    "gene_table_merged = pd.merge(left=gene_table, right=bioconductor_gene_info, how='left', on=\"ensembl_gene_id\")\n",
    "gene_table_merged.columns = gene_table_merged.columns.str.replace(\"[#,@,&,*,^,?,(,),%,$,#,!,/]\", \"\")\n",
    "gene_table_merged.columns = gene_table_merged.columns.str.replace(\"[' ', '-', '.']\", \"_\")\n",
    "gene_table_merged.columns = map(str.lower, gene_table_merged.columns)\n",
    "\n",
    "\n",
    "# the next two lines would be relevant if we wanted to bring in the go.MF field.  Since we do not, they're commented out.  Older datasets should still contain them, so I'm providing the logic in case you see those.\n",
    "# gene_table_merged[\"go_mf\"] = gene_table_merged[\"go_mf\"].fillna('').astype(str)\n",
    "# gene_table_merged[\"go_mf_pubmed\"] = gene_table_merged[\"go_mf_pubmed\"].fillna(np.nan).apply(lambda x: x if type(x) is None or type(x) is list else [x])\n",
    "\n",
    "gene_table_merged.shape"
   ]
  },
  {
   "cell_type": "markdown",
   "metadata": {},
   "source": [
    "It's important that we check the values here.  We expect the index to be populated for every row (in other words, it should match the row count of the previous cell), while missing values on the other columns are expected.  The 'notfound' column should be an indicator that querying for that particular gene yielded no result.  Therefore, columns used for internal purposes (the ones starting in underscore) should contain the same number of missing values."
   ]
  },
  {
   "cell_type": "code",
   "execution_count": 5,
   "metadata": {},
   "outputs": [
    {
     "name": "stdout",
     "output_type": "stream",
     "text": [
      "Missing values from ensembl_gene_id: 0\n",
      "Missing values from _id: 3985\n",
      "Missing values from _version: 3985\n",
      "Missing values from name: 20166\n",
      "Missing values from symbol: 20166\n",
      "Missing values from type_of_gene: 35887\n",
      "Missing values from summary: 46423\n",
      "Missing values from notfound: 56742\n"
     ]
    },
    {
     "data": {
      "text/plain": [
       "(3985, 8)"
      ]
     },
     "execution_count": 5,
     "metadata": {},
     "output_type": "execute_result"
    }
   ],
   "source": [
    "for col in gene_table_merged.columns:\n",
    "    print(\"Missing values from \" + col + \": \" + str(gene_table_merged[col].isna().sum()))\n",
    "    \n",
    "not_found = gene_table_merged[gene_table_merged['notfound'].notna()]\n",
    "not_found.shape"
   ]
  },
  {
   "cell_type": "markdown",
   "metadata": {
    "pycharm": {
     "is_executing": true
    }
   },
   "source": [
    "Most importantly, we would like to make sure that there's no information in the other columns every time 'notfound' is True.  That will ensure the cleanliness of the dataset."
   ]
  },
  {
   "cell_type": "code",
   "execution_count": 6,
   "metadata": {
    "pycharm": {
     "is_executing": true
    }
   },
   "outputs": [
    {
     "name": "stdout",
     "output_type": "stream",
     "text": [
      "0\n",
      "0\n",
      "0\n",
      "0\n"
     ]
    }
   ],
   "source": [
    "interesting_columns = [col for col in not_found.columns if '_' not in col[0]] # all columns that don't start with _\n",
    "interesting_columns.remove('ensembl_gene_id')\n",
    "interesting_columns.remove('notfound')\n",
    "\n",
    "for col in interesting_columns:\n",
    "    print(not_found[not_found[col].notna()].shape[0])"
   ]
  },
  {
   "cell_type": "markdown",
   "metadata": {},
   "source": [
    "Lastly, we can confidently remove the values where notfound is true, and write our feather file:"
   ]
  },
  {
   "cell_type": "code",
   "execution_count": 7,
   "metadata": {
    "pycharm": {
     "is_executing": true,
     "name": "#%%\n"
    }
   },
   "outputs": [],
   "source": [
    "gene_table_merged_py = gene_table_merged.copy() # this copy gets used for analysis in the ./comparisson.ipynb file\n",
    "gene_table_merged = gene_table_merged[gene_table_merged['notfound'].isnull()].reset_index()\n",
    "\n",
    "gene_table_merged_py.to_feather('../output/gene_table_merged_py.feather')\n",
    "gene_table_merged.to_feather('../output/gene_table_merged.feather')"
   ]
  },
  {
   "cell_type": "code",
   "execution_count": null,
   "metadata": {},
   "outputs": [],
   "source": []
  }
 ],
 "metadata": {
  "kernelspec": {
   "display_name": "Python 3",
   "language": "python",
   "name": "python3"
  },
  "language_info": {
   "codemirror_mode": {
    "name": "ipython",
    "version": 3
   },
   "file_extension": ".py",
   "mimetype": "text/x-python",
   "name": "python",
   "nbconvert_exporter": "python",
   "pygments_lexer": "ipython3",
   "version": "3.9.0"
  }
 },
 "nbformat": 4,
 "nbformat_minor": 1
}
