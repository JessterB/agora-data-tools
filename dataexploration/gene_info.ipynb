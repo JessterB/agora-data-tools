{
 "cells": [
  {
   "cell_type": "code",
   "execution_count": 1,
   "metadata": {
    "pycharm": {
     "name": "#%%\n"
    }
   },
   "outputs": [],
   "source": [
    "from os import name\n",
    "import pandas as pd\n",
    "import mygene\n",
    "import numpy as np\n",
    "\n",
    "flat_file_url = \"https://gist.github.com/kdaily/2ed85e0dd3048fea8424b40243ddfa1c/raw/420086bd941962df66992667972c13462e504cc6/gencode.v24.primary_assembly.refFlat.txt\""
   ]
  },
  {
   "cell_type": "markdown",
   "metadata": {
    "pycharm": {
     "name": "#%% md\n"
    }
   },
   "source": [
    "Agora uses one particular dataset that historically has been packed as part of an RData file.  Since finding the original\n",
    "code used to generate gene_info.RData, I realized that code cannot be run.  It rellies on the presence of a couple of\n",
    "columns that come from the mygene package in BioConductor.  This notebook is the most faithful reproduction of that data\n",
    "workflow in order to generate an interoperable file corresponding to the one we haver been using in Agora for a long time.\n",
    "\n",
    "This is the provenance of gene_info.feather.\n",
    "\n",
    "The next cell contains the set-up required to run the notebook:"
   ]
  },
  {
   "cell_type": "markdown",
   "metadata": {
    "pycharm": {
     "name": "#%% md\n"
    }
   },
   "source": [
    "The first step is to read the raw data into a pandas dataframe and make sure the names are standardized.  The result we\n",
    "get is a Pandas Series that needs to be converted in a dataframe."
   ]
  },
  {
   "cell_type": "code",
   "execution_count": 2,
   "metadata": {
    "pycharm": {
     "name": "#%%\n"
    }
   },
   "outputs": [
    {
     "data": {
      "text/plain": [
       "(60725, 1)"
      ]
     },
     "execution_count": 2,
     "metadata": {},
     "output_type": "execute_result"
    }
   ],
   "source": [
    "gene_table = pd.read_csv(flat_file_url, sep='\\t', header=None, usecols=[0], names=['ensembl_gene_id'])\n",
    "gene_table = gene_table[\"ensembl_gene_id\"].replace(\"\\\\..*\", \"\", regex=True).drop_duplicates()\n",
    "\n",
    "gene_table = pd.DataFrame(gene_table)\n",
    "gene_table.columns = ['ensembl_gene_id']\n",
    "\n",
    "gene_table.shape # should be the same as the R counterpart"
   ]
  },
  {
   "cell_type": "markdown",
   "metadata": {},
   "source": [
    "Next, we must fetch the data from the BioConductor Package in order to retrieve a few key fields.  Interestingly, the\n",
    "field X_Score - a measurement of how well the search algorithm did in finding this gene- is not present anymore.  Feel\n",
    "free to modify the query to include that field and verify it for yourself.\n",
    "\n",
    "*\"query\" is the name of the index and needs to be named \"ensembl_gene_id\"."
   ]
  },
  {
   "cell_type": "code",
   "execution_count": null,
   "metadata": {
    "pycharm": {
     "name": "#%%\n"
    }
   },
   "outputs": [
    {
     "name": "stdout",
     "output_type": "stream",
     "text": [
      "querying 1-1000...done.\n",
      "querying 1001-2000...done.\n",
      "querying 2001-3000...done.\n",
      "querying 3001-4000...done.\n",
      "querying 4001-5000...done.\n",
      "querying 5001-6000...done.\n",
      "querying 6001-7000...done.\n",
      "querying 7001-8000...done.\n",
      "querying 8001-9000...done.\n",
      "querying 9001-10000...done.\n",
      "querying 10001-11000...done.\n",
      "querying 11001-12000...done.\n",
      "querying 12001-13000...done.\n",
      "querying 13001-14000...done.\n",
      "querying 14001-15000...done.\n",
      "querying 15001-16000...done.\n",
      "querying 16001-17000...done.\n",
      "querying 17001-18000...done.\n",
      "querying 18001-19000...done.\n",
      "querying 19001-20000...done.\n",
      "querying 20001-21000...done.\n",
      "querying 21001-22000...done.\n",
      "querying 22001-23000...done.\n",
      "querying 23001-24000...done.\n",
      "querying 24001-25000...done.\n",
      "querying 25001-26000...done.\n",
      "querying 26001-27000...done.\n",
      "querying 27001-28000...done.\n",
      "querying 28001-29000...done.\n",
      "querying 29001-30000...done.\n",
      "querying 30001-31000...done.\n",
      "querying 31001-32000...done.\n",
      "querying 32001-33000...done.\n",
      "querying 33001-34000...done.\n",
      "querying 34001-35000...done.\n",
      "querying 35001-36000...done.\n",
      "querying 36001-37000...done.\n",
      "querying 37001-38000...done.\n",
      "querying 38001-39000...done.\n",
      "querying 39001-40000...done.\n",
      "querying 40001-41000...done.\n",
      "querying 41001-42000...done.\n",
      "querying 42001-43000..."
     ]
    }
   ],
   "source": [
    "mg = mygene.MyGeneInfo()\n",
    "bioconductor_gene_info = mg.getgenes(gene_table['ensembl_gene_id'], fields=[\"symbol\", \"name\", \"summary\", \"type_of_gene\", \"go.MF\"], as_dataframe=True)\n",
    "bioconductor_gene_info.index.rename(\"ensembl_gene_id\", inplace=True)\n",
    "bioconductor_gene_info.head()"
   ]
  },
  {
   "cell_type": "markdown",
   "metadata": {},
   "source": [
    "Lastly, we need to merge the two tables together and perform some validation on the values."
   ]
  },
  {
   "cell_type": "code",
   "execution_count": null,
   "metadata": {
    "pycharm": {
     "name": "#%%\n"
    }
   },
   "outputs": [],
   "source": [
    "gene_table_merged = pd.merge(left=gene_table, right=bioconductor_gene_info, how='left', on=\"ensembl_gene_id\")\n",
    "gene_table_merged.columns = gene_table_merged.columns.str.replace(\"[#,@,&,*,^,?,(,),%,$,#,!,/]\", \"\")\n",
    "gene_table_merged.columns = gene_table_merged.columns.str.replace(\"[' ', '-', '.']\", \"_\")\n",
    "gene_table_merged.columns = map(str.lower, gene_table_merged.columns)\n",
    "\n",
    "gene_table_merged[\"go_mf\"] = gene_table_merged[\"go_mf\"].fillna('').astype(str)\n",
    "gene_table_merged[\"go_mf_pubmed\"] = gene_table_merged[\"go_mf_pubmed\"].fillna(np.nan).apply(lambda x: x if type(x) is None or type(x) is list else [x])\n",
    "\n",
    "for col in gene_table_merged.columns:\n",
    "    print(\"Missing values from \" + col + \": \" + str(gene_table_merged[col].isna().sum()))\n",
    "\n",
    "gene_table_merged.shape"
   ]
  },
  {
   "cell_type": "markdown",
   "metadata": {},
   "source": [
    "Lastly, we save the gene_table_merged as a feather file:"
   ]
  },
  {
   "cell_type": "code",
   "execution_count": null,
   "metadata": {
    "pycharm": {
     "name": "#%%\n"
    }
   },
   "outputs": [],
   "source": [
    "gene_table_merged.to_feather('./gene_table_merged.feather')"
   ]
  }
 ],
 "metadata": {
  "kernelspec": {
   "display_name": "Python 3",
   "language": "python",
   "name": "python3"
  },
  "language_info": {
   "codemirror_mode": {
    "name": "ipython",
    "version": 3
   },
   "file_extension": ".py",
   "mimetype": "text/x-python",
   "name": "python",
   "nbconvert_exporter": "python",
   "pygments_lexer": "ipython3",
   "version": "3.9.0"
  }
 },
 "nbformat": 4,
 "nbformat_minor": 1
}